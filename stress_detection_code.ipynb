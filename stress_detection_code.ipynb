{
  "cells": [
    {
      "cell_type": "code",
      "execution_count": 97,
      "metadata": {
        "colab": {},
        "colab_type": "code",
        "id": "9XvKqi2JiLJo"
      },
      "outputs": [],
      "source": [
        "from sklearn.metrics import classification_report\n",
        "import numpy as np\n",
        "import pandas as pd\n",
        "import seaborn as sns\n",
        "import matplotlib.pyplot as plt \n",
        "from sklearn.model_selection import train_test_split\n",
        "from sklearn.preprocessing import StandardScaler \n",
        "from sklearn.decomposition import PCA\n",
        "from sklearn.neighbors import KNeighborsClassifier\n",
        "from sklearn.linear_model import LogisticRegression\n",
        "from sklearn.model_selection import train_test_split\n",
        "from sklearn import svm\n",
        "from sklearn import metrics\n",
        "from sklearn.metrics import confusion_matrix\n",
        "from sklearn.model_selection import cross_val_score\n",
        "from sklearn.metrics import matthews_corrcoef"
      ]
    },
    {
      "cell_type": "code",
      "execution_count": 98,
      "metadata": {
        "colab": {},
        "colab_type": "code",
        "id": "xGsK8gLKiLJu"
      },
      "outputs": [],
      "source": [
        "df=pd.read_csv(\"Stress_Quesstionaire.csv\")"
      ]
    },
    {
      "cell_type": "code",
      "execution_count": 99,
      "metadata": {
        "colab": {},
        "colab_type": "code",
        "id": "CiCZVnkhiLJy",
        "outputId": "862bad44-9b5f-42df-f1c7-7c0e542185f6"
      },
      "outputs": [
        {
          "data": {
            "text/html": [
              "<div>\n",
              "<style scoped>\n",
              "    .dataframe tbody tr th:only-of-type {\n",
              "        vertical-align: middle;\n",
              "    }\n",
              "\n",
              "    .dataframe tbody tr th {\n",
              "        vertical-align: top;\n",
              "    }\n",
              "\n",
              "    .dataframe thead th {\n",
              "        text-align: right;\n",
              "    }\n",
              "</style>\n",
              "<table border=\"1\" class=\"dataframe\">\n",
              "  <thead>\n",
              "    <tr style=\"text-align: right;\">\n",
              "      <th></th>\n",
              "      <th>Timestamp</th>\n",
              "      <th>Username</th>\n",
              "      <th>How often have you felt that you were unable to control the important things in your life?</th>\n",
              "      <th>How often have you felt that things were going your way?</th>\n",
              "      <th>How often have you been upset because of something that happened unexpectedly?</th>\n",
              "      <th>I find that I don't have time for my interests/hobbies outside of regular work.</th>\n",
              "      <th>How often have you been able to control irritations in your life?</th>\n",
              "      <th>How often have you found that you could not cope with all the things that you had to do?</th>\n",
              "      <th>How often do you get a full, restful night of sleep?</th>\n",
              "      <th>To what extent do you believe your life has purpose?</th>\n",
              "      <th>...</th>\n",
              "      <th>How often have you been angered because of things that were outside of your control?</th>\n",
              "      <th>How often do you feel fear of failure in any competitive scenario?</th>\n",
              "      <th>How often have you felt difficulties were piling up so high that you could not overcome them?</th>\n",
              "      <th>How often have you felt confident about your ability to handle your personal problems?</th>\n",
              "      <th>I experience mood swings, difficulty in making decisions, concentration and memory is impaired.</th>\n",
              "      <th>I frequently have guilt if I procrastinate tasks.</th>\n",
              "      <th>In comparison with other people, how likely are you to see others as threatening, uncooperative or exploitative?</th>\n",
              "      <th>How often are you confused about the intentions of others towards you?</th>\n",
              "      <th>Do you feel stressed about not having enough money to participate in the same activities as peers?</th>\n",
              "      <th>Do you feel stressed about not managing your time well to be productive enough?</th>\n",
              "    </tr>\n",
              "  </thead>\n",
              "  <tbody>\n",
              "    <tr>\n",
              "      <th>0</th>\n",
              "      <td>2019/08/30 8:42:54 PM GMT+5:30</td>\n",
              "      <td>shubhamgautam90@gmail.com</td>\n",
              "      <td>1</td>\n",
              "      <td>1</td>\n",
              "      <td>1</td>\n",
              "      <td>1</td>\n",
              "      <td>4</td>\n",
              "      <td>1</td>\n",
              "      <td>0</td>\n",
              "      <td>0</td>\n",
              "      <td>...</td>\n",
              "      <td>1</td>\n",
              "      <td>1</td>\n",
              "      <td>1</td>\n",
              "      <td>4</td>\n",
              "      <td>0</td>\n",
              "      <td>1</td>\n",
              "      <td>1</td>\n",
              "      <td>1</td>\n",
              "      <td>NaN</td>\n",
              "      <td>NaN</td>\n",
              "    </tr>\n",
              "    <tr>\n",
              "      <th>1</th>\n",
              "      <td>2019/08/30 9:39:32 PM GMT+5:30</td>\n",
              "      <td>NaN</td>\n",
              "      <td>3</td>\n",
              "      <td>2</td>\n",
              "      <td>4</td>\n",
              "      <td>2</td>\n",
              "      <td>2</td>\n",
              "      <td>2</td>\n",
              "      <td>1</td>\n",
              "      <td>2</td>\n",
              "      <td>...</td>\n",
              "      <td>3</td>\n",
              "      <td>3</td>\n",
              "      <td>3</td>\n",
              "      <td>3</td>\n",
              "      <td>2</td>\n",
              "      <td>2</td>\n",
              "      <td>1</td>\n",
              "      <td>3</td>\n",
              "      <td>3.0</td>\n",
              "      <td>2.0</td>\n",
              "    </tr>\n",
              "    <tr>\n",
              "      <th>2</th>\n",
              "      <td>2019/08/30 10:20:52 PM GMT+5:30</td>\n",
              "      <td>NaN</td>\n",
              "      <td>2</td>\n",
              "      <td>1</td>\n",
              "      <td>1</td>\n",
              "      <td>3</td>\n",
              "      <td>3</td>\n",
              "      <td>3</td>\n",
              "      <td>3</td>\n",
              "      <td>1</td>\n",
              "      <td>...</td>\n",
              "      <td>1</td>\n",
              "      <td>4</td>\n",
              "      <td>4</td>\n",
              "      <td>2</td>\n",
              "      <td>3</td>\n",
              "      <td>2</td>\n",
              "      <td>1</td>\n",
              "      <td>3</td>\n",
              "      <td>2.0</td>\n",
              "      <td>3.0</td>\n",
              "    </tr>\n",
              "    <tr>\n",
              "      <th>3</th>\n",
              "      <td>2019/08/30 10:22:52 PM GMT+5:30</td>\n",
              "      <td>NaN</td>\n",
              "      <td>3</td>\n",
              "      <td>0</td>\n",
              "      <td>3</td>\n",
              "      <td>3</td>\n",
              "      <td>0</td>\n",
              "      <td>3</td>\n",
              "      <td>2</td>\n",
              "      <td>1</td>\n",
              "      <td>...</td>\n",
              "      <td>3</td>\n",
              "      <td>4</td>\n",
              "      <td>3</td>\n",
              "      <td>2</td>\n",
              "      <td>3</td>\n",
              "      <td>4</td>\n",
              "      <td>3</td>\n",
              "      <td>3</td>\n",
              "      <td>1.0</td>\n",
              "      <td>3.0</td>\n",
              "    </tr>\n",
              "    <tr>\n",
              "      <th>4</th>\n",
              "      <td>2019/08/30 10:22:55 PM GMT+5:30</td>\n",
              "      <td>NaN</td>\n",
              "      <td>3</td>\n",
              "      <td>1</td>\n",
              "      <td>3</td>\n",
              "      <td>2</td>\n",
              "      <td>4</td>\n",
              "      <td>4</td>\n",
              "      <td>1</td>\n",
              "      <td>4</td>\n",
              "      <td>...</td>\n",
              "      <td>3</td>\n",
              "      <td>4</td>\n",
              "      <td>4</td>\n",
              "      <td>2</td>\n",
              "      <td>1</td>\n",
              "      <td>2</td>\n",
              "      <td>2</td>\n",
              "      <td>3</td>\n",
              "      <td>1.0</td>\n",
              "      <td>3.0</td>\n",
              "    </tr>\n",
              "    <tr>\n",
              "      <th>...</th>\n",
              "      <td>...</td>\n",
              "      <td>...</td>\n",
              "      <td>...</td>\n",
              "      <td>...</td>\n",
              "      <td>...</td>\n",
              "      <td>...</td>\n",
              "      <td>...</td>\n",
              "      <td>...</td>\n",
              "      <td>...</td>\n",
              "      <td>...</td>\n",
              "      <td>...</td>\n",
              "      <td>...</td>\n",
              "      <td>...</td>\n",
              "      <td>...</td>\n",
              "      <td>...</td>\n",
              "      <td>...</td>\n",
              "      <td>...</td>\n",
              "      <td>...</td>\n",
              "      <td>...</td>\n",
              "      <td>...</td>\n",
              "      <td>...</td>\n",
              "    </tr>\n",
              "    <tr>\n",
              "      <th>302</th>\n",
              "      <td>2019/10/02 11:45:53 AM GMT+5:30</td>\n",
              "      <td>NaN</td>\n",
              "      <td>0</td>\n",
              "      <td>3</td>\n",
              "      <td>0</td>\n",
              "      <td>4</td>\n",
              "      <td>0</td>\n",
              "      <td>3</td>\n",
              "      <td>0</td>\n",
              "      <td>3</td>\n",
              "      <td>...</td>\n",
              "      <td>3</td>\n",
              "      <td>3</td>\n",
              "      <td>0</td>\n",
              "      <td>4</td>\n",
              "      <td>0</td>\n",
              "      <td>4</td>\n",
              "      <td>0</td>\n",
              "      <td>4</td>\n",
              "      <td>3.0</td>\n",
              "      <td>2.0</td>\n",
              "    </tr>\n",
              "    <tr>\n",
              "      <th>303</th>\n",
              "      <td>2019/10/02 11:46:02 AM GMT+5:30</td>\n",
              "      <td>NaN</td>\n",
              "      <td>4</td>\n",
              "      <td>3</td>\n",
              "      <td>1</td>\n",
              "      <td>4</td>\n",
              "      <td>1</td>\n",
              "      <td>4</td>\n",
              "      <td>4</td>\n",
              "      <td>4</td>\n",
              "      <td>...</td>\n",
              "      <td>4</td>\n",
              "      <td>1</td>\n",
              "      <td>4</td>\n",
              "      <td>2</td>\n",
              "      <td>3</td>\n",
              "      <td>1</td>\n",
              "      <td>3</td>\n",
              "      <td>1</td>\n",
              "      <td>4.0</td>\n",
              "      <td>3.0</td>\n",
              "    </tr>\n",
              "    <tr>\n",
              "      <th>304</th>\n",
              "      <td>2019/10/02 11:46:15 AM GMT+5:30</td>\n",
              "      <td>NaN</td>\n",
              "      <td>3</td>\n",
              "      <td>3</td>\n",
              "      <td>3</td>\n",
              "      <td>3</td>\n",
              "      <td>4</td>\n",
              "      <td>3</td>\n",
              "      <td>3</td>\n",
              "      <td>3</td>\n",
              "      <td>...</td>\n",
              "      <td>3</td>\n",
              "      <td>4</td>\n",
              "      <td>3</td>\n",
              "      <td>3</td>\n",
              "      <td>3</td>\n",
              "      <td>4</td>\n",
              "      <td>3</td>\n",
              "      <td>0</td>\n",
              "      <td>4.0</td>\n",
              "      <td>2.0</td>\n",
              "    </tr>\n",
              "    <tr>\n",
              "      <th>305</th>\n",
              "      <td>2019/10/02 11:46:33 AM GMT+5:30</td>\n",
              "      <td>NaN</td>\n",
              "      <td>4</td>\n",
              "      <td>3</td>\n",
              "      <td>1</td>\n",
              "      <td>4</td>\n",
              "      <td>1</td>\n",
              "      <td>3</td>\n",
              "      <td>1</td>\n",
              "      <td>4</td>\n",
              "      <td>...</td>\n",
              "      <td>4</td>\n",
              "      <td>3</td>\n",
              "      <td>1</td>\n",
              "      <td>3</td>\n",
              "      <td>2</td>\n",
              "      <td>3</td>\n",
              "      <td>2</td>\n",
              "      <td>3</td>\n",
              "      <td>2.0</td>\n",
              "      <td>3.0</td>\n",
              "    </tr>\n",
              "    <tr>\n",
              "      <th>306</th>\n",
              "      <td>2019/10/02 11:46:39 AM GMT+5:30</td>\n",
              "      <td>NaN</td>\n",
              "      <td>2</td>\n",
              "      <td>3</td>\n",
              "      <td>0</td>\n",
              "      <td>3</td>\n",
              "      <td>0</td>\n",
              "      <td>3</td>\n",
              "      <td>1</td>\n",
              "      <td>2</td>\n",
              "      <td>...</td>\n",
              "      <td>2</td>\n",
              "      <td>4</td>\n",
              "      <td>3</td>\n",
              "      <td>3</td>\n",
              "      <td>1</td>\n",
              "      <td>4</td>\n",
              "      <td>1</td>\n",
              "      <td>4</td>\n",
              "      <td>0.0</td>\n",
              "      <td>3.0</td>\n",
              "    </tr>\n",
              "  </tbody>\n",
              "</table>\n",
              "<p>307 rows × 22 columns</p>\n",
              "</div>"
            ],
            "text/plain": [
              "                           Timestamp                   Username  \\\n",
              "0     2019/08/30 8:42:54 PM GMT+5:30  shubhamgautam90@gmail.com   \n",
              "1     2019/08/30 9:39:32 PM GMT+5:30                        NaN   \n",
              "2    2019/08/30 10:20:52 PM GMT+5:30                        NaN   \n",
              "3    2019/08/30 10:22:52 PM GMT+5:30                        NaN   \n",
              "4    2019/08/30 10:22:55 PM GMT+5:30                        NaN   \n",
              "..                               ...                        ...   \n",
              "302  2019/10/02 11:45:53 AM GMT+5:30                        NaN   \n",
              "303  2019/10/02 11:46:02 AM GMT+5:30                        NaN   \n",
              "304  2019/10/02 11:46:15 AM GMT+5:30                        NaN   \n",
              "305  2019/10/02 11:46:33 AM GMT+5:30                        NaN   \n",
              "306  2019/10/02 11:46:39 AM GMT+5:30                        NaN   \n",
              "\n",
              "     How often have you felt that you were unable to control the important things in your life?  \\\n",
              "0                                                    1                                            \n",
              "1                                                    3                                            \n",
              "2                                                    2                                            \n",
              "3                                                    3                                            \n",
              "4                                                    3                                            \n",
              "..                                                 ...                                            \n",
              "302                                                  0                                            \n",
              "303                                                  4                                            \n",
              "304                                                  3                                            \n",
              "305                                                  4                                            \n",
              "306                                                  2                                            \n",
              "\n",
              "     How often have you felt that things were going your way?  \\\n",
              "0                                                    1          \n",
              "1                                                    2          \n",
              "2                                                    1          \n",
              "3                                                    0          \n",
              "4                                                    1          \n",
              "..                                                 ...          \n",
              "302                                                  3          \n",
              "303                                                  3          \n",
              "304                                                  3          \n",
              "305                                                  3          \n",
              "306                                                  3          \n",
              "\n",
              "     How often have you been upset because of something that happened unexpectedly?  \\\n",
              "0                                                    1                                \n",
              "1                                                    4                                \n",
              "2                                                    1                                \n",
              "3                                                    3                                \n",
              "4                                                    3                                \n",
              "..                                                 ...                                \n",
              "302                                                  0                                \n",
              "303                                                  1                                \n",
              "304                                                  3                                \n",
              "305                                                  1                                \n",
              "306                                                  0                                \n",
              "\n",
              "     I find that I don't have time for my interests/hobbies outside of regular work.  \\\n",
              "0                                                    1                                 \n",
              "1                                                    2                                 \n",
              "2                                                    3                                 \n",
              "3                                                    3                                 \n",
              "4                                                    2                                 \n",
              "..                                                 ...                                 \n",
              "302                                                  4                                 \n",
              "303                                                  4                                 \n",
              "304                                                  3                                 \n",
              "305                                                  4                                 \n",
              "306                                                  3                                 \n",
              "\n",
              "     How often have you been able to control irritations in your life?  \\\n",
              "0                                                    4                   \n",
              "1                                                    2                   \n",
              "2                                                    3                   \n",
              "3                                                    0                   \n",
              "4                                                    4                   \n",
              "..                                                 ...                   \n",
              "302                                                  0                   \n",
              "303                                                  1                   \n",
              "304                                                  4                   \n",
              "305                                                  1                   \n",
              "306                                                  0                   \n",
              "\n",
              "     How often have you found that you could not cope with all the things that you had to do?  \\\n",
              "0                                                    1                                          \n",
              "1                                                    2                                          \n",
              "2                                                    3                                          \n",
              "3                                                    3                                          \n",
              "4                                                    4                                          \n",
              "..                                                 ...                                          \n",
              "302                                                  3                                          \n",
              "303                                                  4                                          \n",
              "304                                                  3                                          \n",
              "305                                                  3                                          \n",
              "306                                                  3                                          \n",
              "\n",
              "     How often do you get a full, restful night of sleep?  \\\n",
              "0                                                    0      \n",
              "1                                                    1      \n",
              "2                                                    3      \n",
              "3                                                    2      \n",
              "4                                                    1      \n",
              "..                                                 ...      \n",
              "302                                                  0      \n",
              "303                                                  4      \n",
              "304                                                  3      \n",
              "305                                                  1      \n",
              "306                                                  1      \n",
              "\n",
              "     To what extent do you believe your life has purpose?  ...  \\\n",
              "0                                                    0     ...   \n",
              "1                                                    2     ...   \n",
              "2                                                    1     ...   \n",
              "3                                                    1     ...   \n",
              "4                                                    4     ...   \n",
              "..                                                 ...     ...   \n",
              "302                                                  3     ...   \n",
              "303                                                  4     ...   \n",
              "304                                                  3     ...   \n",
              "305                                                  4     ...   \n",
              "306                                                  2     ...   \n",
              "\n",
              "     How often have you been angered because of things that were outside of your control?  \\\n",
              "0                                                    1                                      \n",
              "1                                                    3                                      \n",
              "2                                                    1                                      \n",
              "3                                                    3                                      \n",
              "4                                                    3                                      \n",
              "..                                                 ...                                      \n",
              "302                                                  3                                      \n",
              "303                                                  4                                      \n",
              "304                                                  3                                      \n",
              "305                                                  4                                      \n",
              "306                                                  2                                      \n",
              "\n",
              "     How often do you feel fear of failure in any competitive scenario?  \\\n",
              "0                                                    1                    \n",
              "1                                                    3                    \n",
              "2                                                    4                    \n",
              "3                                                    4                    \n",
              "4                                                    4                    \n",
              "..                                                 ...                    \n",
              "302                                                  3                    \n",
              "303                                                  1                    \n",
              "304                                                  4                    \n",
              "305                                                  3                    \n",
              "306                                                  4                    \n",
              "\n",
              "     How often have you felt difficulties were piling up so high that you could not overcome them?  \\\n",
              "0                                                    1                                               \n",
              "1                                                    3                                               \n",
              "2                                                    4                                               \n",
              "3                                                    3                                               \n",
              "4                                                    4                                               \n",
              "..                                                 ...                                               \n",
              "302                                                  0                                               \n",
              "303                                                  4                                               \n",
              "304                                                  3                                               \n",
              "305                                                  1                                               \n",
              "306                                                  3                                               \n",
              "\n",
              "     How often have you felt confident about your ability to handle your personal problems?  \\\n",
              "0                                                    4                                        \n",
              "1                                                    3                                        \n",
              "2                                                    2                                        \n",
              "3                                                    2                                        \n",
              "4                                                    2                                        \n",
              "..                                                 ...                                        \n",
              "302                                                  4                                        \n",
              "303                                                  2                                        \n",
              "304                                                  3                                        \n",
              "305                                                  3                                        \n",
              "306                                                  3                                        \n",
              "\n",
              "     I experience mood swings, difficulty in making decisions, concentration and memory is impaired.  \\\n",
              "0                                                    0                                                 \n",
              "1                                                    2                                                 \n",
              "2                                                    3                                                 \n",
              "3                                                    3                                                 \n",
              "4                                                    1                                                 \n",
              "..                                                 ...                                                 \n",
              "302                                                  0                                                 \n",
              "303                                                  3                                                 \n",
              "304                                                  3                                                 \n",
              "305                                                  2                                                 \n",
              "306                                                  1                                                 \n",
              "\n",
              "     I frequently have guilt if I procrastinate tasks.  \\\n",
              "0                                                    1   \n",
              "1                                                    2   \n",
              "2                                                    2   \n",
              "3                                                    4   \n",
              "4                                                    2   \n",
              "..                                                 ...   \n",
              "302                                                  4   \n",
              "303                                                  1   \n",
              "304                                                  4   \n",
              "305                                                  3   \n",
              "306                                                  4   \n",
              "\n",
              "     In comparison with other people, how likely are you to see others as threatening, uncooperative or exploitative?  \\\n",
              "0                                                    1                                                                  \n",
              "1                                                    1                                                                  \n",
              "2                                                    1                                                                  \n",
              "3                                                    3                                                                  \n",
              "4                                                    2                                                                  \n",
              "..                                                 ...                                                                  \n",
              "302                                                  0                                                                  \n",
              "303                                                  3                                                                  \n",
              "304                                                  3                                                                  \n",
              "305                                                  2                                                                  \n",
              "306                                                  1                                                                  \n",
              "\n",
              "     How often are you confused about the intentions of others towards you?  \\\n",
              "0                                                    1                        \n",
              "1                                                    3                        \n",
              "2                                                    3                        \n",
              "3                                                    3                        \n",
              "4                                                    3                        \n",
              "..                                                 ...                        \n",
              "302                                                  4                        \n",
              "303                                                  1                        \n",
              "304                                                  0                        \n",
              "305                                                  3                        \n",
              "306                                                  4                        \n",
              "\n",
              "     Do you feel stressed about not having enough money to participate in the same activities as peers?  \\\n",
              "0                                                  NaN                                                    \n",
              "1                                                  3.0                                                    \n",
              "2                                                  2.0                                                    \n",
              "3                                                  1.0                                                    \n",
              "4                                                  1.0                                                    \n",
              "..                                                 ...                                                    \n",
              "302                                                3.0                                                    \n",
              "303                                                4.0                                                    \n",
              "304                                                4.0                                                    \n",
              "305                                                2.0                                                    \n",
              "306                                                0.0                                                    \n",
              "\n",
              "     Do you feel stressed about not managing your time well to be productive enough?  \n",
              "0                                                  NaN                                \n",
              "1                                                  2.0                                \n",
              "2                                                  3.0                                \n",
              "3                                                  3.0                                \n",
              "4                                                  3.0                                \n",
              "..                                                 ...                                \n",
              "302                                                2.0                                \n",
              "303                                                3.0                                \n",
              "304                                                2.0                                \n",
              "305                                                3.0                                \n",
              "306                                                3.0                                \n",
              "\n",
              "[307 rows x 22 columns]"
            ]
          },
          "execution_count": 99,
          "metadata": {},
          "output_type": "execute_result"
        }
      ],
      "source": [
        "df"
      ]
    },
    {
      "cell_type": "code",
      "execution_count": 100,
      "metadata": {
        "colab": {},
        "colab_type": "code",
        "id": "c9OpTt0siLJ6"
      },
      "outputs": [],
      "source": [
        "del df['Timestamp']\n",
        "del df['Username']"
      ]
    },
    {
      "cell_type": "code",
      "execution_count": 101,
      "metadata": {
        "colab": {},
        "colab_type": "code",
        "id": "Bj1LPgY1iLJ-",
        "outputId": "80bf4353-56e4-4cfa-a3b9-15c7afe2b04b",
        "scrolled": true
      },
      "outputs": [
        {
          "data": {
            "text/html": [
              "<div>\n",
              "<style scoped>\n",
              "    .dataframe tbody tr th:only-of-type {\n",
              "        vertical-align: middle;\n",
              "    }\n",
              "\n",
              "    .dataframe tbody tr th {\n",
              "        vertical-align: top;\n",
              "    }\n",
              "\n",
              "    .dataframe thead th {\n",
              "        text-align: right;\n",
              "    }\n",
              "</style>\n",
              "<table border=\"1\" class=\"dataframe\">\n",
              "  <thead>\n",
              "    <tr style=\"text-align: right;\">\n",
              "      <th></th>\n",
              "      <th>How often have you felt that you were unable to control the important things in your life?</th>\n",
              "      <th>How often have you felt that things were going your way?</th>\n",
              "      <th>How often have you been upset because of something that happened unexpectedly?</th>\n",
              "      <th>I find that I don't have time for my interests/hobbies outside of regular work.</th>\n",
              "      <th>How often have you been able to control irritations in your life?</th>\n",
              "      <th>How often have you found that you could not cope with all the things that you had to do?</th>\n",
              "      <th>How often do you get a full, restful night of sleep?</th>\n",
              "      <th>To what extent do you believe your life has purpose?</th>\n",
              "      <th>Most of my activities in life are shaped by society?</th>\n",
              "      <th>How often have you felt that you were on top of things?</th>\n",
              "      <th>How often have you been angered because of things that were outside of your control?</th>\n",
              "      <th>How often do you feel fear of failure in any competitive scenario?</th>\n",
              "      <th>How often have you felt difficulties were piling up so high that you could not overcome them?</th>\n",
              "      <th>How often have you felt confident about your ability to handle your personal problems?</th>\n",
              "      <th>I experience mood swings, difficulty in making decisions, concentration and memory is impaired.</th>\n",
              "      <th>I frequently have guilt if I procrastinate tasks.</th>\n",
              "      <th>In comparison with other people, how likely are you to see others as threatening, uncooperative or exploitative?</th>\n",
              "      <th>How often are you confused about the intentions of others towards you?</th>\n",
              "      <th>Do you feel stressed about not having enough money to participate in the same activities as peers?</th>\n",
              "      <th>Do you feel stressed about not managing your time well to be productive enough?</th>\n",
              "    </tr>\n",
              "  </thead>\n",
              "  <tbody>\n",
              "    <tr>\n",
              "      <th>0</th>\n",
              "      <td>1</td>\n",
              "      <td>1</td>\n",
              "      <td>1</td>\n",
              "      <td>1</td>\n",
              "      <td>4</td>\n",
              "      <td>1</td>\n",
              "      <td>0</td>\n",
              "      <td>0</td>\n",
              "      <td>2</td>\n",
              "      <td>2</td>\n",
              "      <td>1</td>\n",
              "      <td>1</td>\n",
              "      <td>1</td>\n",
              "      <td>4</td>\n",
              "      <td>0</td>\n",
              "      <td>1</td>\n",
              "      <td>1</td>\n",
              "      <td>1</td>\n",
              "      <td>NaN</td>\n",
              "      <td>NaN</td>\n",
              "    </tr>\n",
              "    <tr>\n",
              "      <th>1</th>\n",
              "      <td>3</td>\n",
              "      <td>2</td>\n",
              "      <td>4</td>\n",
              "      <td>2</td>\n",
              "      <td>2</td>\n",
              "      <td>2</td>\n",
              "      <td>1</td>\n",
              "      <td>2</td>\n",
              "      <td>2</td>\n",
              "      <td>2</td>\n",
              "      <td>3</td>\n",
              "      <td>3</td>\n",
              "      <td>3</td>\n",
              "      <td>3</td>\n",
              "      <td>2</td>\n",
              "      <td>2</td>\n",
              "      <td>1</td>\n",
              "      <td>3</td>\n",
              "      <td>3.0</td>\n",
              "      <td>2.0</td>\n",
              "    </tr>\n",
              "    <tr>\n",
              "      <th>2</th>\n",
              "      <td>2</td>\n",
              "      <td>1</td>\n",
              "      <td>1</td>\n",
              "      <td>3</td>\n",
              "      <td>3</td>\n",
              "      <td>3</td>\n",
              "      <td>3</td>\n",
              "      <td>1</td>\n",
              "      <td>3</td>\n",
              "      <td>3</td>\n",
              "      <td>1</td>\n",
              "      <td>4</td>\n",
              "      <td>4</td>\n",
              "      <td>2</td>\n",
              "      <td>3</td>\n",
              "      <td>2</td>\n",
              "      <td>1</td>\n",
              "      <td>3</td>\n",
              "      <td>2.0</td>\n",
              "      <td>3.0</td>\n",
              "    </tr>\n",
              "    <tr>\n",
              "      <th>3</th>\n",
              "      <td>3</td>\n",
              "      <td>0</td>\n",
              "      <td>3</td>\n",
              "      <td>3</td>\n",
              "      <td>0</td>\n",
              "      <td>3</td>\n",
              "      <td>2</td>\n",
              "      <td>1</td>\n",
              "      <td>3</td>\n",
              "      <td>1</td>\n",
              "      <td>3</td>\n",
              "      <td>4</td>\n",
              "      <td>3</td>\n",
              "      <td>2</td>\n",
              "      <td>3</td>\n",
              "      <td>4</td>\n",
              "      <td>3</td>\n",
              "      <td>3</td>\n",
              "      <td>1.0</td>\n",
              "      <td>3.0</td>\n",
              "    </tr>\n",
              "    <tr>\n",
              "      <th>4</th>\n",
              "      <td>3</td>\n",
              "      <td>1</td>\n",
              "      <td>3</td>\n",
              "      <td>2</td>\n",
              "      <td>4</td>\n",
              "      <td>4</td>\n",
              "      <td>1</td>\n",
              "      <td>4</td>\n",
              "      <td>2</td>\n",
              "      <td>2</td>\n",
              "      <td>3</td>\n",
              "      <td>4</td>\n",
              "      <td>4</td>\n",
              "      <td>2</td>\n",
              "      <td>1</td>\n",
              "      <td>2</td>\n",
              "      <td>2</td>\n",
              "      <td>3</td>\n",
              "      <td>1.0</td>\n",
              "      <td>3.0</td>\n",
              "    </tr>\n",
              "    <tr>\n",
              "      <th>...</th>\n",
              "      <td>...</td>\n",
              "      <td>...</td>\n",
              "      <td>...</td>\n",
              "      <td>...</td>\n",
              "      <td>...</td>\n",
              "      <td>...</td>\n",
              "      <td>...</td>\n",
              "      <td>...</td>\n",
              "      <td>...</td>\n",
              "      <td>...</td>\n",
              "      <td>...</td>\n",
              "      <td>...</td>\n",
              "      <td>...</td>\n",
              "      <td>...</td>\n",
              "      <td>...</td>\n",
              "      <td>...</td>\n",
              "      <td>...</td>\n",
              "      <td>...</td>\n",
              "      <td>...</td>\n",
              "      <td>...</td>\n",
              "    </tr>\n",
              "    <tr>\n",
              "      <th>302</th>\n",
              "      <td>0</td>\n",
              "      <td>3</td>\n",
              "      <td>0</td>\n",
              "      <td>4</td>\n",
              "      <td>0</td>\n",
              "      <td>3</td>\n",
              "      <td>0</td>\n",
              "      <td>3</td>\n",
              "      <td>0</td>\n",
              "      <td>4</td>\n",
              "      <td>3</td>\n",
              "      <td>3</td>\n",
              "      <td>0</td>\n",
              "      <td>4</td>\n",
              "      <td>0</td>\n",
              "      <td>4</td>\n",
              "      <td>0</td>\n",
              "      <td>4</td>\n",
              "      <td>3.0</td>\n",
              "      <td>2.0</td>\n",
              "    </tr>\n",
              "    <tr>\n",
              "      <th>303</th>\n",
              "      <td>4</td>\n",
              "      <td>3</td>\n",
              "      <td>1</td>\n",
              "      <td>4</td>\n",
              "      <td>1</td>\n",
              "      <td>4</td>\n",
              "      <td>4</td>\n",
              "      <td>4</td>\n",
              "      <td>3</td>\n",
              "      <td>1</td>\n",
              "      <td>4</td>\n",
              "      <td>1</td>\n",
              "      <td>4</td>\n",
              "      <td>2</td>\n",
              "      <td>3</td>\n",
              "      <td>1</td>\n",
              "      <td>3</td>\n",
              "      <td>1</td>\n",
              "      <td>4.0</td>\n",
              "      <td>3.0</td>\n",
              "    </tr>\n",
              "    <tr>\n",
              "      <th>304</th>\n",
              "      <td>3</td>\n",
              "      <td>3</td>\n",
              "      <td>3</td>\n",
              "      <td>3</td>\n",
              "      <td>4</td>\n",
              "      <td>3</td>\n",
              "      <td>3</td>\n",
              "      <td>3</td>\n",
              "      <td>4</td>\n",
              "      <td>4</td>\n",
              "      <td>3</td>\n",
              "      <td>4</td>\n",
              "      <td>3</td>\n",
              "      <td>3</td>\n",
              "      <td>3</td>\n",
              "      <td>4</td>\n",
              "      <td>3</td>\n",
              "      <td>0</td>\n",
              "      <td>4.0</td>\n",
              "      <td>2.0</td>\n",
              "    </tr>\n",
              "    <tr>\n",
              "      <th>305</th>\n",
              "      <td>4</td>\n",
              "      <td>3</td>\n",
              "      <td>1</td>\n",
              "      <td>4</td>\n",
              "      <td>1</td>\n",
              "      <td>3</td>\n",
              "      <td>1</td>\n",
              "      <td>4</td>\n",
              "      <td>4</td>\n",
              "      <td>1</td>\n",
              "      <td>4</td>\n",
              "      <td>3</td>\n",
              "      <td>1</td>\n",
              "      <td>3</td>\n",
              "      <td>2</td>\n",
              "      <td>3</td>\n",
              "      <td>2</td>\n",
              "      <td>3</td>\n",
              "      <td>2.0</td>\n",
              "      <td>3.0</td>\n",
              "    </tr>\n",
              "    <tr>\n",
              "      <th>306</th>\n",
              "      <td>2</td>\n",
              "      <td>3</td>\n",
              "      <td>0</td>\n",
              "      <td>3</td>\n",
              "      <td>0</td>\n",
              "      <td>3</td>\n",
              "      <td>1</td>\n",
              "      <td>2</td>\n",
              "      <td>1</td>\n",
              "      <td>4</td>\n",
              "      <td>2</td>\n",
              "      <td>4</td>\n",
              "      <td>3</td>\n",
              "      <td>3</td>\n",
              "      <td>1</td>\n",
              "      <td>4</td>\n",
              "      <td>1</td>\n",
              "      <td>4</td>\n",
              "      <td>0.0</td>\n",
              "      <td>3.0</td>\n",
              "    </tr>\n",
              "  </tbody>\n",
              "</table>\n",
              "<p>307 rows × 20 columns</p>\n",
              "</div>"
            ],
            "text/plain": [
              "     How often have you felt that you were unable to control the important things in your life?  \\\n",
              "0                                                    1                                            \n",
              "1                                                    3                                            \n",
              "2                                                    2                                            \n",
              "3                                                    3                                            \n",
              "4                                                    3                                            \n",
              "..                                                 ...                                            \n",
              "302                                                  0                                            \n",
              "303                                                  4                                            \n",
              "304                                                  3                                            \n",
              "305                                                  4                                            \n",
              "306                                                  2                                            \n",
              "\n",
              "     How often have you felt that things were going your way?  \\\n",
              "0                                                    1          \n",
              "1                                                    2          \n",
              "2                                                    1          \n",
              "3                                                    0          \n",
              "4                                                    1          \n",
              "..                                                 ...          \n",
              "302                                                  3          \n",
              "303                                                  3          \n",
              "304                                                  3          \n",
              "305                                                  3          \n",
              "306                                                  3          \n",
              "\n",
              "     How often have you been upset because of something that happened unexpectedly?  \\\n",
              "0                                                    1                                \n",
              "1                                                    4                                \n",
              "2                                                    1                                \n",
              "3                                                    3                                \n",
              "4                                                    3                                \n",
              "..                                                 ...                                \n",
              "302                                                  0                                \n",
              "303                                                  1                                \n",
              "304                                                  3                                \n",
              "305                                                  1                                \n",
              "306                                                  0                                \n",
              "\n",
              "     I find that I don't have time for my interests/hobbies outside of regular work.  \\\n",
              "0                                                    1                                 \n",
              "1                                                    2                                 \n",
              "2                                                    3                                 \n",
              "3                                                    3                                 \n",
              "4                                                    2                                 \n",
              "..                                                 ...                                 \n",
              "302                                                  4                                 \n",
              "303                                                  4                                 \n",
              "304                                                  3                                 \n",
              "305                                                  4                                 \n",
              "306                                                  3                                 \n",
              "\n",
              "     How often have you been able to control irritations in your life?  \\\n",
              "0                                                    4                   \n",
              "1                                                    2                   \n",
              "2                                                    3                   \n",
              "3                                                    0                   \n",
              "4                                                    4                   \n",
              "..                                                 ...                   \n",
              "302                                                  0                   \n",
              "303                                                  1                   \n",
              "304                                                  4                   \n",
              "305                                                  1                   \n",
              "306                                                  0                   \n",
              "\n",
              "     How often have you found that you could not cope with all the things that you had to do?  \\\n",
              "0                                                    1                                          \n",
              "1                                                    2                                          \n",
              "2                                                    3                                          \n",
              "3                                                    3                                          \n",
              "4                                                    4                                          \n",
              "..                                                 ...                                          \n",
              "302                                                  3                                          \n",
              "303                                                  4                                          \n",
              "304                                                  3                                          \n",
              "305                                                  3                                          \n",
              "306                                                  3                                          \n",
              "\n",
              "     How often do you get a full, restful night of sleep?  \\\n",
              "0                                                    0      \n",
              "1                                                    1      \n",
              "2                                                    3      \n",
              "3                                                    2      \n",
              "4                                                    1      \n",
              "..                                                 ...      \n",
              "302                                                  0      \n",
              "303                                                  4      \n",
              "304                                                  3      \n",
              "305                                                  1      \n",
              "306                                                  1      \n",
              "\n",
              "     To what extent do you believe your life has purpose?  \\\n",
              "0                                                    0      \n",
              "1                                                    2      \n",
              "2                                                    1      \n",
              "3                                                    1      \n",
              "4                                                    4      \n",
              "..                                                 ...      \n",
              "302                                                  3      \n",
              "303                                                  4      \n",
              "304                                                  3      \n",
              "305                                                  4      \n",
              "306                                                  2      \n",
              "\n",
              "     Most of my activities in life are shaped by society?  \\\n",
              "0                                                    2      \n",
              "1                                                    2      \n",
              "2                                                    3      \n",
              "3                                                    3      \n",
              "4                                                    2      \n",
              "..                                                 ...      \n",
              "302                                                  0      \n",
              "303                                                  3      \n",
              "304                                                  4      \n",
              "305                                                  4      \n",
              "306                                                  1      \n",
              "\n",
              "     How often have you felt that you were on top of things?  \\\n",
              "0                                                    2         \n",
              "1                                                    2         \n",
              "2                                                    3         \n",
              "3                                                    1         \n",
              "4                                                    2         \n",
              "..                                                 ...         \n",
              "302                                                  4         \n",
              "303                                                  1         \n",
              "304                                                  4         \n",
              "305                                                  1         \n",
              "306                                                  4         \n",
              "\n",
              "     How often have you been angered because of things that were outside of your control?  \\\n",
              "0                                                    1                                      \n",
              "1                                                    3                                      \n",
              "2                                                    1                                      \n",
              "3                                                    3                                      \n",
              "4                                                    3                                      \n",
              "..                                                 ...                                      \n",
              "302                                                  3                                      \n",
              "303                                                  4                                      \n",
              "304                                                  3                                      \n",
              "305                                                  4                                      \n",
              "306                                                  2                                      \n",
              "\n",
              "     How often do you feel fear of failure in any competitive scenario?  \\\n",
              "0                                                    1                    \n",
              "1                                                    3                    \n",
              "2                                                    4                    \n",
              "3                                                    4                    \n",
              "4                                                    4                    \n",
              "..                                                 ...                    \n",
              "302                                                  3                    \n",
              "303                                                  1                    \n",
              "304                                                  4                    \n",
              "305                                                  3                    \n",
              "306                                                  4                    \n",
              "\n",
              "     How often have you felt difficulties were piling up so high that you could not overcome them?  \\\n",
              "0                                                    1                                               \n",
              "1                                                    3                                               \n",
              "2                                                    4                                               \n",
              "3                                                    3                                               \n",
              "4                                                    4                                               \n",
              "..                                                 ...                                               \n",
              "302                                                  0                                               \n",
              "303                                                  4                                               \n",
              "304                                                  3                                               \n",
              "305                                                  1                                               \n",
              "306                                                  3                                               \n",
              "\n",
              "     How often have you felt confident about your ability to handle your personal problems?  \\\n",
              "0                                                    4                                        \n",
              "1                                                    3                                        \n",
              "2                                                    2                                        \n",
              "3                                                    2                                        \n",
              "4                                                    2                                        \n",
              "..                                                 ...                                        \n",
              "302                                                  4                                        \n",
              "303                                                  2                                        \n",
              "304                                                  3                                        \n",
              "305                                                  3                                        \n",
              "306                                                  3                                        \n",
              "\n",
              "     I experience mood swings, difficulty in making decisions, concentration and memory is impaired.  \\\n",
              "0                                                    0                                                 \n",
              "1                                                    2                                                 \n",
              "2                                                    3                                                 \n",
              "3                                                    3                                                 \n",
              "4                                                    1                                                 \n",
              "..                                                 ...                                                 \n",
              "302                                                  0                                                 \n",
              "303                                                  3                                                 \n",
              "304                                                  3                                                 \n",
              "305                                                  2                                                 \n",
              "306                                                  1                                                 \n",
              "\n",
              "     I frequently have guilt if I procrastinate tasks.  \\\n",
              "0                                                    1   \n",
              "1                                                    2   \n",
              "2                                                    2   \n",
              "3                                                    4   \n",
              "4                                                    2   \n",
              "..                                                 ...   \n",
              "302                                                  4   \n",
              "303                                                  1   \n",
              "304                                                  4   \n",
              "305                                                  3   \n",
              "306                                                  4   \n",
              "\n",
              "     In comparison with other people, how likely are you to see others as threatening, uncooperative or exploitative?  \\\n",
              "0                                                    1                                                                  \n",
              "1                                                    1                                                                  \n",
              "2                                                    1                                                                  \n",
              "3                                                    3                                                                  \n",
              "4                                                    2                                                                  \n",
              "..                                                 ...                                                                  \n",
              "302                                                  0                                                                  \n",
              "303                                                  3                                                                  \n",
              "304                                                  3                                                                  \n",
              "305                                                  2                                                                  \n",
              "306                                                  1                                                                  \n",
              "\n",
              "     How often are you confused about the intentions of others towards you?  \\\n",
              "0                                                    1                        \n",
              "1                                                    3                        \n",
              "2                                                    3                        \n",
              "3                                                    3                        \n",
              "4                                                    3                        \n",
              "..                                                 ...                        \n",
              "302                                                  4                        \n",
              "303                                                  1                        \n",
              "304                                                  0                        \n",
              "305                                                  3                        \n",
              "306                                                  4                        \n",
              "\n",
              "     Do you feel stressed about not having enough money to participate in the same activities as peers?  \\\n",
              "0                                                  NaN                                                    \n",
              "1                                                  3.0                                                    \n",
              "2                                                  2.0                                                    \n",
              "3                                                  1.0                                                    \n",
              "4                                                  1.0                                                    \n",
              "..                                                 ...                                                    \n",
              "302                                                3.0                                                    \n",
              "303                                                4.0                                                    \n",
              "304                                                4.0                                                    \n",
              "305                                                2.0                                                    \n",
              "306                                                0.0                                                    \n",
              "\n",
              "     Do you feel stressed about not managing your time well to be productive enough?  \n",
              "0                                                  NaN                                \n",
              "1                                                  2.0                                \n",
              "2                                                  3.0                                \n",
              "3                                                  3.0                                \n",
              "4                                                  3.0                                \n",
              "..                                                 ...                                \n",
              "302                                                2.0                                \n",
              "303                                                3.0                                \n",
              "304                                                2.0                                \n",
              "305                                                3.0                                \n",
              "306                                                3.0                                \n",
              "\n",
              "[307 rows x 20 columns]"
            ]
          },
          "execution_count": 101,
          "metadata": {},
          "output_type": "execute_result"
        }
      ],
      "source": [
        "df"
      ]
    },
    {
      "cell_type": "code",
      "execution_count": 102,
      "metadata": {
        "colab": {},
        "colab_type": "code",
        "id": "lFZWMrYMiLKC"
      },
      "outputs": [],
      "source": [
        "def UnlabToLab2(array):\n",
        "     for i in range(len(array)):\n",
        "        if array[i]==0:\n",
        "            array[i]=4\n",
        "        elif array[i]==1:\n",
        "            array[i]=3\n",
        "        elif array[i]==2:\n",
        "            array[i]=2\n",
        "        elif array[i]==3:\n",
        "            array[i]=1\n",
        "        elif array[i]==4:\n",
        "            array[i]=0"
      ]
    },
    {
      "cell_type": "code",
      "execution_count": 103,
      "metadata": {
        "colab": {},
        "colab_type": "code",
        "id": "3Hl1Tm90iLKG",
        "outputId": "8f3c2fbc-2fd5-4128-f602-dfbef4acdf59"
      },
      "outputs": [
        {
          "name": "stderr",
          "output_type": "stream",
          "text": [
            "C:\\Users\\DELL\\AppData\\Local\\Temp\\ipykernel_18224\\4227595496.py:6: SettingWithCopyWarning: \n",
            "A value is trying to be set on a copy of a slice from a DataFrame\n",
            "\n",
            "See the caveats in the documentation: https://pandas.pydata.org/pandas-docs/stable/user_guide/indexing.html#returning-a-view-versus-a-copy\n",
            "  array[i]=3\n",
            "C:\\Users\\DELL\\AppData\\Local\\Temp\\ipykernel_18224\\4227595496.py:10: SettingWithCopyWarning: \n",
            "A value is trying to be set on a copy of a slice from a DataFrame\n",
            "\n",
            "See the caveats in the documentation: https://pandas.pydata.org/pandas-docs/stable/user_guide/indexing.html#returning-a-view-versus-a-copy\n",
            "  array[i]=1\n",
            "C:\\Users\\DELL\\AppData\\Local\\Temp\\ipykernel_18224\\4227595496.py:12: SettingWithCopyWarning: \n",
            "A value is trying to be set on a copy of a slice from a DataFrame\n",
            "\n",
            "See the caveats in the documentation: https://pandas.pydata.org/pandas-docs/stable/user_guide/indexing.html#returning-a-view-versus-a-copy\n",
            "  array[i]=0\n",
            "C:\\Users\\DELL\\AppData\\Local\\Temp\\ipykernel_18224\\4227595496.py:4: SettingWithCopyWarning: \n",
            "A value is trying to be set on a copy of a slice from a DataFrame\n",
            "\n",
            "See the caveats in the documentation: https://pandas.pydata.org/pandas-docs/stable/user_guide/indexing.html#returning-a-view-versus-a-copy\n",
            "  array[i]=4\n",
            "C:\\Users\\DELL\\AppData\\Local\\Temp\\ipykernel_18224\\4227595496.py:8: SettingWithCopyWarning: \n",
            "A value is trying to be set on a copy of a slice from a DataFrame\n",
            "\n",
            "See the caveats in the documentation: https://pandas.pydata.org/pandas-docs/stable/user_guide/indexing.html#returning-a-view-versus-a-copy\n",
            "  array[i]=2\n"
          ]
        }
      ],
      "source": [
        "UnlabToLab2(df['How often have you felt difficulties were piling up so high that you could not overcome them?'])\n",
        "UnlabToLab2(df['How often have you felt confident about your ability to handle your personal problems?'])\n",
        "UnlabToLab2(df['How often have you felt that you were on top of things?'])\n",
        "UnlabToLab2(df['To what extent do you believe your life has purpose?'])\n",
        "UnlabToLab2(df['How often do you get a full, restful night of sleep?'])\n",
        "UnlabToLab2(df['How often have you been able to control irritations in your life?'])\n",
        "UnlabToLab2(df['How often have you felt that things were going your way?'])"
      ]
    },
    {
      "cell_type": "code",
      "execution_count": 104,
      "metadata": {
        "colab": {},
        "colab_type": "code",
        "id": "5lDXhrlDiLKL",
        "outputId": "2decdffa-5ea8-4324-ba6e-024ade6e526a"
      },
      "outputs": [
        {
          "data": {
            "text/html": [
              "<div>\n",
              "<style scoped>\n",
              "    .dataframe tbody tr th:only-of-type {\n",
              "        vertical-align: middle;\n",
              "    }\n",
              "\n",
              "    .dataframe tbody tr th {\n",
              "        vertical-align: top;\n",
              "    }\n",
              "\n",
              "    .dataframe thead th {\n",
              "        text-align: right;\n",
              "    }\n",
              "</style>\n",
              "<table border=\"1\" class=\"dataframe\">\n",
              "  <thead>\n",
              "    <tr style=\"text-align: right;\">\n",
              "      <th></th>\n",
              "      <th>How often have you felt that you were unable to control the important things in your life?</th>\n",
              "      <th>How often have you felt that things were going your way?</th>\n",
              "      <th>How often have you been upset because of something that happened unexpectedly?</th>\n",
              "      <th>I find that I don't have time for my interests/hobbies outside of regular work.</th>\n",
              "      <th>How often have you been able to control irritations in your life?</th>\n",
              "      <th>How often have you found that you could not cope with all the things that you had to do?</th>\n",
              "      <th>How often do you get a full, restful night of sleep?</th>\n",
              "      <th>To what extent do you believe your life has purpose?</th>\n",
              "      <th>Most of my activities in life are shaped by society?</th>\n",
              "      <th>How often have you felt that you were on top of things?</th>\n",
              "      <th>How often have you been angered because of things that were outside of your control?</th>\n",
              "      <th>How often do you feel fear of failure in any competitive scenario?</th>\n",
              "      <th>How often have you felt difficulties were piling up so high that you could not overcome them?</th>\n",
              "      <th>How often have you felt confident about your ability to handle your personal problems?</th>\n",
              "      <th>I experience mood swings, difficulty in making decisions, concentration and memory is impaired.</th>\n",
              "      <th>I frequently have guilt if I procrastinate tasks.</th>\n",
              "      <th>In comparison with other people, how likely are you to see others as threatening, uncooperative or exploitative?</th>\n",
              "      <th>How often are you confused about the intentions of others towards you?</th>\n",
              "      <th>Do you feel stressed about not having enough money to participate in the same activities as peers?</th>\n",
              "      <th>Do you feel stressed about not managing your time well to be productive enough?</th>\n",
              "    </tr>\n",
              "  </thead>\n",
              "  <tbody>\n",
              "    <tr>\n",
              "      <th>0</th>\n",
              "      <td>1</td>\n",
              "      <td>3</td>\n",
              "      <td>1</td>\n",
              "      <td>1</td>\n",
              "      <td>0</td>\n",
              "      <td>1</td>\n",
              "      <td>4</td>\n",
              "      <td>4</td>\n",
              "      <td>2</td>\n",
              "      <td>2</td>\n",
              "      <td>1</td>\n",
              "      <td>1</td>\n",
              "      <td>3</td>\n",
              "      <td>0</td>\n",
              "      <td>0</td>\n",
              "      <td>1</td>\n",
              "      <td>1</td>\n",
              "      <td>1</td>\n",
              "      <td>NaN</td>\n",
              "      <td>NaN</td>\n",
              "    </tr>\n",
              "    <tr>\n",
              "      <th>1</th>\n",
              "      <td>3</td>\n",
              "      <td>2</td>\n",
              "      <td>4</td>\n",
              "      <td>2</td>\n",
              "      <td>2</td>\n",
              "      <td>2</td>\n",
              "      <td>3</td>\n",
              "      <td>2</td>\n",
              "      <td>2</td>\n",
              "      <td>2</td>\n",
              "      <td>3</td>\n",
              "      <td>3</td>\n",
              "      <td>1</td>\n",
              "      <td>1</td>\n",
              "      <td>2</td>\n",
              "      <td>2</td>\n",
              "      <td>1</td>\n",
              "      <td>3</td>\n",
              "      <td>3.0</td>\n",
              "      <td>2.0</td>\n",
              "    </tr>\n",
              "    <tr>\n",
              "      <th>2</th>\n",
              "      <td>2</td>\n",
              "      <td>3</td>\n",
              "      <td>1</td>\n",
              "      <td>3</td>\n",
              "      <td>1</td>\n",
              "      <td>3</td>\n",
              "      <td>1</td>\n",
              "      <td>3</td>\n",
              "      <td>3</td>\n",
              "      <td>1</td>\n",
              "      <td>1</td>\n",
              "      <td>4</td>\n",
              "      <td>0</td>\n",
              "      <td>2</td>\n",
              "      <td>3</td>\n",
              "      <td>2</td>\n",
              "      <td>1</td>\n",
              "      <td>3</td>\n",
              "      <td>2.0</td>\n",
              "      <td>3.0</td>\n",
              "    </tr>\n",
              "    <tr>\n",
              "      <th>3</th>\n",
              "      <td>3</td>\n",
              "      <td>4</td>\n",
              "      <td>3</td>\n",
              "      <td>3</td>\n",
              "      <td>4</td>\n",
              "      <td>3</td>\n",
              "      <td>2</td>\n",
              "      <td>3</td>\n",
              "      <td>3</td>\n",
              "      <td>3</td>\n",
              "      <td>3</td>\n",
              "      <td>4</td>\n",
              "      <td>1</td>\n",
              "      <td>2</td>\n",
              "      <td>3</td>\n",
              "      <td>4</td>\n",
              "      <td>3</td>\n",
              "      <td>3</td>\n",
              "      <td>1.0</td>\n",
              "      <td>3.0</td>\n",
              "    </tr>\n",
              "    <tr>\n",
              "      <th>4</th>\n",
              "      <td>3</td>\n",
              "      <td>3</td>\n",
              "      <td>3</td>\n",
              "      <td>2</td>\n",
              "      <td>0</td>\n",
              "      <td>4</td>\n",
              "      <td>3</td>\n",
              "      <td>0</td>\n",
              "      <td>2</td>\n",
              "      <td>2</td>\n",
              "      <td>3</td>\n",
              "      <td>4</td>\n",
              "      <td>0</td>\n",
              "      <td>2</td>\n",
              "      <td>1</td>\n",
              "      <td>2</td>\n",
              "      <td>2</td>\n",
              "      <td>3</td>\n",
              "      <td>1.0</td>\n",
              "      <td>3.0</td>\n",
              "    </tr>\n",
              "    <tr>\n",
              "      <th>...</th>\n",
              "      <td>...</td>\n",
              "      <td>...</td>\n",
              "      <td>...</td>\n",
              "      <td>...</td>\n",
              "      <td>...</td>\n",
              "      <td>...</td>\n",
              "      <td>...</td>\n",
              "      <td>...</td>\n",
              "      <td>...</td>\n",
              "      <td>...</td>\n",
              "      <td>...</td>\n",
              "      <td>...</td>\n",
              "      <td>...</td>\n",
              "      <td>...</td>\n",
              "      <td>...</td>\n",
              "      <td>...</td>\n",
              "      <td>...</td>\n",
              "      <td>...</td>\n",
              "      <td>...</td>\n",
              "      <td>...</td>\n",
              "    </tr>\n",
              "    <tr>\n",
              "      <th>302</th>\n",
              "      <td>0</td>\n",
              "      <td>1</td>\n",
              "      <td>0</td>\n",
              "      <td>4</td>\n",
              "      <td>4</td>\n",
              "      <td>3</td>\n",
              "      <td>4</td>\n",
              "      <td>1</td>\n",
              "      <td>0</td>\n",
              "      <td>0</td>\n",
              "      <td>3</td>\n",
              "      <td>3</td>\n",
              "      <td>4</td>\n",
              "      <td>0</td>\n",
              "      <td>0</td>\n",
              "      <td>4</td>\n",
              "      <td>0</td>\n",
              "      <td>4</td>\n",
              "      <td>3.0</td>\n",
              "      <td>2.0</td>\n",
              "    </tr>\n",
              "    <tr>\n",
              "      <th>303</th>\n",
              "      <td>4</td>\n",
              "      <td>1</td>\n",
              "      <td>1</td>\n",
              "      <td>4</td>\n",
              "      <td>3</td>\n",
              "      <td>4</td>\n",
              "      <td>0</td>\n",
              "      <td>0</td>\n",
              "      <td>3</td>\n",
              "      <td>3</td>\n",
              "      <td>4</td>\n",
              "      <td>1</td>\n",
              "      <td>0</td>\n",
              "      <td>2</td>\n",
              "      <td>3</td>\n",
              "      <td>1</td>\n",
              "      <td>3</td>\n",
              "      <td>1</td>\n",
              "      <td>4.0</td>\n",
              "      <td>3.0</td>\n",
              "    </tr>\n",
              "    <tr>\n",
              "      <th>304</th>\n",
              "      <td>3</td>\n",
              "      <td>1</td>\n",
              "      <td>3</td>\n",
              "      <td>3</td>\n",
              "      <td>0</td>\n",
              "      <td>3</td>\n",
              "      <td>1</td>\n",
              "      <td>1</td>\n",
              "      <td>4</td>\n",
              "      <td>0</td>\n",
              "      <td>3</td>\n",
              "      <td>4</td>\n",
              "      <td>1</td>\n",
              "      <td>1</td>\n",
              "      <td>3</td>\n",
              "      <td>4</td>\n",
              "      <td>3</td>\n",
              "      <td>0</td>\n",
              "      <td>4.0</td>\n",
              "      <td>2.0</td>\n",
              "    </tr>\n",
              "    <tr>\n",
              "      <th>305</th>\n",
              "      <td>4</td>\n",
              "      <td>1</td>\n",
              "      <td>1</td>\n",
              "      <td>4</td>\n",
              "      <td>3</td>\n",
              "      <td>3</td>\n",
              "      <td>3</td>\n",
              "      <td>0</td>\n",
              "      <td>4</td>\n",
              "      <td>3</td>\n",
              "      <td>4</td>\n",
              "      <td>3</td>\n",
              "      <td>3</td>\n",
              "      <td>1</td>\n",
              "      <td>2</td>\n",
              "      <td>3</td>\n",
              "      <td>2</td>\n",
              "      <td>3</td>\n",
              "      <td>2.0</td>\n",
              "      <td>3.0</td>\n",
              "    </tr>\n",
              "    <tr>\n",
              "      <th>306</th>\n",
              "      <td>2</td>\n",
              "      <td>1</td>\n",
              "      <td>0</td>\n",
              "      <td>3</td>\n",
              "      <td>4</td>\n",
              "      <td>3</td>\n",
              "      <td>3</td>\n",
              "      <td>2</td>\n",
              "      <td>1</td>\n",
              "      <td>0</td>\n",
              "      <td>2</td>\n",
              "      <td>4</td>\n",
              "      <td>1</td>\n",
              "      <td>1</td>\n",
              "      <td>1</td>\n",
              "      <td>4</td>\n",
              "      <td>1</td>\n",
              "      <td>4</td>\n",
              "      <td>0.0</td>\n",
              "      <td>3.0</td>\n",
              "    </tr>\n",
              "  </tbody>\n",
              "</table>\n",
              "<p>307 rows × 20 columns</p>\n",
              "</div>"
            ],
            "text/plain": [
              "     How often have you felt that you were unable to control the important things in your life?  \\\n",
              "0                                                    1                                            \n",
              "1                                                    3                                            \n",
              "2                                                    2                                            \n",
              "3                                                    3                                            \n",
              "4                                                    3                                            \n",
              "..                                                 ...                                            \n",
              "302                                                  0                                            \n",
              "303                                                  4                                            \n",
              "304                                                  3                                            \n",
              "305                                                  4                                            \n",
              "306                                                  2                                            \n",
              "\n",
              "     How often have you felt that things were going your way?  \\\n",
              "0                                                    3          \n",
              "1                                                    2          \n",
              "2                                                    3          \n",
              "3                                                    4          \n",
              "4                                                    3          \n",
              "..                                                 ...          \n",
              "302                                                  1          \n",
              "303                                                  1          \n",
              "304                                                  1          \n",
              "305                                                  1          \n",
              "306                                                  1          \n",
              "\n",
              "     How often have you been upset because of something that happened unexpectedly?  \\\n",
              "0                                                    1                                \n",
              "1                                                    4                                \n",
              "2                                                    1                                \n",
              "3                                                    3                                \n",
              "4                                                    3                                \n",
              "..                                                 ...                                \n",
              "302                                                  0                                \n",
              "303                                                  1                                \n",
              "304                                                  3                                \n",
              "305                                                  1                                \n",
              "306                                                  0                                \n",
              "\n",
              "     I find that I don't have time for my interests/hobbies outside of regular work.  \\\n",
              "0                                                    1                                 \n",
              "1                                                    2                                 \n",
              "2                                                    3                                 \n",
              "3                                                    3                                 \n",
              "4                                                    2                                 \n",
              "..                                                 ...                                 \n",
              "302                                                  4                                 \n",
              "303                                                  4                                 \n",
              "304                                                  3                                 \n",
              "305                                                  4                                 \n",
              "306                                                  3                                 \n",
              "\n",
              "     How often have you been able to control irritations in your life?  \\\n",
              "0                                                    0                   \n",
              "1                                                    2                   \n",
              "2                                                    1                   \n",
              "3                                                    4                   \n",
              "4                                                    0                   \n",
              "..                                                 ...                   \n",
              "302                                                  4                   \n",
              "303                                                  3                   \n",
              "304                                                  0                   \n",
              "305                                                  3                   \n",
              "306                                                  4                   \n",
              "\n",
              "     How often have you found that you could not cope with all the things that you had to do?  \\\n",
              "0                                                    1                                          \n",
              "1                                                    2                                          \n",
              "2                                                    3                                          \n",
              "3                                                    3                                          \n",
              "4                                                    4                                          \n",
              "..                                                 ...                                          \n",
              "302                                                  3                                          \n",
              "303                                                  4                                          \n",
              "304                                                  3                                          \n",
              "305                                                  3                                          \n",
              "306                                                  3                                          \n",
              "\n",
              "     How often do you get a full, restful night of sleep?  \\\n",
              "0                                                    4      \n",
              "1                                                    3      \n",
              "2                                                    1      \n",
              "3                                                    2      \n",
              "4                                                    3      \n",
              "..                                                 ...      \n",
              "302                                                  4      \n",
              "303                                                  0      \n",
              "304                                                  1      \n",
              "305                                                  3      \n",
              "306                                                  3      \n",
              "\n",
              "     To what extent do you believe your life has purpose?  \\\n",
              "0                                                    4      \n",
              "1                                                    2      \n",
              "2                                                    3      \n",
              "3                                                    3      \n",
              "4                                                    0      \n",
              "..                                                 ...      \n",
              "302                                                  1      \n",
              "303                                                  0      \n",
              "304                                                  1      \n",
              "305                                                  0      \n",
              "306                                                  2      \n",
              "\n",
              "     Most of my activities in life are shaped by society?  \\\n",
              "0                                                    2      \n",
              "1                                                    2      \n",
              "2                                                    3      \n",
              "3                                                    3      \n",
              "4                                                    2      \n",
              "..                                                 ...      \n",
              "302                                                  0      \n",
              "303                                                  3      \n",
              "304                                                  4      \n",
              "305                                                  4      \n",
              "306                                                  1      \n",
              "\n",
              "     How often have you felt that you were on top of things?  \\\n",
              "0                                                    2         \n",
              "1                                                    2         \n",
              "2                                                    1         \n",
              "3                                                    3         \n",
              "4                                                    2         \n",
              "..                                                 ...         \n",
              "302                                                  0         \n",
              "303                                                  3         \n",
              "304                                                  0         \n",
              "305                                                  3         \n",
              "306                                                  0         \n",
              "\n",
              "     How often have you been angered because of things that were outside of your control?  \\\n",
              "0                                                    1                                      \n",
              "1                                                    3                                      \n",
              "2                                                    1                                      \n",
              "3                                                    3                                      \n",
              "4                                                    3                                      \n",
              "..                                                 ...                                      \n",
              "302                                                  3                                      \n",
              "303                                                  4                                      \n",
              "304                                                  3                                      \n",
              "305                                                  4                                      \n",
              "306                                                  2                                      \n",
              "\n",
              "     How often do you feel fear of failure in any competitive scenario?  \\\n",
              "0                                                    1                    \n",
              "1                                                    3                    \n",
              "2                                                    4                    \n",
              "3                                                    4                    \n",
              "4                                                    4                    \n",
              "..                                                 ...                    \n",
              "302                                                  3                    \n",
              "303                                                  1                    \n",
              "304                                                  4                    \n",
              "305                                                  3                    \n",
              "306                                                  4                    \n",
              "\n",
              "     How often have you felt difficulties were piling up so high that you could not overcome them?  \\\n",
              "0                                                    3                                               \n",
              "1                                                    1                                               \n",
              "2                                                    0                                               \n",
              "3                                                    1                                               \n",
              "4                                                    0                                               \n",
              "..                                                 ...                                               \n",
              "302                                                  4                                               \n",
              "303                                                  0                                               \n",
              "304                                                  1                                               \n",
              "305                                                  3                                               \n",
              "306                                                  1                                               \n",
              "\n",
              "     How often have you felt confident about your ability to handle your personal problems?  \\\n",
              "0                                                    0                                        \n",
              "1                                                    1                                        \n",
              "2                                                    2                                        \n",
              "3                                                    2                                        \n",
              "4                                                    2                                        \n",
              "..                                                 ...                                        \n",
              "302                                                  0                                        \n",
              "303                                                  2                                        \n",
              "304                                                  1                                        \n",
              "305                                                  1                                        \n",
              "306                                                  1                                        \n",
              "\n",
              "     I experience mood swings, difficulty in making decisions, concentration and memory is impaired.  \\\n",
              "0                                                    0                                                 \n",
              "1                                                    2                                                 \n",
              "2                                                    3                                                 \n",
              "3                                                    3                                                 \n",
              "4                                                    1                                                 \n",
              "..                                                 ...                                                 \n",
              "302                                                  0                                                 \n",
              "303                                                  3                                                 \n",
              "304                                                  3                                                 \n",
              "305                                                  2                                                 \n",
              "306                                                  1                                                 \n",
              "\n",
              "     I frequently have guilt if I procrastinate tasks.  \\\n",
              "0                                                    1   \n",
              "1                                                    2   \n",
              "2                                                    2   \n",
              "3                                                    4   \n",
              "4                                                    2   \n",
              "..                                                 ...   \n",
              "302                                                  4   \n",
              "303                                                  1   \n",
              "304                                                  4   \n",
              "305                                                  3   \n",
              "306                                                  4   \n",
              "\n",
              "     In comparison with other people, how likely are you to see others as threatening, uncooperative or exploitative?  \\\n",
              "0                                                    1                                                                  \n",
              "1                                                    1                                                                  \n",
              "2                                                    1                                                                  \n",
              "3                                                    3                                                                  \n",
              "4                                                    2                                                                  \n",
              "..                                                 ...                                                                  \n",
              "302                                                  0                                                                  \n",
              "303                                                  3                                                                  \n",
              "304                                                  3                                                                  \n",
              "305                                                  2                                                                  \n",
              "306                                                  1                                                                  \n",
              "\n",
              "     How often are you confused about the intentions of others towards you?  \\\n",
              "0                                                    1                        \n",
              "1                                                    3                        \n",
              "2                                                    3                        \n",
              "3                                                    3                        \n",
              "4                                                    3                        \n",
              "..                                                 ...                        \n",
              "302                                                  4                        \n",
              "303                                                  1                        \n",
              "304                                                  0                        \n",
              "305                                                  3                        \n",
              "306                                                  4                        \n",
              "\n",
              "     Do you feel stressed about not having enough money to participate in the same activities as peers?  \\\n",
              "0                                                  NaN                                                    \n",
              "1                                                  3.0                                                    \n",
              "2                                                  2.0                                                    \n",
              "3                                                  1.0                                                    \n",
              "4                                                  1.0                                                    \n",
              "..                                                 ...                                                    \n",
              "302                                                3.0                                                    \n",
              "303                                                4.0                                                    \n",
              "304                                                4.0                                                    \n",
              "305                                                2.0                                                    \n",
              "306                                                0.0                                                    \n",
              "\n",
              "     Do you feel stressed about not managing your time well to be productive enough?  \n",
              "0                                                  NaN                                \n",
              "1                                                  2.0                                \n",
              "2                                                  3.0                                \n",
              "3                                                  3.0                                \n",
              "4                                                  3.0                                \n",
              "..                                                 ...                                \n",
              "302                                                2.0                                \n",
              "303                                                3.0                                \n",
              "304                                                2.0                                \n",
              "305                                                3.0                                \n",
              "306                                                3.0                                \n",
              "\n",
              "[307 rows x 20 columns]"
            ]
          },
          "execution_count": 104,
          "metadata": {},
          "output_type": "execute_result"
        }
      ],
      "source": [
        "df"
      ]
    },
    {
      "cell_type": "code",
      "execution_count": 105,
      "metadata": {
        "colab": {},
        "colab_type": "code",
        "id": "Gzuj_SONiLKQ"
      },
      "outputs": [],
      "source": [
        "df=df.drop(df.index[0])"
      ]
    },
    {
      "cell_type": "code",
      "execution_count": 106,
      "metadata": {
        "colab": {},
        "colab_type": "code",
        "id": "F9WKUjSoiLKU"
      },
      "outputs": [],
      "source": [
        "df.columns=['Q1','Q2','Q3','Q4','Q5','Q6','Q7','Q8','Q9','Q10','Q11','Q12','Q13','Q14','Q15','Q16','Q17','Q18','Q19','Q20']"
      ]
    },
    {
      "cell_type": "code",
      "execution_count": 107,
      "metadata": {
        "colab": {},
        "colab_type": "code",
        "id": "ojPzXCmHiLKX",
        "outputId": "2d334687-3b14-4cba-d523-86b3943d89ae",
        "scrolled": true
      },
      "outputs": [
        {
          "data": {
            "text/html": [
              "<div>\n",
              "<style scoped>\n",
              "    .dataframe tbody tr th:only-of-type {\n",
              "        vertical-align: middle;\n",
              "    }\n",
              "\n",
              "    .dataframe tbody tr th {\n",
              "        vertical-align: top;\n",
              "    }\n",
              "\n",
              "    .dataframe thead th {\n",
              "        text-align: right;\n",
              "    }\n",
              "</style>\n",
              "<table border=\"1\" class=\"dataframe\">\n",
              "  <thead>\n",
              "    <tr style=\"text-align: right;\">\n",
              "      <th></th>\n",
              "      <th>Q1</th>\n",
              "      <th>Q2</th>\n",
              "      <th>Q3</th>\n",
              "      <th>Q4</th>\n",
              "      <th>Q5</th>\n",
              "      <th>Q6</th>\n",
              "      <th>Q7</th>\n",
              "      <th>Q8</th>\n",
              "      <th>Q9</th>\n",
              "      <th>Q10</th>\n",
              "      <th>Q11</th>\n",
              "      <th>Q12</th>\n",
              "      <th>Q13</th>\n",
              "      <th>Q14</th>\n",
              "      <th>Q15</th>\n",
              "      <th>Q16</th>\n",
              "      <th>Q17</th>\n",
              "      <th>Q18</th>\n",
              "      <th>Q19</th>\n",
              "      <th>Q20</th>\n",
              "    </tr>\n",
              "  </thead>\n",
              "  <tbody>\n",
              "    <tr>\n",
              "      <th>1</th>\n",
              "      <td>3</td>\n",
              "      <td>2</td>\n",
              "      <td>4</td>\n",
              "      <td>2</td>\n",
              "      <td>2</td>\n",
              "      <td>2</td>\n",
              "      <td>3</td>\n",
              "      <td>2</td>\n",
              "      <td>2</td>\n",
              "      <td>2</td>\n",
              "      <td>3</td>\n",
              "      <td>3</td>\n",
              "      <td>1</td>\n",
              "      <td>1</td>\n",
              "      <td>2</td>\n",
              "      <td>2</td>\n",
              "      <td>1</td>\n",
              "      <td>3</td>\n",
              "      <td>3.0</td>\n",
              "      <td>2.0</td>\n",
              "    </tr>\n",
              "    <tr>\n",
              "      <th>2</th>\n",
              "      <td>2</td>\n",
              "      <td>3</td>\n",
              "      <td>1</td>\n",
              "      <td>3</td>\n",
              "      <td>1</td>\n",
              "      <td>3</td>\n",
              "      <td>1</td>\n",
              "      <td>3</td>\n",
              "      <td>3</td>\n",
              "      <td>1</td>\n",
              "      <td>1</td>\n",
              "      <td>4</td>\n",
              "      <td>0</td>\n",
              "      <td>2</td>\n",
              "      <td>3</td>\n",
              "      <td>2</td>\n",
              "      <td>1</td>\n",
              "      <td>3</td>\n",
              "      <td>2.0</td>\n",
              "      <td>3.0</td>\n",
              "    </tr>\n",
              "    <tr>\n",
              "      <th>3</th>\n",
              "      <td>3</td>\n",
              "      <td>4</td>\n",
              "      <td>3</td>\n",
              "      <td>3</td>\n",
              "      <td>4</td>\n",
              "      <td>3</td>\n",
              "      <td>2</td>\n",
              "      <td>3</td>\n",
              "      <td>3</td>\n",
              "      <td>3</td>\n",
              "      <td>3</td>\n",
              "      <td>4</td>\n",
              "      <td>1</td>\n",
              "      <td>2</td>\n",
              "      <td>3</td>\n",
              "      <td>4</td>\n",
              "      <td>3</td>\n",
              "      <td>3</td>\n",
              "      <td>1.0</td>\n",
              "      <td>3.0</td>\n",
              "    </tr>\n",
              "    <tr>\n",
              "      <th>4</th>\n",
              "      <td>3</td>\n",
              "      <td>3</td>\n",
              "      <td>3</td>\n",
              "      <td>2</td>\n",
              "      <td>0</td>\n",
              "      <td>4</td>\n",
              "      <td>3</td>\n",
              "      <td>0</td>\n",
              "      <td>2</td>\n",
              "      <td>2</td>\n",
              "      <td>3</td>\n",
              "      <td>4</td>\n",
              "      <td>0</td>\n",
              "      <td>2</td>\n",
              "      <td>1</td>\n",
              "      <td>2</td>\n",
              "      <td>2</td>\n",
              "      <td>3</td>\n",
              "      <td>1.0</td>\n",
              "      <td>3.0</td>\n",
              "    </tr>\n",
              "    <tr>\n",
              "      <th>5</th>\n",
              "      <td>2</td>\n",
              "      <td>1</td>\n",
              "      <td>3</td>\n",
              "      <td>2</td>\n",
              "      <td>1</td>\n",
              "      <td>2</td>\n",
              "      <td>4</td>\n",
              "      <td>3</td>\n",
              "      <td>3</td>\n",
              "      <td>1</td>\n",
              "      <td>4</td>\n",
              "      <td>3</td>\n",
              "      <td>1</td>\n",
              "      <td>1</td>\n",
              "      <td>3</td>\n",
              "      <td>3</td>\n",
              "      <td>3</td>\n",
              "      <td>3</td>\n",
              "      <td>1.0</td>\n",
              "      <td>3.0</td>\n",
              "    </tr>\n",
              "    <tr>\n",
              "      <th>...</th>\n",
              "      <td>...</td>\n",
              "      <td>...</td>\n",
              "      <td>...</td>\n",
              "      <td>...</td>\n",
              "      <td>...</td>\n",
              "      <td>...</td>\n",
              "      <td>...</td>\n",
              "      <td>...</td>\n",
              "      <td>...</td>\n",
              "      <td>...</td>\n",
              "      <td>...</td>\n",
              "      <td>...</td>\n",
              "      <td>...</td>\n",
              "      <td>...</td>\n",
              "      <td>...</td>\n",
              "      <td>...</td>\n",
              "      <td>...</td>\n",
              "      <td>...</td>\n",
              "      <td>...</td>\n",
              "      <td>...</td>\n",
              "    </tr>\n",
              "    <tr>\n",
              "      <th>302</th>\n",
              "      <td>0</td>\n",
              "      <td>1</td>\n",
              "      <td>0</td>\n",
              "      <td>4</td>\n",
              "      <td>4</td>\n",
              "      <td>3</td>\n",
              "      <td>4</td>\n",
              "      <td>1</td>\n",
              "      <td>0</td>\n",
              "      <td>0</td>\n",
              "      <td>3</td>\n",
              "      <td>3</td>\n",
              "      <td>4</td>\n",
              "      <td>0</td>\n",
              "      <td>0</td>\n",
              "      <td>4</td>\n",
              "      <td>0</td>\n",
              "      <td>4</td>\n",
              "      <td>3.0</td>\n",
              "      <td>2.0</td>\n",
              "    </tr>\n",
              "    <tr>\n",
              "      <th>303</th>\n",
              "      <td>4</td>\n",
              "      <td>1</td>\n",
              "      <td>1</td>\n",
              "      <td>4</td>\n",
              "      <td>3</td>\n",
              "      <td>4</td>\n",
              "      <td>0</td>\n",
              "      <td>0</td>\n",
              "      <td>3</td>\n",
              "      <td>3</td>\n",
              "      <td>4</td>\n",
              "      <td>1</td>\n",
              "      <td>0</td>\n",
              "      <td>2</td>\n",
              "      <td>3</td>\n",
              "      <td>1</td>\n",
              "      <td>3</td>\n",
              "      <td>1</td>\n",
              "      <td>4.0</td>\n",
              "      <td>3.0</td>\n",
              "    </tr>\n",
              "    <tr>\n",
              "      <th>304</th>\n",
              "      <td>3</td>\n",
              "      <td>1</td>\n",
              "      <td>3</td>\n",
              "      <td>3</td>\n",
              "      <td>0</td>\n",
              "      <td>3</td>\n",
              "      <td>1</td>\n",
              "      <td>1</td>\n",
              "      <td>4</td>\n",
              "      <td>0</td>\n",
              "      <td>3</td>\n",
              "      <td>4</td>\n",
              "      <td>1</td>\n",
              "      <td>1</td>\n",
              "      <td>3</td>\n",
              "      <td>4</td>\n",
              "      <td>3</td>\n",
              "      <td>0</td>\n",
              "      <td>4.0</td>\n",
              "      <td>2.0</td>\n",
              "    </tr>\n",
              "    <tr>\n",
              "      <th>305</th>\n",
              "      <td>4</td>\n",
              "      <td>1</td>\n",
              "      <td>1</td>\n",
              "      <td>4</td>\n",
              "      <td>3</td>\n",
              "      <td>3</td>\n",
              "      <td>3</td>\n",
              "      <td>0</td>\n",
              "      <td>4</td>\n",
              "      <td>3</td>\n",
              "      <td>4</td>\n",
              "      <td>3</td>\n",
              "      <td>3</td>\n",
              "      <td>1</td>\n",
              "      <td>2</td>\n",
              "      <td>3</td>\n",
              "      <td>2</td>\n",
              "      <td>3</td>\n",
              "      <td>2.0</td>\n",
              "      <td>3.0</td>\n",
              "    </tr>\n",
              "    <tr>\n",
              "      <th>306</th>\n",
              "      <td>2</td>\n",
              "      <td>1</td>\n",
              "      <td>0</td>\n",
              "      <td>3</td>\n",
              "      <td>4</td>\n",
              "      <td>3</td>\n",
              "      <td>3</td>\n",
              "      <td>2</td>\n",
              "      <td>1</td>\n",
              "      <td>0</td>\n",
              "      <td>2</td>\n",
              "      <td>4</td>\n",
              "      <td>1</td>\n",
              "      <td>1</td>\n",
              "      <td>1</td>\n",
              "      <td>4</td>\n",
              "      <td>1</td>\n",
              "      <td>4</td>\n",
              "      <td>0.0</td>\n",
              "      <td>3.0</td>\n",
              "    </tr>\n",
              "  </tbody>\n",
              "</table>\n",
              "<p>306 rows × 20 columns</p>\n",
              "</div>"
            ],
            "text/plain": [
              "     Q1  Q2  Q3  Q4  Q5  Q6  Q7  Q8  Q9  Q10  Q11  Q12  Q13  Q14  Q15  Q16  \\\n",
              "1     3   2   4   2   2   2   3   2   2    2    3    3    1    1    2    2   \n",
              "2     2   3   1   3   1   3   1   3   3    1    1    4    0    2    3    2   \n",
              "3     3   4   3   3   4   3   2   3   3    3    3    4    1    2    3    4   \n",
              "4     3   3   3   2   0   4   3   0   2    2    3    4    0    2    1    2   \n",
              "5     2   1   3   2   1   2   4   3   3    1    4    3    1    1    3    3   \n",
              "..   ..  ..  ..  ..  ..  ..  ..  ..  ..  ...  ...  ...  ...  ...  ...  ...   \n",
              "302   0   1   0   4   4   3   4   1   0    0    3    3    4    0    0    4   \n",
              "303   4   1   1   4   3   4   0   0   3    3    4    1    0    2    3    1   \n",
              "304   3   1   3   3   0   3   1   1   4    0    3    4    1    1    3    4   \n",
              "305   4   1   1   4   3   3   3   0   4    3    4    3    3    1    2    3   \n",
              "306   2   1   0   3   4   3   3   2   1    0    2    4    1    1    1    4   \n",
              "\n",
              "     Q17  Q18  Q19  Q20  \n",
              "1      1    3  3.0  2.0  \n",
              "2      1    3  2.0  3.0  \n",
              "3      3    3  1.0  3.0  \n",
              "4      2    3  1.0  3.0  \n",
              "5      3    3  1.0  3.0  \n",
              "..   ...  ...  ...  ...  \n",
              "302    0    4  3.0  2.0  \n",
              "303    3    1  4.0  3.0  \n",
              "304    3    0  4.0  2.0  \n",
              "305    2    3  2.0  3.0  \n",
              "306    1    4  0.0  3.0  \n",
              "\n",
              "[306 rows x 20 columns]"
            ]
          },
          "execution_count": 107,
          "metadata": {},
          "output_type": "execute_result"
        }
      ],
      "source": [
        "df\n",
        "# df.to_csv(\"mentalStressDataSet.csv\")\n",
        "# np.savetxt(\"mentalStressDataSet.csv\", df, delimiter=\",\", header = \"Q1, Q2, Q3, Q4, Q5, Q6, Q7, Q8, Q9, Q10, Q11, Q12, Q13, Q14, Q15, Q16, Q17, Q18, Q19, Q20\")"
      ]
    },
    {
      "cell_type": "code",
      "execution_count": 108,
      "metadata": {
        "colab": {},
        "colab_type": "code",
        "id": "9ATP5IOViLKb"
      },
      "outputs": [],
      "source": [
        "df = StandardScaler().fit_transform(df)"
      ]
    },
    {
      "cell_type": "code",
      "execution_count": 109,
      "metadata": {
        "colab": {},
        "colab_type": "code",
        "id": "yfPhTfMyiLKf",
        "outputId": "6747c2fc-61e7-4d85-e375-e9c60cd9023c"
      },
      "outputs": [],
      "source": [
        "df1 = pd.DataFrame(data = df, columns= ['Q1', 'Q2', 'Q3', 'Q4', 'Q5', 'Q6', 'Q7', 'Q8', 'Q9', 'Q10', 'Q11', 'Q12', 'Q13', 'Q14', 'Q15', 'Q16', 'Q17', 'Q18', 'Q19', 'Q20'])\n",
        "# # Create the correlation matrix\n",
        "corr_matrix = df1.corr()\n",
        "\n",
        "# Print the correlation matrix\n",
        "# # print(corr_matrix)\n",
        "# corr_matrix.to_csv(\"correlation_matrix.csv\")"
      ]
    },
    {
      "cell_type": "code",
      "execution_count": 110,
      "metadata": {
        "colab": {},
        "colab_type": "code",
        "id": "8U5krOkSiLKi",
        "outputId": "99118918-e213-4cc8-ecb7-e92c563a6b62",
        "scrolled": true
      },
      "outputs": [
        {
          "data": {
            "text/html": [
              "<div>\n",
              "<style scoped>\n",
              "    .dataframe tbody tr th:only-of-type {\n",
              "        vertical-align: middle;\n",
              "    }\n",
              "\n",
              "    .dataframe tbody tr th {\n",
              "        vertical-align: top;\n",
              "    }\n",
              "\n",
              "    .dataframe thead th {\n",
              "        text-align: right;\n",
              "    }\n",
              "</style>\n",
              "<table border=\"1\" class=\"dataframe\">\n",
              "  <thead>\n",
              "    <tr style=\"text-align: right;\">\n",
              "      <th></th>\n",
              "      <th>P1</th>\n",
              "      <th>P2</th>\n",
              "    </tr>\n",
              "  </thead>\n",
              "  <tbody>\n",
              "    <tr>\n",
              "      <th>0</th>\n",
              "      <td>-0.139420</td>\n",
              "      <td>0.104261</td>\n",
              "    </tr>\n",
              "    <tr>\n",
              "      <th>1</th>\n",
              "      <td>-0.413390</td>\n",
              "      <td>-0.481051</td>\n",
              "    </tr>\n",
              "    <tr>\n",
              "      <th>2</th>\n",
              "      <td>-1.733305</td>\n",
              "      <td>-0.126021</td>\n",
              "    </tr>\n",
              "    <tr>\n",
              "      <th>3</th>\n",
              "      <td>-1.067436</td>\n",
              "      <td>-0.504838</td>\n",
              "    </tr>\n",
              "    <tr>\n",
              "      <th>4</th>\n",
              "      <td>-0.616119</td>\n",
              "      <td>-0.346936</td>\n",
              "    </tr>\n",
              "    <tr>\n",
              "      <th>...</th>\n",
              "      <td>...</td>\n",
              "      <td>...</td>\n",
              "    </tr>\n",
              "    <tr>\n",
              "      <th>301</th>\n",
              "      <td>1.977353</td>\n",
              "      <td>-4.795627</td>\n",
              "    </tr>\n",
              "    <tr>\n",
              "      <th>302</th>\n",
              "      <td>-2.025788</td>\n",
              "      <td>1.497088</td>\n",
              "    </tr>\n",
              "    <tr>\n",
              "      <th>303</th>\n",
              "      <td>-2.088263</td>\n",
              "      <td>0.508040</td>\n",
              "    </tr>\n",
              "    <tr>\n",
              "      <th>304</th>\n",
              "      <td>-0.974129</td>\n",
              "      <td>-1.331686</td>\n",
              "    </tr>\n",
              "    <tr>\n",
              "      <th>305</th>\n",
              "      <td>0.446935</td>\n",
              "      <td>-4.048071</td>\n",
              "    </tr>\n",
              "  </tbody>\n",
              "</table>\n",
              "<p>306 rows × 2 columns</p>\n",
              "</div>"
            ],
            "text/plain": [
              "           P1        P2\n",
              "0   -0.139420  0.104261\n",
              "1   -0.413390 -0.481051\n",
              "2   -1.733305 -0.126021\n",
              "3   -1.067436 -0.504838\n",
              "4   -0.616119 -0.346936\n",
              "..        ...       ...\n",
              "301  1.977353 -4.795627\n",
              "302 -2.025788  1.497088\n",
              "303 -2.088263  0.508040\n",
              "304 -0.974129 -1.331686\n",
              "305  0.446935 -4.048071\n",
              "\n",
              "[306 rows x 2 columns]"
            ]
          },
          "execution_count": 110,
          "metadata": {},
          "output_type": "execute_result"
        }
      ],
      "source": [
        "pca = PCA(n_components=2)\n",
        "principalComponents = pca.fit_transform(df)\n",
        "principalDF=pd.DataFrame(data=principalComponents,columns=['P1','P2'])\n",
        "principalDF"
      ]
    },
    {
      "cell_type": "code",
      "execution_count": 111,
      "metadata": {
        "colab": {},
        "colab_type": "code",
        "id": "RRtBcJZAiLKm",
        "outputId": "45b12e18-3680-41e6-a504-ee7b529d62ec"
      },
      "outputs": [
        {
          "data": {
            "image/png": "[encoded data removed]",
            "text/plain": [
              "<Figure size 600x600 with 1 Axes>"
            ]
          },
          "metadata": {},
          "output_type": "display_data"
        }
      ],
      "source": [
        "plt.figure(figsize=(6,6))\n",
        "plt.scatter(principalDF.iloc[:, 0], principalDF.iloc[:, 1])\n",
        "plt.xlabel('x')\n",
        "plt.ylabel('y')\n",
        "plt.title('Visualization of Responses');"
      ]
    },
    {
      "cell_type": "code",
      "execution_count": 112,
      "metadata": {
        "colab": {},
        "colab_type": "code",
        "id": "faUTLdDHiLKp"
      },
      "outputs": [],
      "source": [
        "dfX=pd.read_csv(\"1.csv\")\n",
        "dfY=pd.read_csv(\"22.csv\")"
      ]
    },
    {
      "cell_type": "code",
      "execution_count": 113,
      "metadata": {
        "colab": {},
        "colab_type": "code",
        "id": "l_p2vFhBiLKs"
      },
      "outputs": [],
      "source": [
        "dfX = StandardScaler().fit_transform(dfX)"
      ]
    },
    {
      "cell_type": "code",
      "execution_count": 114,
      "metadata": {
        "colab": {},
        "colab_type": "code",
        "id": "-W1ZpQZiiLKw",
        "outputId": "2e60f2a8-b2c2-4d64-cc5e-b3483e37eab3",
        "scrolled": true
      },
      "outputs": [
        {
          "data": {
            "text/plain": [
              "array([[-1.41421356e+00, -1.41421356e+00, -1.41421356e+00,\n",
              "        -1.41421356e+00, -1.41421356e+00, -1.41421356e+00,\n",
              "        -1.41421356e+00, -1.41421356e+00, -1.41421356e+00,\n",
              "        -1.41421356e+00, -1.41421356e+00, -1.41421356e+00,\n",
              "        -1.41421356e+00, -1.41421356e+00, -1.41421356e+00,\n",
              "        -1.41421356e+00, -1.41421356e+00, -1.41421356e+00,\n",
              "        -1.41421356e+00, -1.41421356e+00],\n",
              "       [-7.07106781e-01, -7.07106781e-01, -7.07106781e-01,\n",
              "        -7.07106781e-01, -7.07106781e-01, -7.07106781e-01,\n",
              "        -7.07106781e-01, -7.07106781e-01, -7.07106781e-01,\n",
              "        -7.07106781e-01, -7.07106781e-01, -7.07106781e-01,\n",
              "        -7.07106781e-01, -7.07106781e-01, -7.07106781e-01,\n",
              "        -7.07106781e-01, -7.07106781e-01, -7.07106781e-01,\n",
              "        -7.07106781e-01, -7.07106781e-01],\n",
              "       [-4.44089211e-17, -4.44089211e-17, -4.44089211e-17,\n",
              "        -4.44089211e-17, -4.44089211e-17, -4.44089211e-17,\n",
              "        -4.44089211e-17, -4.44089211e-17, -4.44089211e-17,\n",
              "        -4.44089211e-17, -4.44089211e-17, -4.44089211e-17,\n",
              "        -4.44089211e-17, -4.44089211e-17, -4.44089211e-17,\n",
              "        -4.44089211e-17, -4.44089211e-17, -4.44089211e-17,\n",
              "        -4.44089211e-17, -4.44089211e-17],\n",
              "       [ 7.07106781e-01,  7.07106781e-01,  7.07106781e-01,\n",
              "         7.07106781e-01,  7.07106781e-01,  7.07106781e-01,\n",
              "         7.07106781e-01,  7.07106781e-01,  7.07106781e-01,\n",
              "         7.07106781e-01,  7.07106781e-01,  7.07106781e-01,\n",
              "         7.07106781e-01,  7.07106781e-01,  7.07106781e-01,\n",
              "         7.07106781e-01,  7.07106781e-01,  7.07106781e-01,\n",
              "         7.07106781e-01,  7.07106781e-01],\n",
              "       [ 1.41421356e+00,  1.41421356e+00,  1.41421356e+00,\n",
              "         1.41421356e+00,  1.41421356e+00,  1.41421356e+00,\n",
              "         1.41421356e+00,  1.41421356e+00,  1.41421356e+00,\n",
              "         1.41421356e+00,  1.41421356e+00,  1.41421356e+00,\n",
              "         1.41421356e+00,  1.41421356e+00,  1.41421356e+00,\n",
              "         1.41421356e+00,  1.41421356e+00,  1.41421356e+00,\n",
              "         1.41421356e+00,  1.41421356e+00]])"
            ]
          },
          "execution_count": 114,
          "metadata": {},
          "output_type": "execute_result"
        }
      ],
      "source": [
        "dfX"
      ]
    },
    {
      "cell_type": "code",
      "execution_count": 115,
      "metadata": {
        "colab": {},
        "colab_type": "code",
        "id": "hMax8H-kiLK0"
      },
      "outputs": [],
      "source": [
        "principalComponentsX = pca.fit_transform(dfX)"
      ]
    },
    {
      "cell_type": "code",
      "execution_count": 116,
      "metadata": {
        "colab": {},
        "colab_type": "code",
        "id": "YHYq6soziLK3"
      },
      "outputs": [],
      "source": [
        "principalDFX=pd.DataFrame(data=principalComponentsX,columns=['P1','P2'])"
      ]
    },
    {
      "cell_type": "code",
      "execution_count": 117,
      "metadata": {
        "colab": {},
        "colab_type": "code",
        "id": "nELpacz7iLK7",
        "outputId": "7ef79f3d-1099-4514-a8cd-fcca8cc7c9c1"
      },
      "outputs": [
        {
          "data": {
            "text/html": [
              "<div>\n",
              "<style scoped>\n",
              "    .dataframe tbody tr th:only-of-type {\n",
              "        vertical-align: middle;\n",
              "    }\n",
              "\n",
              "    .dataframe tbody tr th {\n",
              "        vertical-align: top;\n",
              "    }\n",
              "\n",
              "    .dataframe thead th {\n",
              "        text-align: right;\n",
              "    }\n",
              "</style>\n",
              "<table border=\"1\" class=\"dataframe\">\n",
              "  <thead>\n",
              "    <tr style=\"text-align: right;\">\n",
              "      <th></th>\n",
              "      <th>P1</th>\n",
              "      <th>P2</th>\n",
              "    </tr>\n",
              "  </thead>\n",
              "  <tbody>\n",
              "    <tr>\n",
              "      <th>0</th>\n",
              "      <td>-6.324555e+00</td>\n",
              "      <td>5.807220e-16</td>\n",
              "    </tr>\n",
              "    <tr>\n",
              "      <th>1</th>\n",
              "      <td>-3.162278e+00</td>\n",
              "      <td>-1.935740e-16</td>\n",
              "    </tr>\n",
              "    <tr>\n",
              "      <th>2</th>\n",
              "      <td>-3.332617e-25</td>\n",
              "      <td>3.060016e-41</td>\n",
              "    </tr>\n",
              "    <tr>\n",
              "      <th>3</th>\n",
              "      <td>3.162278e+00</td>\n",
              "      <td>1.935740e-16</td>\n",
              "    </tr>\n",
              "    <tr>\n",
              "      <th>4</th>\n",
              "      <td>6.324555e+00</td>\n",
              "      <td>3.871480e-16</td>\n",
              "    </tr>\n",
              "  </tbody>\n",
              "</table>\n",
              "</div>"
            ],
            "text/plain": [
              "             P1            P2\n",
              "0 -6.324555e+00  5.807220e-16\n",
              "1 -3.162278e+00 -1.935740e-16\n",
              "2 -3.332617e-25  3.060016e-41\n",
              "3  3.162278e+00  1.935740e-16\n",
              "4  6.324555e+00  3.871480e-16"
            ]
          },
          "execution_count": 117,
          "metadata": {},
          "output_type": "execute_result"
        }
      ],
      "source": [
        "principalDFX"
      ]
    },
    {
      "cell_type": "code",
      "execution_count": 118,
      "metadata": {
        "colab": {},
        "colab_type": "code",
        "id": "j9d2HN6RiLK-",
        "outputId": "480bec3e-8e53-4daf-e3d3-b85a6ab2335d"
      },
      "outputs": [
        {
          "data": {
            "text/html": [
              "<div>\n",
              "<style scoped>\n",
              "    .dataframe tbody tr th:only-of-type {\n",
              "        vertical-align: middle;\n",
              "    }\n",
              "\n",
              "    .dataframe tbody tr th {\n",
              "        vertical-align: top;\n",
              "    }\n",
              "\n",
              "    .dataframe thead th {\n",
              "        text-align: right;\n",
              "    }\n",
              "</style>\n",
              "<table border=\"1\" class=\"dataframe\">\n",
              "  <thead>\n",
              "    <tr style=\"text-align: right;\">\n",
              "      <th></th>\n",
              "      <th>Y</th>\n",
              "    </tr>\n",
              "  </thead>\n",
              "  <tbody>\n",
              "    <tr>\n",
              "      <th>0</th>\n",
              "      <td>VERY LOW</td>\n",
              "    </tr>\n",
              "    <tr>\n",
              "      <th>1</th>\n",
              "      <td>LOW</td>\n",
              "    </tr>\n",
              "    <tr>\n",
              "      <th>2</th>\n",
              "      <td>MEDIUM</td>\n",
              "    </tr>\n",
              "    <tr>\n",
              "      <th>3</th>\n",
              "      <td>HIGH</td>\n",
              "    </tr>\n",
              "    <tr>\n",
              "      <th>4</th>\n",
              "      <td>VERY HIGH</td>\n",
              "    </tr>\n",
              "  </tbody>\n",
              "</table>\n",
              "</div>"
            ],
            "text/plain": [
              "           Y\n",
              "0   VERY LOW\n",
              "1        LOW\n",
              "2     MEDIUM\n",
              "3       HIGH\n",
              "4  VERY HIGH"
            ]
          },
          "execution_count": 118,
          "metadata": {},
          "output_type": "execute_result"
        }
      ],
      "source": [
        "dfY"
      ]
    },
    {
      "cell_type": "code",
      "execution_count": 119,
      "metadata": {
        "colab": {},
        "colab_type": "code",
        "id": "zYxkOedciLLC"
      },
      "outputs": [],
      "source": [
        "classifier = KNeighborsClassifier(n_neighbors=1)"
      ]
    },
    {
      "cell_type": "code",
      "execution_count": 120,
      "metadata": {
        "colab": {},
        "colab_type": "code",
        "id": "8fzStct2iLLF",
        "outputId": "63acf7d6-5306-47a6-b7b4-56ffd20f2cb5"
      },
      "outputs": [
        {
          "name": "stderr",
          "output_type": "stream",
          "text": [
            "c:\\Users\\DELL\\AppData\\Local\\Programs\\Python\\Python311\\Lib\\site-packages\\sklearn\\neighbors\\_classification.py:215: DataConversionWarning: A column-vector y was passed when a 1d array was expected. Please change the shape of y to (n_samples,), for example using ravel().\n",
            "  return self._fit(X, y)\n"
          ]
        },
        {
          "data": {
            "text/html": [
              "<style>#sk-container-id-10 {color: black;background-color: white;}#sk-container-id-10 pre{padding: 0;}#sk-container-id-10 div.sk-toggleable {background-color: white;}#sk-container-id-10 label.sk-toggleable__label {cursor: pointer;display: block;width: 100%;margin-bottom: 0;padding: 0.3em;box-sizing: border-box;text-align: center;}#sk-container-id-10 label.sk-toggleable__label-arrow:before {content: \"▸\";float: left;margin-right: 0.25em;color: #696969;}#sk-container-id-10 label.sk-toggleable__label-arrow:hover:before {color: black;}#sk-container-id-10 div.sk-estimator:hover label.sk-toggleable__label-arrow:before {color: black;}#sk-container-id-10 div.sk-toggleable__content {max-height: 0;max-width: 0;overflow: hidden;text-align: left;background-color: #f0f8ff;}#sk-container-id-10 div.sk-toggleable__content pre {margin: 0.2em;color: black;border-radius: 0.25em;background-color: #f0f8ff;}#sk-container-id-10 input.sk-toggleable__control:checked~div.sk-toggleable__content {max-height: 200px;max-width: 100%;overflow: auto;}#sk-container-id-10 input.sk-toggleable__control:checked~label.sk-toggleable__label-arrow:before {content: \"▾\";}#sk-container-id-10 div.sk-estimator input.sk-toggleable__control:checked~label.sk-toggleable__label {background-color: #d4ebff;}#sk-container-id-10 div.sk-label input.sk-toggleable__control:checked~label.sk-toggleable__label {background-color: #d4ebff;}#sk-container-id-10 input.sk-hidden--visually {border: 0;clip: rect(1px 1px 1px 1px);clip: rect(1px, 1px, 1px, 1px);height: 1px;margin: -1px;overflow: hidden;padding: 0;position: absolute;width: 1px;}#sk-container-id-10 div.sk-estimator {font-family: monospace;background-color: #f0f8ff;border: 1px dotted black;border-radius: 0.25em;box-sizing: border-box;margin-bottom: 0.5em;}#sk-container-id-10 div.sk-estimator:hover {background-color: #d4ebff;}#sk-container-id-10 div.sk-parallel-item::after {content: \"\";width: 100%;border-bottom: 1px solid gray;flex-grow: 1;}#sk-container-id-10 div.sk-label:hover label.sk-toggleable__label {background-color: #d4ebff;}#sk-container-id-10 div.sk-serial::before {content: \"\";position: absolute;border-left: 1px solid gray;box-sizing: border-box;top: 0;bottom: 0;left: 50%;z-index: 0;}#sk-container-id-10 div.sk-serial {display: flex;flex-direction: column;align-items: center;background-color: white;padding-right: 0.2em;padding-left: 0.2em;position: relative;}#sk-container-id-10 div.sk-item {position: relative;z-index: 1;}#sk-container-id-10 div.sk-parallel {display: flex;align-items: stretch;justify-content: center;background-color: white;position: relative;}#sk-container-id-10 div.sk-item::before, #sk-container-id-10 div.sk-parallel-item::before {content: \"\";position: absolute;border-left: 1px solid gray;box-sizing: border-box;top: 0;bottom: 0;left: 50%;z-index: -1;}#sk-container-id-10 div.sk-parallel-item {display: flex;flex-direction: column;z-index: 1;position: relative;background-color: white;}#sk-container-id-10 div.sk-parallel-item:first-child::after {align-self: flex-end;width: 50%;}#sk-container-id-10 div.sk-parallel-item:last-child::after {align-self: flex-start;width: 50%;}#sk-container-id-10 div.sk-parallel-item:only-child::after {width: 0;}#sk-container-id-10 div.sk-dashed-wrapped {border: 1px dashed gray;margin: 0 0.4em 0.5em 0.4em;box-sizing: border-box;padding-bottom: 0.4em;background-color: white;}#sk-container-id-10 div.sk-label label {font-family: monospace;font-weight: bold;display: inline-block;line-height: 1.2em;}#sk-container-id-10 div.sk-label-container {text-align: center;}#sk-container-id-10 div.sk-container {/* jupyter's `normalize.less` sets `[hidden] { display: none; }` but bootstrap.min.css set `[hidden] { display: none !important; }` so we also need the `!important` here to be able to override the default hidden behavior on the sphinx rendered scikit-learn.org. See: https://github.com/scikit-learn/scikit-learn/issues/21755 */display: inline-block !important;position: relative;}#sk-container-id-10 div.sk-text-repr-fallback {display: none;}</style><div id=\"sk-container-id-10\" class=\"sk-top-container\"><div class=\"sk-text-repr-fallback\"><pre>KNeighborsClassifier(n_neighbors=1)</pre><b>In a Jupyter environment, please rerun this cell to show the HTML representation or trust the notebook. <br />On GitHub, the HTML representation is unable to render, please try loading this page with nbviewer.org.</b></div><div class=\"sk-container\" hidden><div class=\"sk-item\"><div class=\"sk-estimator sk-toggleable\"><input class=\"sk-toggleable__control sk-hidden--visually\" id=\"sk-estimator-id-10\" type=\"checkbox\" checked><label for=\"sk-estimator-id-10\" class=\"sk-toggleable__label sk-toggleable__label-arrow\">KNeighborsClassifier</label><div class=\"sk-toggleable__content\"><pre>KNeighborsClassifier(n_neighbors=1)</pre></div></div></div></div></div>"
            ],
            "text/plain": [
              "KNeighborsClassifier(n_neighbors=1)"
            ]
          },
          "execution_count": 120,
          "metadata": {},
          "output_type": "execute_result"
        }
      ],
      "source": [
        "classifier.fit(principalDFX, dfY)"
      ]
    },
    {
      "cell_type": "code",
      "execution_count": 121,
      "metadata": {
        "colab": {},
        "colab_type": "code",
        "id": "1YlQlE1siLLJ"
      },
      "outputs": [],
      "source": [
        "y_pred = classifier.predict(principalDF)"
      ]
    },
    {
      "cell_type": "code",
      "execution_count": 122,
      "metadata": {
        "colab": {},
        "colab_type": "code",
        "id": "uKGQpHfliLLM"
      },
      "outputs": [],
      "source": [
        "for i in range(len(y_pred)):\n",
        "    if y_pred[i]=='VERY LOW':\n",
        "        y_pred[i]=0\n",
        "    elif y_pred[i]=='LOW':\n",
        "        y_pred[i]=1\n",
        "    elif y_pred[i]=='MEDIUM':\n",
        "        y_pred[i]=2\n",
        "    elif y_pred[i]=='HIGH':\n",
        "        y_pred[i]=3\n",
        "    else:\n",
        "        y_pred[i]=4"
      ]
    },
    {
      "cell_type": "code",
      "execution_count": 123,
      "metadata": {
        "colab": {},
        "colab_type": "code",
        "id": "Gl8vw-PAiLLR"
      },
      "outputs": [],
      "source": [
        "#Type covert object to array \n",
        "y_pred=y_pred.astype(str)\n",
        "y_pred= y_pred.astype(int)"
      ]
    },
    {
      "cell_type": "code",
      "execution_count": 124,
      "metadata": {
        "colab": {},
        "colab_type": "code",
        "id": "aGG4IA0fiLLW",
        "outputId": "8d4e8378-e1ff-4f38-de0b-6bbc3dfbbfe1"
      },
      "outputs": [
        {
          "data": {
            "text/plain": [
              "array([2, 2, 1, 2, 2, 4, 4, 2, 3, 2, 2, 2, 1, 4, 2, 2, 0, 2, 1, 3, 2, 2,\n",
              "       2, 3, 1, 2, 2, 2, 3, 2, 2, 2, 1, 2, 2, 2, 3, 0, 0, 1, 2, 3, 4, 1,\n",
              "       1, 1, 1, 1, 1, 2, 3, 2, 4, 2, 1, 3, 1, 2, 3, 1, 1, 2, 2, 3, 2, 2,\n",
              "       1, 2, 2, 3, 2, 1, 3, 2, 3, 3, 1, 1, 1, 2, 1, 2, 2, 2, 2, 3, 1, 4,\n",
              "       4, 4, 4, 1, 1, 1, 1, 1, 4, 3, 4, 4, 4, 3, 3, 1, 2, 3, 1, 3, 2, 2,\n",
              "       3, 2, 2, 2, 3, 2, 3, 2, 2, 2, 1, 1, 2, 1, 2, 2, 2, 1, 2, 2, 2, 2,\n",
              "       2, 3, 2, 1, 1, 1, 1, 1, 1, 1, 1, 1, 1, 4, 4, 2, 2, 4, 2, 2, 2, 2,\n",
              "       3, 2, 2, 4, 3, 2, 2, 2, 2, 2, 2, 2, 2, 3, 3, 3, 3, 2, 2, 2, 2, 3,\n",
              "       2, 2, 2, 2, 2, 2, 2, 2, 2, 2, 2, 2, 2, 2, 2, 1, 2, 2, 2, 1, 1, 3,\n",
              "       3, 1, 2, 2, 2, 3, 3, 2, 2, 2, 2, 4, 2, 0, 2, 2, 1, 2, 2, 2, 2, 4,\n",
              "       2, 3, 2, 2, 2, 2, 1, 2, 2, 2, 2, 2, 1, 2, 2, 2, 2, 1, 2, 1, 2, 2,\n",
              "       1, 1, 1, 2, 2, 2, 2, 1, 2, 2, 2, 2, 2, 2, 2, 2, 1, 2, 2, 2, 2, 2,\n",
              "       2, 1, 2, 2, 2, 2, 2, 1, 2, 2, 2, 1, 3, 1, 2, 1, 2, 2, 2, 2, 1, 2,\n",
              "       1, 1, 2, 2, 1, 1, 1, 2, 1, 1, 1, 1, 1, 1, 2, 3, 1, 1, 2, 2])"
            ]
          },
          "execution_count": 124,
          "metadata": {},
          "output_type": "execute_result"
        }
      ],
      "source": [
        "y_pred"
      ]
    },
    {
      "cell_type": "code",
      "execution_count": 125,
      "metadata": {
        "colab": {},
        "colab_type": "code",
        "id": "RbwIjeRliLLZ"
      },
      "outputs": [],
      "source": [
        "y_pred[100]=4"
      ]
    },
    {
      "cell_type": "code",
      "execution_count": 126,
      "metadata": {},
      "outputs": [
        {
          "data": {
            "image/png": "[encoded data removed]",
            "text/plain": [
              "<Figure size 640x480 with 1 Axes>"
            ]
          },
          "metadata": {},
          "output_type": "display_data"
        }
      ],
      "source": [
        "# Convert the array to a DataFrame\n",
        "df2 = pd.DataFrame({\"values\": y_pred})\n",
        "# Create the count plot\n",
        "sns.countplot(x=\"values\", data=df2)\n",
        "\n",
        "# Add a title and labels\n",
        "plt.title(\"Count Plot\")\n",
        "plt.xlabel(\"Values\")\n",
        "plt.ylabel(\"Count\")\n",
        "\n",
        "# Show the plot\n",
        "plt.show()"
      ]
    },
    {
      "cell_type": "code",
      "execution_count": 127,
      "metadata": {
        "colab": {},
        "colab_type": "code",
        "id": "k_DLmjqAiLLc",
        "outputId": "5f448750-25e1-4e48-a27c-8771d270206d"
      },
      "outputs": [
        {
          "data": {
            "image/png": "[encoded data removed]",
            "text/plain": [
              "<Figure size 640x480 with 1 Axes>"
            ]
          },
          "metadata": {},
          "output_type": "display_data"
        }
      ],
      "source": [
        "colormapS = np.array(['Red', 'Blue', 'Green', 'Black', 'grey'])\n",
        "k = plt.scatter(principalDF.P1 , principalDF.P2, c = colormapS[y_pred])\n",
        "plt.title('Clusters{grey=very low,black=low,green=medium,blue=high,red=very high}')\n",
        "plt.xlabel('x')\n",
        "plt.ylabel('y')\n",
        "plt.show()"
      ]
    },
    {
      "cell_type": "code",
      "execution_count": 128,
      "metadata": {
        "colab": {},
        "colab_type": "code",
        "id": "da2RoyD3iLLf"
      },
      "outputs": [],
      "source": [
        "Y_labels=pd.DataFrame(y_pred)"
      ]
    },
    {
      "attachments": {},
      "cell_type": "markdown",
      "metadata": {
        "colab_type": "text",
        "id": "jdC-nrk7iLLk"
      },
      "source": [
        "Logistic Regression without PCA"
      ]
    },
    {
      "cell_type": "code",
      "execution_count": 129,
      "metadata": {
        "colab": {},
        "colab_type": "code",
        "id": "VfXWwDabiLLk"
      },
      "outputs": [],
      "source": [
        "X_t , X_te , Y_t , Y_te=train_test_split(df,y_pred,test_size=0.33,random_state=0)"
      ]
    },
    {
      "cell_type": "code",
      "execution_count": 130,
      "metadata": {
        "colab": {},
        "colab_type": "code",
        "id": "r42dF00fiLLo"
      },
      "outputs": [],
      "source": [
        "pCTe = pca.fit_transform(X_te)\n",
        "pCTe1=pd.DataFrame(data=pCTe,columns=['G1','G2'])"
      ]
    },
    {
      "cell_type": "code",
      "execution_count": 131,
      "metadata": {
        "colab": {},
        "colab_type": "code",
        "id": "M7vL6AzLiLLr",
        "outputId": "14967a6b-81c7-487d-a862-95cd643fe361"
      },
      "outputs": [
        {
          "data": {
            "image/png": "[encoded data removed]",
            "text/plain": [
              "<Figure size 640x480 with 1 Axes>"
            ]
          },
          "metadata": {},
          "output_type": "display_data"
        }
      ],
      "source": [
        "colormapS = np.array(['Red', 'Blue', 'Green', 'Black', 'grey'])\n",
        "k = plt.scatter(pCTe1.G1 , pCTe1.G2, c = colormapS[Y_te])\n",
        "plt.title('Y_test w/o PCA{grey=very low,black=low,green=medium,blue=high,red=very high}')\n",
        "plt.xlabel('x')\n",
        "plt.ylabel('y')\n",
        "plt.show()"
      ]
    },
    {
      "cell_type": "code",
      "execution_count": 132,
      "metadata": {
        "colab": {},
        "colab_type": "code",
        "id": "LXsNfTUMiLLu",
        "outputId": "ff635c32-4652-42c5-a1dd-e59b7f7807f8"
      },
      "outputs": [
        {
          "data": {
            "text/html": [
              "<style>#sk-container-id-11 {color: black;background-color: white;}#sk-container-id-11 pre{padding: 0;}#sk-container-id-11 div.sk-toggleable {background-color: white;}#sk-container-id-11 label.sk-toggleable__label {cursor: pointer;display: block;width: 100%;margin-bottom: 0;padding: 0.3em;box-sizing: border-box;text-align: center;}#sk-container-id-11 label.sk-toggleable__label-arrow:before {content: \"▸\";float: left;margin-right: 0.25em;color: #696969;}#sk-container-id-11 label.sk-toggleable__label-arrow:hover:before {color: black;}#sk-container-id-11 div.sk-estimator:hover label.sk-toggleable__label-arrow:before {color: black;}#sk-container-id-11 div.sk-toggleable__content {max-height: 0;max-width: 0;overflow: hidden;text-align: left;background-color: #f0f8ff;}#sk-container-id-11 div.sk-toggleable__content pre {margin: 0.2em;color: black;border-radius: 0.25em;background-color: #f0f8ff;}#sk-container-id-11 input.sk-toggleable__control:checked~div.sk-toggleable__content {max-height: 200px;max-width: 100%;overflow: auto;}#sk-container-id-11 input.sk-toggleable__control:checked~label.sk-toggleable__label-arrow:before {content: \"▾\";}#sk-container-id-11 div.sk-estimator input.sk-toggleable__control:checked~label.sk-toggleable__label {background-color: #d4ebff;}#sk-container-id-11 div.sk-label input.sk-toggleable__control:checked~label.sk-toggleable__label {background-color: #d4ebff;}#sk-container-id-11 input.sk-hidden--visually {border: 0;clip: rect(1px 1px 1px 1px);clip: rect(1px, 1px, 1px, 1px);height: 1px;margin: -1px;overflow: hidden;padding: 0;position: absolute;width: 1px;}#sk-container-id-11 div.sk-estimator {font-family: monospace;background-color: #f0f8ff;border: 1px dotted black;border-radius: 0.25em;box-sizing: border-box;margin-bottom: 0.5em;}#sk-container-id-11 div.sk-estimator:hover {background-color: #d4ebff;}#sk-container-id-11 div.sk-parallel-item::after {content: \"\";width: 100%;border-bottom: 1px solid gray;flex-grow: 1;}#sk-container-id-11 div.sk-label:hover label.sk-toggleable__label {background-color: #d4ebff;}#sk-container-id-11 div.sk-serial::before {content: \"\";position: absolute;border-left: 1px solid gray;box-sizing: border-box;top: 0;bottom: 0;left: 50%;z-index: 0;}#sk-container-id-11 div.sk-serial {display: flex;flex-direction: column;align-items: center;background-color: white;padding-right: 0.2em;padding-left: 0.2em;position: relative;}#sk-container-id-11 div.sk-item {position: relative;z-index: 1;}#sk-container-id-11 div.sk-parallel {display: flex;align-items: stretch;justify-content: center;background-color: white;position: relative;}#sk-container-id-11 div.sk-item::before, #sk-container-id-11 div.sk-parallel-item::before {content: \"\";position: absolute;border-left: 1px solid gray;box-sizing: border-box;top: 0;bottom: 0;left: 50%;z-index: -1;}#sk-container-id-11 div.sk-parallel-item {display: flex;flex-direction: column;z-index: 1;position: relative;background-color: white;}#sk-container-id-11 div.sk-parallel-item:first-child::after {align-self: flex-end;width: 50%;}#sk-container-id-11 div.sk-parallel-item:last-child::after {align-self: flex-start;width: 50%;}#sk-container-id-11 div.sk-parallel-item:only-child::after {width: 0;}#sk-container-id-11 div.sk-dashed-wrapped {border: 1px dashed gray;margin: 0 0.4em 0.5em 0.4em;box-sizing: border-box;padding-bottom: 0.4em;background-color: white;}#sk-container-id-11 div.sk-label label {font-family: monospace;font-weight: bold;display: inline-block;line-height: 1.2em;}#sk-container-id-11 div.sk-label-container {text-align: center;}#sk-container-id-11 div.sk-container {/* jupyter's `normalize.less` sets `[hidden] { display: none; }` but bootstrap.min.css set `[hidden] { display: none !important; }` so we also need the `!important` here to be able to override the default hidden behavior on the sphinx rendered scikit-learn.org. See: https://github.com/scikit-learn/scikit-learn/issues/21755 */display: inline-block !important;position: relative;}#sk-container-id-11 div.sk-text-repr-fallback {display: none;}</style><div id=\"sk-container-id-11\" class=\"sk-top-container\"><div class=\"sk-text-repr-fallback\"><pre>LogisticRegression()</pre><b>In a Jupyter environment, please rerun this cell to show the HTML representation or trust the notebook. <br />On GitHub, the HTML representation is unable to render, please try loading this page with nbviewer.org.</b></div><div class=\"sk-container\" hidden><div class=\"sk-item\"><div class=\"sk-estimator sk-toggleable\"><input class=\"sk-toggleable__control sk-hidden--visually\" id=\"sk-estimator-id-11\" type=\"checkbox\" checked><label for=\"sk-estimator-id-11\" class=\"sk-toggleable__label sk-toggleable__label-arrow\">LogisticRegression</label><div class=\"sk-toggleable__content\"><pre>LogisticRegression()</pre></div></div></div></div></div>"
            ],
            "text/plain": [
              "LogisticRegression()"
            ]
          },
          "execution_count": 132,
          "metadata": {},
          "output_type": "execute_result"
        }
      ],
      "source": [
        "logisticRegr = LogisticRegression()\n",
        "logisticRegr.fit(X_t,Y_t)"
      ]
    },
    {
      "cell_type": "code",
      "execution_count": 133,
      "metadata": {
        "colab": {},
        "colab_type": "code",
        "id": "xHwpQ4GziLLx"
      },
      "outputs": [
        {
          "name": "stdout",
          "output_type": "stream",
          "text": [
            "[2 1 1 2 2 2 2 1 2 2 2 2 4 2 2 1 1 4 2 2 2 4 2 1 1 4 2 1 3 2 2 2 2 2 2 1 2\n",
            " 1 2 2 2 4 2 1 3 3 1 2 2 4 4 2 2 2 2 4 2 2 2 1 2 1 2 2 2 2 4 3 3 2 1 1 1 1\n",
            " 2 2 2 1 1 1 2 2 2 2 0 1 2 2 2 2 2 2 2 1 1 1 1 1 3 2 1]\n"
          ]
        }
      ],
      "source": [
        "Y_log2=logisticRegr.predict(X_te)\n",
        "# print(Y_log2)\n",
        "# Y_log4 = Y_log2.astype(str).astype(int)\n",
        "print(Y_log2)"
      ]
    },
    {
      "cell_type": "code",
      "execution_count": 134,
      "metadata": {},
      "outputs": [
        {
          "data": {
            "image/png": "[encoded data removed]",
            "text/plain": [
              "<Figure size 640x480 with 1 Axes>"
            ]
          },
          "metadata": {},
          "output_type": "display_data"
        }
      ],
      "source": [
        "# Convert the array to a DataFrame\n",
        "df2 = pd.DataFrame({\"values\": Y_log2})\n",
        "# Create the count plot\n",
        "sns.countplot(x=\"values\", data=df2)\n",
        "\n",
        "# Add a title and labels\n",
        "plt.title(\"Count Plot\")\n",
        "plt.xlabel(\"Values\")\n",
        "plt.ylabel(\"Count\")\n",
        "\n",
        "# Show the plot\n",
        "plt.show()"
      ]
    },
    {
      "cell_type": "code",
      "execution_count": 135,
      "metadata": {
        "colab": {},
        "colab_type": "code",
        "id": "ypBcOrORiLLz",
        "outputId": "c74bc6fa-b5c9-4d2e-c1f5-4c41c643b075"
      },
      "outputs": [
        {
          "data": {
            "image/png": "[encoded data removed]",
            "text/plain": [
              "<Figure size 640x480 with 1 Axes>"
            ]
          },
          "metadata": {},
          "output_type": "display_data"
        }
      ],
      "source": [
        "colormapS = np.array(['Red', 'Blue', 'Green', 'Black', 'grey'])\n",
        "k = plt.scatter(pCTe1.G1 , pCTe1.G2, c = colormapS[Y_log2])\n",
        "plt.title('Log.R w/o PCA{grey=very low,black=low,green=medium,blue=high,red=very high}')\n",
        "plt.xlabel('x')\n",
        "plt.ylabel('y')\n",
        "plt.show()"
      ]
    },
    {
      "cell_type": "code",
      "execution_count": 136,
      "metadata": {
        "colab": {},
        "colab_type": "code",
        "id": "nDvUw4zYiLL4",
        "outputId": "7c5f4149-c913-4136-e4d9-878a782dc2da"
      },
      "outputs": [
        {
          "data": {
            "text/plain": [
              "0.8514851485148515"
            ]
          },
          "execution_count": 136,
          "metadata": {},
          "output_type": "execute_result"
        }
      ],
      "source": [
        "logisticRegr.score(X_te,Y_te)"
      ]
    },
    {
      "cell_type": "code",
      "execution_count": 137,
      "metadata": {
        "colab": {},
        "colab_type": "code",
        "id": "XG0Ryl9HiLL8",
        "outputId": "347ffb06-4d8d-4fdc-e4ff-ec5bc94861c3"
      },
      "outputs": [
        {
          "name": "stdout",
          "output_type": "stream",
          "text": [
            "Confusion Matrix - Without PCA, Logistic Reression\n"
          ]
        },
        {
          "data": {
            "text/plain": [
              "array([[ 1,  0,  0,  0,  0],\n",
              "       [ 0, 24,  1,  0,  0],\n",
              "       [ 0,  4, 53,  2,  0],\n",
              "       [ 0,  0,  3,  3,  4],\n",
              "       [ 0,  0,  0,  1,  5]], dtype=int64)"
            ]
          },
          "execution_count": 137,
          "metadata": {},
          "output_type": "execute_result"
        }
      ],
      "source": [
        "from sklearn.metrics import confusion_matrix\n",
        "print(\"Confusion Matrix - Without PCA, Logistic Reression\")\n",
        "confusion_matrix(Y_te, Y_log2)"
      ]
    },
    {
      "attachments": {},
      "cell_type": "markdown",
      "metadata": {
        "colab_type": "text",
        "id": "_MCh0LHbiLMB"
      },
      "source": [
        "## SVM without PCA"
      ]
    },
    {
      "cell_type": "code",
      "execution_count": 138,
      "metadata": {
        "colab": {},
        "colab_type": "code",
        "id": "eRvZnD0JiLMC",
        "outputId": "93deae7e-81d2-4c36-d98c-6d1e1f646a2b"
      },
      "outputs": [
        {
          "data": {
            "text/html": [
              "<style>#sk-container-id-12 {color: black;background-color: white;}#sk-container-id-12 pre{padding: 0;}#sk-container-id-12 div.sk-toggleable {background-color: white;}#sk-container-id-12 label.sk-toggleable__label {cursor: pointer;display: block;width: 100%;margin-bottom: 0;padding: 0.3em;box-sizing: border-box;text-align: center;}#sk-container-id-12 label.sk-toggleable__label-arrow:before {content: \"▸\";float: left;margin-right: 0.25em;color: #696969;}#sk-container-id-12 label.sk-toggleable__label-arrow:hover:before {color: black;}#sk-container-id-12 div.sk-estimator:hover label.sk-toggleable__label-arrow:before {color: black;}#sk-container-id-12 div.sk-toggleable__content {max-height: 0;max-width: 0;overflow: hidden;text-align: left;background-color: #f0f8ff;}#sk-container-id-12 div.sk-toggleable__content pre {margin: 0.2em;color: black;border-radius: 0.25em;background-color: #f0f8ff;}#sk-container-id-12 input.sk-toggleable__control:checked~div.sk-toggleable__content {max-height: 200px;max-width: 100%;overflow: auto;}#sk-container-id-12 input.sk-toggleable__control:checked~label.sk-toggleable__label-arrow:before {content: \"▾\";}#sk-container-id-12 div.sk-estimator input.sk-toggleable__control:checked~label.sk-toggleable__label {background-color: #d4ebff;}#sk-container-id-12 div.sk-label input.sk-toggleable__control:checked~label.sk-toggleable__label {background-color: #d4ebff;}#sk-container-id-12 input.sk-hidden--visually {border: 0;clip: rect(1px 1px 1px 1px);clip: rect(1px, 1px, 1px, 1px);height: 1px;margin: -1px;overflow: hidden;padding: 0;position: absolute;width: 1px;}#sk-container-id-12 div.sk-estimator {font-family: monospace;background-color: #f0f8ff;border: 1px dotted black;border-radius: 0.25em;box-sizing: border-box;margin-bottom: 0.5em;}#sk-container-id-12 div.sk-estimator:hover {background-color: #d4ebff;}#sk-container-id-12 div.sk-parallel-item::after {content: \"\";width: 100%;border-bottom: 1px solid gray;flex-grow: 1;}#sk-container-id-12 div.sk-label:hover label.sk-toggleable__label {background-color: #d4ebff;}#sk-container-id-12 div.sk-serial::before {content: \"\";position: absolute;border-left: 1px solid gray;box-sizing: border-box;top: 0;bottom: 0;left: 50%;z-index: 0;}#sk-container-id-12 div.sk-serial {display: flex;flex-direction: column;align-items: center;background-color: white;padding-right: 0.2em;padding-left: 0.2em;position: relative;}#sk-container-id-12 div.sk-item {position: relative;z-index: 1;}#sk-container-id-12 div.sk-parallel {display: flex;align-items: stretch;justify-content: center;background-color: white;position: relative;}#sk-container-id-12 div.sk-item::before, #sk-container-id-12 div.sk-parallel-item::before {content: \"\";position: absolute;border-left: 1px solid gray;box-sizing: border-box;top: 0;bottom: 0;left: 50%;z-index: -1;}#sk-container-id-12 div.sk-parallel-item {display: flex;flex-direction: column;z-index: 1;position: relative;background-color: white;}#sk-container-id-12 div.sk-parallel-item:first-child::after {align-self: flex-end;width: 50%;}#sk-container-id-12 div.sk-parallel-item:last-child::after {align-self: flex-start;width: 50%;}#sk-container-id-12 div.sk-parallel-item:only-child::after {width: 0;}#sk-container-id-12 div.sk-dashed-wrapped {border: 1px dashed gray;margin: 0 0.4em 0.5em 0.4em;box-sizing: border-box;padding-bottom: 0.4em;background-color: white;}#sk-container-id-12 div.sk-label label {font-family: monospace;font-weight: bold;display: inline-block;line-height: 1.2em;}#sk-container-id-12 div.sk-label-container {text-align: center;}#sk-container-id-12 div.sk-container {/* jupyter's `normalize.less` sets `[hidden] { display: none; }` but bootstrap.min.css set `[hidden] { display: none !important; }` so we also need the `!important` here to be able to override the default hidden behavior on the sphinx rendered scikit-learn.org. See: https://github.com/scikit-learn/scikit-learn/issues/21755 */display: inline-block !important;position: relative;}#sk-container-id-12 div.sk-text-repr-fallback {display: none;}</style><div id=\"sk-container-id-12\" class=\"sk-top-container\"><div class=\"sk-text-repr-fallback\"><pre>SVC()</pre><b>In a Jupyter environment, please rerun this cell to show the HTML representation or trust the notebook. <br />On GitHub, the HTML representation is unable to render, please try loading this page with nbviewer.org.</b></div><div class=\"sk-container\" hidden><div class=\"sk-item\"><div class=\"sk-estimator sk-toggleable\"><input class=\"sk-toggleable__control sk-hidden--visually\" id=\"sk-estimator-id-12\" type=\"checkbox\" checked><label for=\"sk-estimator-id-12\" class=\"sk-toggleable__label sk-toggleable__label-arrow\">SVC</label><div class=\"sk-toggleable__content\"><pre>SVC()</pre></div></div></div></div></div>"
            ],
            "text/plain": [
              "SVC()"
            ]
          },
          "execution_count": 138,
          "metadata": {},
          "output_type": "execute_result"
        }
      ],
      "source": [
        "clf = svm.SVC()\n",
        "clf.fit(X_t, Y_t)"
      ]
    },
    {
      "cell_type": "code",
      "execution_count": 139,
      "metadata": {
        "colab": {},
        "colab_type": "code",
        "id": "5RTxzlwgiLMG"
      },
      "outputs": [],
      "source": [
        "Y_SVM = clf.predict(X_te)"
      ]
    },
    {
      "cell_type": "code",
      "execution_count": 140,
      "metadata": {
        "colab": {},
        "colab_type": "code",
        "id": "KM2XOsediLMN",
        "outputId": "8e63f581-6661-4cac-f243-f1ade3e9ae7d"
      },
      "outputs": [
        {
          "data": {
            "image/png": "[encoded data removed]",
            "text/plain": [
              "<Figure size 640x480 with 1 Axes>"
            ]
          },
          "metadata": {},
          "output_type": "display_data"
        }
      ],
      "source": [
        "colormapS = np.array(['Red', 'Blue', 'Green', 'Black', 'grey'])\n",
        "k = plt.scatter(pCTe1.G1 , pCTe1.G2, c = colormapS[Y_SVM])\n",
        "plt.title('SVM w/o PCA{grey=very low,black=low,green=medium,blue=high,red=very high}')\n",
        "plt.xlabel('x')\n",
        "plt.ylabel('y')\n",
        "plt.show()"
      ]
    },
    {
      "cell_type": "code",
      "execution_count": 141,
      "metadata": {
        "colab": {},
        "colab_type": "code",
        "id": "UwQXw0F5iLMQ",
        "outputId": "b1219ad7-a456-46de-eb56-512fc5b16a2f"
      },
      "outputs": [
        {
          "data": {
            "text/plain": [
              "0.8811881188118812"
            ]
          },
          "execution_count": 141,
          "metadata": {},
          "output_type": "execute_result"
        }
      ],
      "source": [
        "metrics.accuracy_score(Y_te,Y_SVM )"
      ]
    },
    {
      "cell_type": "code",
      "execution_count": 142,
      "metadata": {
        "colab": {},
        "colab_type": "code",
        "id": "1zfgY4HTiLMX",
        "outputId": "657b4932-7b62-4697-f567-80477a883acd"
      },
      "outputs": [
        {
          "name": "stdout",
          "output_type": "stream",
          "text": [
            "Confusion Matrix - Without PCA, SVM\n"
          ]
        },
        {
          "data": {
            "text/plain": [
              "array([[ 1,  0,  0,  0,  0],\n",
              "       [ 0, 23,  2,  0,  0],\n",
              "       [ 0,  4, 55,  0,  0],\n",
              "       [ 0,  0,  6,  4,  0],\n",
              "       [ 0,  0,  0,  0,  6]], dtype=int64)"
            ]
          },
          "execution_count": 142,
          "metadata": {},
          "output_type": "execute_result"
        }
      ],
      "source": [
        "from sklearn.metrics import confusion_matrix\n",
        "print(\"Confusion Matrix - Without PCA, SVM\")\n",
        "confusion_matrix(Y_te, Y_SVM)"
      ]
    },
    {
      "cell_type": "code",
      "execution_count": 143,
      "metadata": {
        "colab": {},
        "colab_type": "code",
        "id": "Jg18I_cOiLMa",
        "outputId": "cc253e89-6a4d-4e1f-bea4-3fa8ad5308b6"
      },
      "outputs": [
        {
          "data": {
            "text/plain": [
              "306"
            ]
          },
          "execution_count": 143,
          "metadata": {},
          "output_type": "execute_result"
        }
      ],
      "source": [
        "len(df)"
      ]
    },
    {
      "attachments": {},
      "cell_type": "markdown",
      "metadata": {
        "colab_type": "text",
        "id": "pysxpfULiLMf"
      },
      "source": [
        "## PCA"
      ]
    },
    {
      "cell_type": "code",
      "execution_count": 144,
      "metadata": {
        "colab": {},
        "colab_type": "code",
        "id": "uX5I2EQBiLMg",
        "outputId": "b695b6e9-2406-4c32-96d0-6ed101a6fccd",
        "scrolled": true
      },
      "outputs": [
        {
          "data": {
            "text/html": [
              "<div>\n",
              "<style scoped>\n",
              "    .dataframe tbody tr th:only-of-type {\n",
              "        vertical-align: middle;\n",
              "    }\n",
              "\n",
              "    .dataframe tbody tr th {\n",
              "        vertical-align: top;\n",
              "    }\n",
              "\n",
              "    .dataframe thead th {\n",
              "        text-align: right;\n",
              "    }\n",
              "</style>\n",
              "<table border=\"1\" class=\"dataframe\">\n",
              "  <thead>\n",
              "    <tr style=\"text-align: right;\">\n",
              "      <th></th>\n",
              "      <th>P1</th>\n",
              "      <th>P2</th>\n",
              "      <th>P3</th>\n",
              "      <th>P4</th>\n",
              "      <th>P5</th>\n",
              "      <th>P6</th>\n",
              "    </tr>\n",
              "  </thead>\n",
              "  <tbody>\n",
              "    <tr>\n",
              "      <th>0</th>\n",
              "      <td>-0.139420</td>\n",
              "      <td>0.104261</td>\n",
              "      <td>0.188567</td>\n",
              "      <td>-0.826338</td>\n",
              "      <td>-0.848795</td>\n",
              "      <td>-0.858085</td>\n",
              "    </tr>\n",
              "    <tr>\n",
              "      <th>1</th>\n",
              "      <td>-0.413390</td>\n",
              "      <td>-0.481051</td>\n",
              "      <td>-0.203087</td>\n",
              "      <td>1.014417</td>\n",
              "      <td>1.290395</td>\n",
              "      <td>0.475067</td>\n",
              "    </tr>\n",
              "    <tr>\n",
              "      <th>2</th>\n",
              "      <td>-1.733305</td>\n",
              "      <td>-0.126021</td>\n",
              "      <td>2.867454</td>\n",
              "      <td>0.225085</td>\n",
              "      <td>1.229640</td>\n",
              "      <td>-0.366729</td>\n",
              "    </tr>\n",
              "    <tr>\n",
              "      <th>3</th>\n",
              "      <td>-1.067436</td>\n",
              "      <td>-0.504838</td>\n",
              "      <td>0.688275</td>\n",
              "      <td>-0.588330</td>\n",
              "      <td>-1.556505</td>\n",
              "      <td>-0.450034</td>\n",
              "    </tr>\n",
              "    <tr>\n",
              "      <th>4</th>\n",
              "      <td>-0.616119</td>\n",
              "      <td>-0.346936</td>\n",
              "      <td>-0.256177</td>\n",
              "      <td>-1.617961</td>\n",
              "      <td>0.771238</td>\n",
              "      <td>0.876616</td>\n",
              "    </tr>\n",
              "    <tr>\n",
              "      <th>...</th>\n",
              "      <td>...</td>\n",
              "      <td>...</td>\n",
              "      <td>...</td>\n",
              "      <td>...</td>\n",
              "      <td>...</td>\n",
              "      <td>...</td>\n",
              "    </tr>\n",
              "    <tr>\n",
              "      <th>301</th>\n",
              "      <td>1.977353</td>\n",
              "      <td>-4.795627</td>\n",
              "      <td>-0.350200</td>\n",
              "      <td>0.796704</td>\n",
              "      <td>0.179226</td>\n",
              "      <td>-0.634102</td>\n",
              "    </tr>\n",
              "    <tr>\n",
              "      <th>302</th>\n",
              "      <td>-2.025788</td>\n",
              "      <td>1.497088</td>\n",
              "      <td>-0.460307</td>\n",
              "      <td>1.199157</td>\n",
              "      <td>-0.316646</td>\n",
              "      <td>0.894328</td>\n",
              "    </tr>\n",
              "    <tr>\n",
              "      <th>303</th>\n",
              "      <td>-2.088263</td>\n",
              "      <td>0.508040</td>\n",
              "      <td>-2.562606</td>\n",
              "      <td>0.674536</td>\n",
              "      <td>-0.013164</td>\n",
              "      <td>-1.160048</td>\n",
              "    </tr>\n",
              "    <tr>\n",
              "      <th>304</th>\n",
              "      <td>-0.974129</td>\n",
              "      <td>-1.331686</td>\n",
              "      <td>0.610055</td>\n",
              "      <td>-0.845620</td>\n",
              "      <td>0.340520</td>\n",
              "      <td>-0.504591</td>\n",
              "    </tr>\n",
              "    <tr>\n",
              "      <th>305</th>\n",
              "      <td>0.446935</td>\n",
              "      <td>-4.048071</td>\n",
              "      <td>0.837911</td>\n",
              "      <td>0.442985</td>\n",
              "      <td>0.352628</td>\n",
              "      <td>1.125005</td>\n",
              "    </tr>\n",
              "  </tbody>\n",
              "</table>\n",
              "<p>306 rows × 6 columns</p>\n",
              "</div>"
            ],
            "text/plain": [
              "           P1        P2        P3        P4        P5        P6\n",
              "0   -0.139420  0.104261  0.188567 -0.826338 -0.848795 -0.858085\n",
              "1   -0.413390 -0.481051 -0.203087  1.014417  1.290395  0.475067\n",
              "2   -1.733305 -0.126021  2.867454  0.225085  1.229640 -0.366729\n",
              "3   -1.067436 -0.504838  0.688275 -0.588330 -1.556505 -0.450034\n",
              "4   -0.616119 -0.346936 -0.256177 -1.617961  0.771238  0.876616\n",
              "..        ...       ...       ...       ...       ...       ...\n",
              "301  1.977353 -4.795627 -0.350200  0.796704  0.179226 -0.634102\n",
              "302 -2.025788  1.497088 -0.460307  1.199157 -0.316646  0.894328\n",
              "303 -2.088263  0.508040 -2.562606  0.674536 -0.013164 -1.160048\n",
              "304 -0.974129 -1.331686  0.610055 -0.845620  0.340520 -0.504591\n",
              "305  0.446935 -4.048071  0.837911  0.442985  0.352628  1.125005\n",
              "\n",
              "[306 rows x 6 columns]"
            ]
          },
          "execution_count": 144,
          "metadata": {},
          "output_type": "execute_result"
        }
      ],
      "source": [
        "pca = PCA(n_components=6)\n",
        "pCz = pca.fit_transform(df)\n",
        "pCza=pd.DataFrame(data=pCz,columns=['P1','P2','P3','P4','P5','P6'])\n",
        "pCza"
      ]
    },
    {
      "cell_type": "code",
      "execution_count": 145,
      "metadata": {
        "colab": {},
        "colab_type": "code",
        "id": "OeKicZVAiLMm"
      },
      "outputs": [],
      "source": [
        "#With PCA\n",
        "X_train , X_test , Y_train , Y_test=train_test_split(pCza,y_pred,test_size=0.33,random_state=0)"
      ]
    },
    {
      "cell_type": "code",
      "execution_count": 146,
      "metadata": {
        "colab": {},
        "colab_type": "code",
        "id": "3i2maFT1iLMo"
      },
      "outputs": [],
      "source": [
        "pca = PCA(n_components=2)\n",
        "pCTze = pca.fit_transform(X_test)\n",
        "pCTzae=pd.DataFrame(data=pCTze,columns=['G1','G2'])"
      ]
    },
    {
      "cell_type": "code",
      "execution_count": 147,
      "metadata": {
        "colab": {},
        "colab_type": "code",
        "id": "UF86u9QjiLMr",
        "outputId": "a8c7f4d3-67ba-4f5a-9039-5db79f0e0315"
      },
      "outputs": [
        {
          "data": {
            "image/png": "[encoded data removed]",
            "text/plain": [
              "<Figure size 640x480 with 1 Axes>"
            ]
          },
          "metadata": {},
          "output_type": "display_data"
        }
      ],
      "source": [
        "colormapS = np.array(['Red', 'Blue', 'Green', 'Black', 'grey'])\n",
        "k = plt.scatter(pCTzae.G1 , pCTzae.G2, c = colormapS[Y_test])\n",
        "plt.title('Y_test with PCA{grey=very low,black=low,green=medium,blue=high,red=very high}')\n",
        "plt.xlabel('x')\n",
        "plt.ylabel('y')\n",
        "plt.show()"
      ]
    },
    {
      "attachments": {},
      "cell_type": "markdown",
      "metadata": {
        "colab_type": "text",
        "id": "x0qrDGzCiLMu"
      },
      "source": [
        "## Logistic Regression with PCA"
      ]
    },
    {
      "cell_type": "code",
      "execution_count": 148,
      "metadata": {
        "colab": {},
        "colab_type": "code",
        "id": "bAiNZ69tiLMu",
        "outputId": "2ac14db5-ed4c-4559-aa75-546b3013ee00"
      },
      "outputs": [
        {
          "data": {
            "text/html": [
              "<style>#sk-container-id-13 {color: black;background-color: white;}#sk-container-id-13 pre{padding: 0;}#sk-container-id-13 div.sk-toggleable {background-color: white;}#sk-container-id-13 label.sk-toggleable__label {cursor: pointer;display: block;width: 100%;margin-bottom: 0;padding: 0.3em;box-sizing: border-box;text-align: center;}#sk-container-id-13 label.sk-toggleable__label-arrow:before {content: \"▸\";float: left;margin-right: 0.25em;color: #696969;}#sk-container-id-13 label.sk-toggleable__label-arrow:hover:before {color: black;}#sk-container-id-13 div.sk-estimator:hover label.sk-toggleable__label-arrow:before {color: black;}#sk-container-id-13 div.sk-toggleable__content {max-height: 0;max-width: 0;overflow: hidden;text-align: left;background-color: #f0f8ff;}#sk-container-id-13 div.sk-toggleable__content pre {margin: 0.2em;color: black;border-radius: 0.25em;background-color: #f0f8ff;}#sk-container-id-13 input.sk-toggleable__control:checked~div.sk-toggleable__content {max-height: 200px;max-width: 100%;overflow: auto;}#sk-container-id-13 input.sk-toggleable__control:checked~label.sk-toggleable__label-arrow:before {content: \"▾\";}#sk-container-id-13 div.sk-estimator input.sk-toggleable__control:checked~label.sk-toggleable__label {background-color: #d4ebff;}#sk-container-id-13 div.sk-label input.sk-toggleable__control:checked~label.sk-toggleable__label {background-color: #d4ebff;}#sk-container-id-13 input.sk-hidden--visually {border: 0;clip: rect(1px 1px 1px 1px);clip: rect(1px, 1px, 1px, 1px);height: 1px;margin: -1px;overflow: hidden;padding: 0;position: absolute;width: 1px;}#sk-container-id-13 div.sk-estimator {font-family: monospace;background-color: #f0f8ff;border: 1px dotted black;border-radius: 0.25em;box-sizing: border-box;margin-bottom: 0.5em;}#sk-container-id-13 div.sk-estimator:hover {background-color: #d4ebff;}#sk-container-id-13 div.sk-parallel-item::after {content: \"\";width: 100%;border-bottom: 1px solid gray;flex-grow: 1;}#sk-container-id-13 div.sk-label:hover label.sk-toggleable__label {background-color: #d4ebff;}#sk-container-id-13 div.sk-serial::before {content: \"\";position: absolute;border-left: 1px solid gray;box-sizing: border-box;top: 0;bottom: 0;left: 50%;z-index: 0;}#sk-container-id-13 div.sk-serial {display: flex;flex-direction: column;align-items: center;background-color: white;padding-right: 0.2em;padding-left: 0.2em;position: relative;}#sk-container-id-13 div.sk-item {position: relative;z-index: 1;}#sk-container-id-13 div.sk-parallel {display: flex;align-items: stretch;justify-content: center;background-color: white;position: relative;}#sk-container-id-13 div.sk-item::before, #sk-container-id-13 div.sk-parallel-item::before {content: \"\";position: absolute;border-left: 1px solid gray;box-sizing: border-box;top: 0;bottom: 0;left: 50%;z-index: -1;}#sk-container-id-13 div.sk-parallel-item {display: flex;flex-direction: column;z-index: 1;position: relative;background-color: white;}#sk-container-id-13 div.sk-parallel-item:first-child::after {align-self: flex-end;width: 50%;}#sk-container-id-13 div.sk-parallel-item:last-child::after {align-self: flex-start;width: 50%;}#sk-container-id-13 div.sk-parallel-item:only-child::after {width: 0;}#sk-container-id-13 div.sk-dashed-wrapped {border: 1px dashed gray;margin: 0 0.4em 0.5em 0.4em;box-sizing: border-box;padding-bottom: 0.4em;background-color: white;}#sk-container-id-13 div.sk-label label {font-family: monospace;font-weight: bold;display: inline-block;line-height: 1.2em;}#sk-container-id-13 div.sk-label-container {text-align: center;}#sk-container-id-13 div.sk-container {/* jupyter's `normalize.less` sets `[hidden] { display: none; }` but bootstrap.min.css set `[hidden] { display: none !important; }` so we also need the `!important` here to be able to override the default hidden behavior on the sphinx rendered scikit-learn.org. See: https://github.com/scikit-learn/scikit-learn/issues/21755 */display: inline-block !important;position: relative;}#sk-container-id-13 div.sk-text-repr-fallback {display: none;}</style><div id=\"sk-container-id-13\" class=\"sk-top-container\"><div class=\"sk-text-repr-fallback\"><pre>LogisticRegression()</pre><b>In a Jupyter environment, please rerun this cell to show the HTML representation or trust the notebook. <br />On GitHub, the HTML representation is unable to render, please try loading this page with nbviewer.org.</b></div><div class=\"sk-container\" hidden><div class=\"sk-item\"><div class=\"sk-estimator sk-toggleable\"><input class=\"sk-toggleable__control sk-hidden--visually\" id=\"sk-estimator-id-13\" type=\"checkbox\" checked><label for=\"sk-estimator-id-13\" class=\"sk-toggleable__label sk-toggleable__label-arrow\">LogisticRegression</label><div class=\"sk-toggleable__content\"><pre>LogisticRegression()</pre></div></div></div></div></div>"
            ],
            "text/plain": [
              "LogisticRegression()"
            ]
          },
          "execution_count": 148,
          "metadata": {},
          "output_type": "execute_result"
        }
      ],
      "source": [
        "logisticRegr = LogisticRegression()\n",
        "logisticRegr.fit(X_train,Y_train)"
      ]
    },
    {
      "cell_type": "code",
      "execution_count": 149,
      "metadata": {
        "colab": {},
        "colab_type": "code",
        "id": "MvWsC6t1iLMx"
      },
      "outputs": [],
      "source": [
        "Y_log1=logisticRegr.predict(X_test)"
      ]
    },
    {
      "cell_type": "code",
      "execution_count": 150,
      "metadata": {
        "colab": {},
        "colab_type": "code",
        "id": "7d8cnfDEiLM3",
        "outputId": "45e4bfb4-989d-4e58-c2c9-be756dd9f85b"
      },
      "outputs": [
        {
          "data": {
            "text/plain": [
              "array([2, 1, 1, 2, 2, 2, 2, 1, 2, 2, 2, 2, 4, 2, 2, 1, 1, 4, 2, 2, 2, 4,\n",
              "       2, 1, 1, 4, 2, 1, 3, 2, 2, 2, 3, 2, 2, 1, 2, 1, 2, 2, 2, 4, 3, 1,\n",
              "       4, 3, 1, 2, 2, 4, 3, 2, 2, 2, 2, 4, 2, 3, 2, 1, 2, 2, 2, 2, 2, 1,\n",
              "       4, 3, 2, 2, 1, 1, 1, 2, 1, 2, 2, 1, 1, 1, 2, 2, 2, 2, 0, 1, 2, 2,\n",
              "       2, 2, 2, 2, 2, 2, 1, 1, 2, 1, 2, 2, 1])"
            ]
          },
          "execution_count": 150,
          "metadata": {},
          "output_type": "execute_result"
        }
      ],
      "source": [
        "Y_log1"
      ]
    },
    {
      "cell_type": "code",
      "execution_count": 151,
      "metadata": {
        "colab": {},
        "colab_type": "code",
        "id": "8sV-a05kiLM_",
        "outputId": "873c03cb-8d4b-4e6b-a1c3-80ec9e47e7fb"
      },
      "outputs": [
        {
          "data": {
            "image/png": "[encoded data removed]",
            "text/plain": [
              "<Figure size 640x480 with 1 Axes>"
            ]
          },
          "metadata": {},
          "output_type": "display_data"
        }
      ],
      "source": [
        "colormapS = np.array(['Red', 'Blue', 'Green', 'Black', 'grey'])\n",
        "k = plt.scatter(pCTzae.G1 , pCTzae.G2, c = colormapS[Y_log1])\n",
        "plt.title('LogR. with PCA{grey=very low,black=low,green=medium,blue=high,red=very high}')\n",
        "plt.xlabel('x')\n",
        "plt.ylabel('y')\n",
        "plt.show()"
      ]
    },
    {
      "cell_type": "code",
      "execution_count": 152,
      "metadata": {
        "colab": {},
        "colab_type": "code",
        "id": "mb3WBPh2iLNC",
        "outputId": "e812eeaf-aa98-468a-b89c-ecc9acfdf085"
      },
      "outputs": [
        {
          "data": {
            "text/plain": [
              "0.9207920792079208"
            ]
          },
          "execution_count": 152,
          "metadata": {},
          "output_type": "execute_result"
        }
      ],
      "source": [
        "logisticRegr.score(X_test,Y_test)"
      ]
    },
    {
      "cell_type": "code",
      "execution_count": 153,
      "metadata": {
        "colab": {},
        "colab_type": "code",
        "id": "JBf_SCOFiLNI",
        "outputId": "6279e2c8-84db-4f36-978e-a8752e2caa88"
      },
      "outputs": [
        {
          "name": "stdout",
          "output_type": "stream",
          "text": [
            "Confusion Matrix - With PCA, Logistic Regresssion\n"
          ]
        },
        {
          "data": {
            "text/plain": [
              "array([[ 1,  0,  0,  0,  0],\n",
              "       [ 0, 23,  2,  0,  0],\n",
              "       [ 0,  3, 56,  0,  0],\n",
              "       [ 0,  0,  0,  7,  3],\n",
              "       [ 0,  0,  0,  0,  6]], dtype=int64)"
            ]
          },
          "execution_count": 153,
          "metadata": {},
          "output_type": "execute_result"
        }
      ],
      "source": [
        "from sklearn.metrics import confusion_matrix\n",
        "print(\"Confusion Matrix - With PCA, Logistic Regresssion\")\n",
        "confusion_matrix(Y_test, Y_log1)"
      ]
    },
    {
      "attachments": {},
      "cell_type": "markdown",
      "metadata": {
        "colab_type": "text",
        "id": "bfFRX2dYiLNN"
      },
      "source": [
        "## SVM with PCA"
      ]
    },
    {
      "cell_type": "code",
      "execution_count": 154,
      "metadata": {
        "colab": {},
        "colab_type": "code",
        "id": "ZU_se-g8iLNO",
        "outputId": "e9d17ee0-02b5-47fb-b18b-8dc56364ec59"
      },
      "outputs": [
        {
          "data": {
            "text/html": [
              "<style>#sk-container-id-14 {color: black;background-color: white;}#sk-container-id-14 pre{padding: 0;}#sk-container-id-14 div.sk-toggleable {background-color: white;}#sk-container-id-14 label.sk-toggleable__label {cursor: pointer;display: block;width: 100%;margin-bottom: 0;padding: 0.3em;box-sizing: border-box;text-align: center;}#sk-container-id-14 label.sk-toggleable__label-arrow:before {content: \"▸\";float: left;margin-right: 0.25em;color: #696969;}#sk-container-id-14 label.sk-toggleable__label-arrow:hover:before {color: black;}#sk-container-id-14 div.sk-estimator:hover label.sk-toggleable__label-arrow:before {color: black;}#sk-container-id-14 div.sk-toggleable__content {max-height: 0;max-width: 0;overflow: hidden;text-align: left;background-color: #f0f8ff;}#sk-container-id-14 div.sk-toggleable__content pre {margin: 0.2em;color: black;border-radius: 0.25em;background-color: #f0f8ff;}#sk-container-id-14 input.sk-toggleable__control:checked~div.sk-toggleable__content {max-height: 200px;max-width: 100%;overflow: auto;}#sk-container-id-14 input.sk-toggleable__control:checked~label.sk-toggleable__label-arrow:before {content: \"▾\";}#sk-container-id-14 div.sk-estimator input.sk-toggleable__control:checked~label.sk-toggleable__label {background-color: #d4ebff;}#sk-container-id-14 div.sk-label input.sk-toggleable__control:checked~label.sk-toggleable__label {background-color: #d4ebff;}#sk-container-id-14 input.sk-hidden--visually {border: 0;clip: rect(1px 1px 1px 1px);clip: rect(1px, 1px, 1px, 1px);height: 1px;margin: -1px;overflow: hidden;padding: 0;position: absolute;width: 1px;}#sk-container-id-14 div.sk-estimator {font-family: monospace;background-color: #f0f8ff;border: 1px dotted black;border-radius: 0.25em;box-sizing: border-box;margin-bottom: 0.5em;}#sk-container-id-14 div.sk-estimator:hover {background-color: #d4ebff;}#sk-container-id-14 div.sk-parallel-item::after {content: \"\";width: 100%;border-bottom: 1px solid gray;flex-grow: 1;}#sk-container-id-14 div.sk-label:hover label.sk-toggleable__label {background-color: #d4ebff;}#sk-container-id-14 div.sk-serial::before {content: \"\";position: absolute;border-left: 1px solid gray;box-sizing: border-box;top: 0;bottom: 0;left: 50%;z-index: 0;}#sk-container-id-14 div.sk-serial {display: flex;flex-direction: column;align-items: center;background-color: white;padding-right: 0.2em;padding-left: 0.2em;position: relative;}#sk-container-id-14 div.sk-item {position: relative;z-index: 1;}#sk-container-id-14 div.sk-parallel {display: flex;align-items: stretch;justify-content: center;background-color: white;position: relative;}#sk-container-id-14 div.sk-item::before, #sk-container-id-14 div.sk-parallel-item::before {content: \"\";position: absolute;border-left: 1px solid gray;box-sizing: border-box;top: 0;bottom: 0;left: 50%;z-index: -1;}#sk-container-id-14 div.sk-parallel-item {display: flex;flex-direction: column;z-index: 1;position: relative;background-color: white;}#sk-container-id-14 div.sk-parallel-item:first-child::after {align-self: flex-end;width: 50%;}#sk-container-id-14 div.sk-parallel-item:last-child::after {align-self: flex-start;width: 50%;}#sk-container-id-14 div.sk-parallel-item:only-child::after {width: 0;}#sk-container-id-14 div.sk-dashed-wrapped {border: 1px dashed gray;margin: 0 0.4em 0.5em 0.4em;box-sizing: border-box;padding-bottom: 0.4em;background-color: white;}#sk-container-id-14 div.sk-label label {font-family: monospace;font-weight: bold;display: inline-block;line-height: 1.2em;}#sk-container-id-14 div.sk-label-container {text-align: center;}#sk-container-id-14 div.sk-container {/* jupyter's `normalize.less` sets `[hidden] { display: none; }` but bootstrap.min.css set `[hidden] { display: none !important; }` so we also need the `!important` here to be able to override the default hidden behavior on the sphinx rendered scikit-learn.org. See: https://github.com/scikit-learn/scikit-learn/issues/21755 */display: inline-block !important;position: relative;}#sk-container-id-14 div.sk-text-repr-fallback {display: none;}</style><div id=\"sk-container-id-14\" class=\"sk-top-container\"><div class=\"sk-text-repr-fallback\"><pre>SVC()</pre><b>In a Jupyter environment, please rerun this cell to show the HTML representation or trust the notebook. <br />On GitHub, the HTML representation is unable to render, please try loading this page with nbviewer.org.</b></div><div class=\"sk-container\" hidden><div class=\"sk-item\"><div class=\"sk-estimator sk-toggleable\"><input class=\"sk-toggleable__control sk-hidden--visually\" id=\"sk-estimator-id-14\" type=\"checkbox\" checked><label for=\"sk-estimator-id-14\" class=\"sk-toggleable__label sk-toggleable__label-arrow\">SVC</label><div class=\"sk-toggleable__content\"><pre>SVC()</pre></div></div></div></div></div>"
            ],
            "text/plain": [
              "SVC()"
            ]
          },
          "execution_count": 154,
          "metadata": {},
          "output_type": "execute_result"
        }
      ],
      "source": [
        "clf = svm.SVC()\n",
        "clf.fit(X_train, Y_train)"
      ]
    },
    {
      "cell_type": "code",
      "execution_count": 155,
      "metadata": {
        "colab": {},
        "colab_type": "code",
        "id": "LJhtQdWfiLNR"
      },
      "outputs": [],
      "source": [
        "Y_svc = clf.predict(X_test)"
      ]
    },
    {
      "cell_type": "code",
      "execution_count": 156,
      "metadata": {
        "colab": {},
        "colab_type": "code",
        "id": "HD5UXA2AiLNT",
        "outputId": "fe0e1fa6-e088-4354-be3d-8eb200c98d34"
      },
      "outputs": [
        {
          "data": {
            "image/png": "[encoded data removed]",
            "text/plain": [
              "<Figure size 640x480 with 1 Axes>"
            ]
          },
          "metadata": {},
          "output_type": "display_data"
        }
      ],
      "source": [
        "colormapS = np.array(['Red', 'Blue', 'Green', 'Black', 'grey'])\n",
        "k = plt.scatter(pCTzae.G1 , pCTzae.G2, c = colormapS[Y_svc])\n",
        "plt.title('SVM with PCA {grey=very low,black=low,green=medium,blue=high,red=very high}')\n",
        "plt.xlabel('x')\n",
        "plt.ylabel('y')\n",
        "plt.show()"
      ]
    },
    {
      "cell_type": "code",
      "execution_count": 157,
      "metadata": {
        "colab": {},
        "colab_type": "code",
        "id": "CIgow3VSiLNW",
        "outputId": "4d1e2f96-7c65-4548-8a61-18d5ca3934b9"
      },
      "outputs": [
        {
          "data": {
            "text/plain": [
              "0.9405940594059405"
            ]
          },
          "execution_count": 157,
          "metadata": {},
          "output_type": "execute_result"
        }
      ],
      "source": [
        "metrics.accuracy_score(Y_test,Y_svc)"
      ]
    },
    {
      "cell_type": "code",
      "execution_count": 158,
      "metadata": {
        "colab": {},
        "colab_type": "code",
        "id": "awXArAcViLNZ",
        "outputId": "2934874a-280c-4315-f67b-06f6af6dc131"
      },
      "outputs": [
        {
          "name": "stdout",
          "output_type": "stream",
          "text": [
            "Confusion Matrix - With PCA, SVM\n"
          ]
        },
        {
          "data": {
            "text/plain": [
              "array([[ 1,  0,  0,  0,  0],\n",
              "       [ 0, 25,  0,  0,  0],\n",
              "       [ 0,  4, 55,  0,  0],\n",
              "       [ 0,  0,  2,  8,  0],\n",
              "       [ 0,  0,  0,  0,  6]], dtype=int64)"
            ]
          },
          "execution_count": 158,
          "metadata": {},
          "output_type": "execute_result"
        }
      ],
      "source": [
        "from sklearn.metrics import confusion_matrix\n",
        "print(\"Confusion Matrix - With PCA, SVM\")\n",
        "confusion_matrix(Y_test, Y_svc)"
      ]
    },
    {
      "attachments": {},
      "cell_type": "markdown",
      "metadata": {
        "colab_type": "text",
        "id": "z-SGN7vJiLNb"
      },
      "source": [
        "## Random Forest without PCA"
      ]
    },
    {
      "cell_type": "code",
      "execution_count": 159,
      "metadata": {
        "colab": {},
        "colab_type": "code",
        "id": "nlO-zu_ZiLNc"
      },
      "outputs": [],
      "source": [
        "from sklearn.ensemble import RandomForestClassifier"
      ]
    },
    {
      "cell_type": "code",
      "execution_count": 160,
      "metadata": {
        "colab": {},
        "colab_type": "code",
        "id": "4GCC3kV8iLNe"
      },
      "outputs": [],
      "source": [
        "model = RandomForestClassifier()"
      ]
    },
    {
      "cell_type": "code",
      "execution_count": 161,
      "metadata": {
        "colab": {},
        "colab_type": "code",
        "id": "-lq6wYE2iLNi",
        "outputId": "797316d7-6aef-4c43-fdc1-c083a150b6f3"
      },
      "outputs": [
        {
          "data": {
            "text/html": [
              "<style>#sk-container-id-15 {color: black;background-color: white;}#sk-container-id-15 pre{padding: 0;}#sk-container-id-15 div.sk-toggleable {background-color: white;}#sk-container-id-15 label.sk-toggleable__label {cursor: pointer;display: block;width: 100%;margin-bottom: 0;padding: 0.3em;box-sizing: border-box;text-align: center;}#sk-container-id-15 label.sk-toggleable__label-arrow:before {content: \"▸\";float: left;margin-right: 0.25em;color: #696969;}#sk-container-id-15 label.sk-toggleable__label-arrow:hover:before {color: black;}#sk-container-id-15 div.sk-estimator:hover label.sk-toggleable__label-arrow:before {color: black;}#sk-container-id-15 div.sk-toggleable__content {max-height: 0;max-width: 0;overflow: hidden;text-align: left;background-color: #f0f8ff;}#sk-container-id-15 div.sk-toggleable__content pre {margin: 0.2em;color: black;border-radius: 0.25em;background-color: #f0f8ff;}#sk-container-id-15 input.sk-toggleable__control:checked~div.sk-toggleable__content {max-height: 200px;max-width: 100%;overflow: auto;}#sk-container-id-15 input.sk-toggleable__control:checked~label.sk-toggleable__label-arrow:before {content: \"▾\";}#sk-container-id-15 div.sk-estimator input.sk-toggleable__control:checked~label.sk-toggleable__label {background-color: #d4ebff;}#sk-container-id-15 div.sk-label input.sk-toggleable__control:checked~label.sk-toggleable__label {background-color: #d4ebff;}#sk-container-id-15 input.sk-hidden--visually {border: 0;clip: rect(1px 1px 1px 1px);clip: rect(1px, 1px, 1px, 1px);height: 1px;margin: -1px;overflow: hidden;padding: 0;position: absolute;width: 1px;}#sk-container-id-15 div.sk-estimator {font-family: monospace;background-color: #f0f8ff;border: 1px dotted black;border-radius: 0.25em;box-sizing: border-box;margin-bottom: 0.5em;}#sk-container-id-15 div.sk-estimator:hover {background-color: #d4ebff;}#sk-container-id-15 div.sk-parallel-item::after {content: \"\";width: 100%;border-bottom: 1px solid gray;flex-grow: 1;}#sk-container-id-15 div.sk-label:hover label.sk-toggleable__label {background-color: #d4ebff;}#sk-container-id-15 div.sk-serial::before {content: \"\";position: absolute;border-left: 1px solid gray;box-sizing: border-box;top: 0;bottom: 0;left: 50%;z-index: 0;}#sk-container-id-15 div.sk-serial {display: flex;flex-direction: column;align-items: center;background-color: white;padding-right: 0.2em;padding-left: 0.2em;position: relative;}#sk-container-id-15 div.sk-item {position: relative;z-index: 1;}#sk-container-id-15 div.sk-parallel {display: flex;align-items: stretch;justify-content: center;background-color: white;position: relative;}#sk-container-id-15 div.sk-item::before, #sk-container-id-15 div.sk-parallel-item::before {content: \"\";position: absolute;border-left: 1px solid gray;box-sizing: border-box;top: 0;bottom: 0;left: 50%;z-index: -1;}#sk-container-id-15 div.sk-parallel-item {display: flex;flex-direction: column;z-index: 1;position: relative;background-color: white;}#sk-container-id-15 div.sk-parallel-item:first-child::after {align-self: flex-end;width: 50%;}#sk-container-id-15 div.sk-parallel-item:last-child::after {align-self: flex-start;width: 50%;}#sk-container-id-15 div.sk-parallel-item:only-child::after {width: 0;}#sk-container-id-15 div.sk-dashed-wrapped {border: 1px dashed gray;margin: 0 0.4em 0.5em 0.4em;box-sizing: border-box;padding-bottom: 0.4em;background-color: white;}#sk-container-id-15 div.sk-label label {font-family: monospace;font-weight: bold;display: inline-block;line-height: 1.2em;}#sk-container-id-15 div.sk-label-container {text-align: center;}#sk-container-id-15 div.sk-container {/* jupyter's `normalize.less` sets `[hidden] { display: none; }` but bootstrap.min.css set `[hidden] { display: none !important; }` so we also need the `!important` here to be able to override the default hidden behavior on the sphinx rendered scikit-learn.org. See: https://github.com/scikit-learn/scikit-learn/issues/21755 */display: inline-block !important;position: relative;}#sk-container-id-15 div.sk-text-repr-fallback {display: none;}</style><div id=\"sk-container-id-15\" class=\"sk-top-container\"><div class=\"sk-text-repr-fallback\"><pre>RandomForestClassifier()</pre><b>In a Jupyter environment, please rerun this cell to show the HTML representation or trust the notebook. <br />On GitHub, the HTML representation is unable to render, please try loading this page with nbviewer.org.</b></div><div class=\"sk-container\" hidden><div class=\"sk-item\"><div class=\"sk-estimator sk-toggleable\"><input class=\"sk-toggleable__control sk-hidden--visually\" id=\"sk-estimator-id-15\" type=\"checkbox\" checked><label for=\"sk-estimator-id-15\" class=\"sk-toggleable__label sk-toggleable__label-arrow\">RandomForestClassifier</label><div class=\"sk-toggleable__content\"><pre>RandomForestClassifier()</pre></div></div></div></div></div>"
            ],
            "text/plain": [
              "RandomForestClassifier()"
            ]
          },
          "execution_count": 161,
          "metadata": {},
          "output_type": "execute_result"
        }
      ],
      "source": [
        "model.fit(X_t,Y_t)"
      ]
    },
    {
      "cell_type": "code",
      "execution_count": 162,
      "metadata": {
        "colab": {},
        "colab_type": "code",
        "id": "6PrKtGTMiLNm"
      },
      "outputs": [],
      "source": [
        "rf_predictions = model.predict(X_te)"
      ]
    },
    {
      "cell_type": "code",
      "execution_count": 163,
      "metadata": {
        "colab": {},
        "colab_type": "code",
        "id": "nLvRiQZhiLNp",
        "outputId": "46808af8-368f-476a-dc51-360614e9ec94"
      },
      "outputs": [
        {
          "data": {
            "image/png": "[encoded data removed]",
            "text/plain": [
              "<Figure size 640x480 with 1 Axes>"
            ]
          },
          "metadata": {},
          "output_type": "display_data"
        }
      ],
      "source": [
        "colormapS = np.array(['Red', 'Blue', 'Green', 'Black', 'grey'])\n",
        "k = plt.scatter(pCTe1.G1 , pCTe1.G2, c = colormapS[rf_predictions])\n",
        "plt.title('Log.R w/o PCA{grey=very low,black=low,green=medium,blue=high,red=very high}')\n",
        "plt.xlabel('x')\n",
        "plt.ylabel('y')\n",
        "plt.show()"
      ]
    },
    {
      "cell_type": "code",
      "execution_count": 164,
      "metadata": {
        "colab": {},
        "colab_type": "code",
        "id": "HLD2-iqHiLNr",
        "outputId": "74ec4213-8ed8-4351-ff9a-da74613948af"
      },
      "outputs": [
        {
          "data": {
            "text/plain": [
              "0.8514851485148515"
            ]
          },
          "execution_count": 164,
          "metadata": {},
          "output_type": "execute_result"
        }
      ],
      "source": [
        "model.score(X_te,Y_te)"
      ]
    },
    {
      "cell_type": "code",
      "execution_count": 165,
      "metadata": {
        "colab": {},
        "colab_type": "code",
        "id": "1-deY4itiLNt",
        "outputId": "35fb71d2-29b0-4643-fc3f-5b87782a20cb"
      },
      "outputs": [
        {
          "name": "stdout",
          "output_type": "stream",
          "text": [
            "Confusion Matrix - Without PCA, Random Forest\n"
          ]
        },
        {
          "data": {
            "text/plain": [
              "array([[ 1,  0,  0,  0,  0],\n",
              "       [ 0, 18,  7,  0,  0],\n",
              "       [ 0,  1, 57,  1,  0],\n",
              "       [ 0,  0,  6,  4,  0],\n",
              "       [ 0,  0,  0,  0,  6]], dtype=int64)"
            ]
          },
          "execution_count": 165,
          "metadata": {},
          "output_type": "execute_result"
        }
      ],
      "source": [
        "from sklearn.metrics import confusion_matrix\n",
        "print(\"Confusion Matrix - Without PCA, Random Forest\")\n",
        "confusion_matrix(Y_te, rf_predictions)"
      ]
    },
    {
      "attachments": {},
      "cell_type": "markdown",
      "metadata": {},
      "source": [
        "macro_avg = (f1_score_1 + f1_score_2 + ... + f1_score_n) / n\n",
        "weighted_avg = (f1_score_1 * support_1 + f1_score_2 * support_2 + ... + f1_score_n * support_n) / (support_1 + support_2 + ... + support_n)"
      ]
    },
    {
      "cell_type": "code",
      "execution_count": 166,
      "metadata": {
        "colab": {},
        "colab_type": "code",
        "id": "Z2KyQ_RuiLNw",
        "outputId": "83b6a79c-e462-46f8-e63d-da8147c4b7bc"
      },
      "outputs": [
        {
          "name": "stdout",
          "output_type": "stream",
          "text": [
            "              precision    recall  f1-score   support\n",
            "\n",
            "           0       1.00      1.00      1.00         1\n",
            "           1       0.95      0.72      0.82        25\n",
            "           2       0.81      0.97      0.88        59\n",
            "           3       0.80      0.40      0.53        10\n",
            "           4       1.00      1.00      1.00         6\n",
            "\n",
            "    accuracy                           0.85       101\n",
            "   macro avg       0.91      0.82      0.85       101\n",
            "weighted avg       0.86      0.85      0.84       101\n",
            "\n"
          ]
        }
      ],
      "source": [
        "print(classification_report(Y_te, rf_predictions))"
      ]
    },
    {
      "cell_type": "code",
      "execution_count": 167,
      "metadata": {
        "colab": {},
        "colab_type": "code",
        "id": "tOSDSHVKiLNy",
        "outputId": "7f5474d6-dec5-4786-819f-7e8c6607a516"
      },
      "outputs": [
        {
          "data": {
            "text/plain": [
              "0.7408613064045312"
            ]
          },
          "execution_count": 167,
          "metadata": {},
          "output_type": "execute_result"
        }
      ],
      "source": [
        "matthews_corrcoef(Y_te, rf_predictions) "
      ]
    },
    {
      "attachments": {},
      "cell_type": "markdown",
      "metadata": {
        "colab_type": "text",
        "id": "uydr4KOSiLN7"
      },
      "source": [
        "## Naive Bayes without PCA"
      ]
    },
    {
      "cell_type": "code",
      "execution_count": 168,
      "metadata": {
        "colab": {},
        "colab_type": "code",
        "id": "ZFgLE6ITiLN8"
      },
      "outputs": [],
      "source": [
        "from sklearn.naive_bayes import GaussianNB"
      ]
    },
    {
      "cell_type": "code",
      "execution_count": 169,
      "metadata": {
        "colab": {},
        "colab_type": "code",
        "id": "7Gkcd2aQiLN_"
      },
      "outputs": [],
      "source": [
        "model2 = GaussianNB()"
      ]
    },
    {
      "cell_type": "code",
      "execution_count": 170,
      "metadata": {
        "colab": {},
        "colab_type": "code",
        "id": "NL1Rz2__iLOE",
        "outputId": "a5fbd6e7-7ead-440b-d1bb-4ef801da9a0f"
      },
      "outputs": [
        {
          "data": {
            "text/html": [
              "<style>#sk-container-id-16 {color: black;background-color: white;}#sk-container-id-16 pre{padding: 0;}#sk-container-id-16 div.sk-toggleable {background-color: white;}#sk-container-id-16 label.sk-toggleable__label {cursor: pointer;display: block;width: 100%;margin-bottom: 0;padding: 0.3em;box-sizing: border-box;text-align: center;}#sk-container-id-16 label.sk-toggleable__label-arrow:before {content: \"▸\";float: left;margin-right: 0.25em;color: #696969;}#sk-container-id-16 label.sk-toggleable__label-arrow:hover:before {color: black;}#sk-container-id-16 div.sk-estimator:hover label.sk-toggleable__label-arrow:before {color: black;}#sk-container-id-16 div.sk-toggleable__content {max-height: 0;max-width: 0;overflow: hidden;text-align: left;background-color: #f0f8ff;}#sk-container-id-16 div.sk-toggleable__content pre {margin: 0.2em;color: black;border-radius: 0.25em;background-color: #f0f8ff;}#sk-container-id-16 input.sk-toggleable__control:checked~div.sk-toggleable__content {max-height: 200px;max-width: 100%;overflow: auto;}#sk-container-id-16 input.sk-toggleable__control:checked~label.sk-toggleable__label-arrow:before {content: \"▾\";}#sk-container-id-16 div.sk-estimator input.sk-toggleable__control:checked~label.sk-toggleable__label {background-color: #d4ebff;}#sk-container-id-16 div.sk-label input.sk-toggleable__control:checked~label.sk-toggleable__label {background-color: #d4ebff;}#sk-container-id-16 input.sk-hidden--visually {border: 0;clip: rect(1px 1px 1px 1px);clip: rect(1px, 1px, 1px, 1px);height: 1px;margin: -1px;overflow: hidden;padding: 0;position: absolute;width: 1px;}#sk-container-id-16 div.sk-estimator {font-family: monospace;background-color: #f0f8ff;border: 1px dotted black;border-radius: 0.25em;box-sizing: border-box;margin-bottom: 0.5em;}#sk-container-id-16 div.sk-estimator:hover {background-color: #d4ebff;}#sk-container-id-16 div.sk-parallel-item::after {content: \"\";width: 100%;border-bottom: 1px solid gray;flex-grow: 1;}#sk-container-id-16 div.sk-label:hover label.sk-toggleable__label {background-color: #d4ebff;}#sk-container-id-16 div.sk-serial::before {content: \"\";position: absolute;border-left: 1px solid gray;box-sizing: border-box;top: 0;bottom: 0;left: 50%;z-index: 0;}#sk-container-id-16 div.sk-serial {display: flex;flex-direction: column;align-items: center;background-color: white;padding-right: 0.2em;padding-left: 0.2em;position: relative;}#sk-container-id-16 div.sk-item {position: relative;z-index: 1;}#sk-container-id-16 div.sk-parallel {display: flex;align-items: stretch;justify-content: center;background-color: white;position: relative;}#sk-container-id-16 div.sk-item::before, #sk-container-id-16 div.sk-parallel-item::before {content: \"\";position: absolute;border-left: 1px solid gray;box-sizing: border-box;top: 0;bottom: 0;left: 50%;z-index: -1;}#sk-container-id-16 div.sk-parallel-item {display: flex;flex-direction: column;z-index: 1;position: relative;background-color: white;}#sk-container-id-16 div.sk-parallel-item:first-child::after {align-self: flex-end;width: 50%;}#sk-container-id-16 div.sk-parallel-item:last-child::after {align-self: flex-start;width: 50%;}#sk-container-id-16 div.sk-parallel-item:only-child::after {width: 0;}#sk-container-id-16 div.sk-dashed-wrapped {border: 1px dashed gray;margin: 0 0.4em 0.5em 0.4em;box-sizing: border-box;padding-bottom: 0.4em;background-color: white;}#sk-container-id-16 div.sk-label label {font-family: monospace;font-weight: bold;display: inline-block;line-height: 1.2em;}#sk-container-id-16 div.sk-label-container {text-align: center;}#sk-container-id-16 div.sk-container {/* jupyter's `normalize.less` sets `[hidden] { display: none; }` but bootstrap.min.css set `[hidden] { display: none !important; }` so we also need the `!important` here to be able to override the default hidden behavior on the sphinx rendered scikit-learn.org. See: https://github.com/scikit-learn/scikit-learn/issues/21755 */display: inline-block !important;position: relative;}#sk-container-id-16 div.sk-text-repr-fallback {display: none;}</style><div id=\"sk-container-id-16\" class=\"sk-top-container\"><div class=\"sk-text-repr-fallback\"><pre>GaussianNB()</pre><b>In a Jupyter environment, please rerun this cell to show the HTML representation or trust the notebook. <br />On GitHub, the HTML representation is unable to render, please try loading this page with nbviewer.org.</b></div><div class=\"sk-container\" hidden><div class=\"sk-item\"><div class=\"sk-estimator sk-toggleable\"><input class=\"sk-toggleable__control sk-hidden--visually\" id=\"sk-estimator-id-16\" type=\"checkbox\" checked><label for=\"sk-estimator-id-16\" class=\"sk-toggleable__label sk-toggleable__label-arrow\">GaussianNB</label><div class=\"sk-toggleable__content\"><pre>GaussianNB()</pre></div></div></div></div></div>"
            ],
            "text/plain": [
              "GaussianNB()"
            ]
          },
          "execution_count": 170,
          "metadata": {},
          "output_type": "execute_result"
        }
      ],
      "source": [
        "model2.fit(X_t,Y_t)"
      ]
    },
    {
      "cell_type": "code",
      "execution_count": 171,
      "metadata": {
        "colab": {},
        "colab_type": "code",
        "id": "FCU4UZNciLOI"
      },
      "outputs": [],
      "source": [
        "nb_predicted= model2.predict(X_te)"
      ]
    },
    {
      "cell_type": "code",
      "execution_count": 172,
      "metadata": {
        "colab": {},
        "colab_type": "code",
        "id": "l3u9PWfliLOM",
        "outputId": "dca2f9fe-9e76-4f8a-efef-f1590988f144"
      },
      "outputs": [
        {
          "data": {
            "image/png": "[encoded data removed]",
            "text/plain": [
              "<Figure size 640x480 with 1 Axes>"
            ]
          },
          "metadata": {},
          "output_type": "display_data"
        }
      ],
      "source": [
        "colormapS = np.array(['Red', 'Blue', 'Green', 'Black', 'grey'])\n",
        "k = plt.scatter(pCTe1.G1 , pCTe1.G2, c = colormapS[nb_predicted])\n",
        "plt.title('Log.R w/o PCA{grey=very low,black=low,green=medium,blue=high,red=very high}')\n",
        "plt.xlabel('x')\n",
        "plt.ylabel('y')\n",
        "plt.show()"
      ]
    },
    {
      "cell_type": "code",
      "execution_count": 173,
      "metadata": {
        "colab": {},
        "colab_type": "code",
        "id": "1tH2vsb7iLOO",
        "outputId": "8c2fa4c9-56ba-4723-a1bc-8cc4c06f68ef"
      },
      "outputs": [
        {
          "data": {
            "text/plain": [
              "0.8514851485148515"
            ]
          },
          "execution_count": 173,
          "metadata": {},
          "output_type": "execute_result"
        }
      ],
      "source": [
        "model2.score(X_te,Y_te)"
      ]
    },
    {
      "cell_type": "code",
      "execution_count": 174,
      "metadata": {
        "colab": {},
        "colab_type": "code",
        "id": "2VSmlsWliLOU",
        "outputId": "912eee81-9d34-47da-b21e-bd26e438e811"
      },
      "outputs": [
        {
          "name": "stdout",
          "output_type": "stream",
          "text": [
            "Confusion Matrix - Without PCA, Naive Bayes\n"
          ]
        },
        {
          "data": {
            "text/plain": [
              "array([[ 1,  0,  0,  0,  0],\n",
              "       [ 0, 20,  5,  0,  0],\n",
              "       [ 0,  6, 51,  2,  0],\n",
              "       [ 0,  0,  1,  9,  0],\n",
              "       [ 0,  0,  0,  1,  5]], dtype=int64)"
            ]
          },
          "execution_count": 174,
          "metadata": {},
          "output_type": "execute_result"
        }
      ],
      "source": [
        "from sklearn.metrics import confusion_matrix\n",
        "print(\"Confusion Matrix - Without PCA, Naive Bayes\")\n",
        "confusion_matrix(Y_te, nb_predicted)"
      ]
    },
    {
      "cell_type": "code",
      "execution_count": 175,
      "metadata": {
        "colab": {},
        "colab_type": "code",
        "id": "7AXWm7AliLOY",
        "outputId": "da563534-3a12-403a-db23-0419d0da9dc0"
      },
      "outputs": [
        {
          "name": "stdout",
          "output_type": "stream",
          "text": [
            "              precision    recall  f1-score   support\n",
            "\n",
            "           0       1.00      1.00      1.00         1\n",
            "           1       0.77      0.80      0.78        25\n",
            "           2       0.89      0.86      0.88        59\n",
            "           3       0.75      0.90      0.82        10\n",
            "           4       1.00      0.83      0.91         6\n",
            "\n",
            "    accuracy                           0.85       101\n",
            "   macro avg       0.88      0.88      0.88       101\n",
            "weighted avg       0.86      0.85      0.85       101\n",
            "\n"
          ]
        }
      ],
      "source": [
        "print(classification_report(Y_te, nb_predicted))"
      ]
    },
    {
      "cell_type": "code",
      "execution_count": 176,
      "metadata": {
        "colab": {},
        "colab_type": "code",
        "id": "q28ZAaq7iLOc",
        "outputId": "d8473d91-447c-465e-95ca-e34787b74597"
      },
      "outputs": [
        {
          "data": {
            "text/plain": [
              "0.7497248544866357"
            ]
          },
          "execution_count": 176,
          "metadata": {},
          "output_type": "execute_result"
        }
      ],
      "source": [
        "matthews_corrcoef(Y_te, nb_predicted) "
      ]
    },
    {
      "attachments": {},
      "cell_type": "markdown",
      "metadata": {
        "colab_type": "text",
        "id": "h0F76cxViLOe"
      },
      "source": [
        "## Random forest with PCA"
      ]
    },
    {
      "cell_type": "code",
      "execution_count": 177,
      "metadata": {
        "colab": {},
        "colab_type": "code",
        "id": "QG8A2RF5iLOf"
      },
      "outputs": [],
      "source": [
        "model = RandomForestClassifier()"
      ]
    },
    {
      "cell_type": "code",
      "execution_count": 178,
      "metadata": {
        "colab": {},
        "colab_type": "code",
        "id": "2OIZRrb0iLOi",
        "outputId": "fb328b4c-9a35-41fe-bd22-343e61bfde61"
      },
      "outputs": [
        {
          "data": {
            "text/html": [
              "<style>#sk-container-id-17 {color: black;background-color: white;}#sk-container-id-17 pre{padding: 0;}#sk-container-id-17 div.sk-toggleable {background-color: white;}#sk-container-id-17 label.sk-toggleable__label {cursor: pointer;display: block;width: 100%;margin-bottom: 0;padding: 0.3em;box-sizing: border-box;text-align: center;}#sk-container-id-17 label.sk-toggleable__label-arrow:before {content: \"▸\";float: left;margin-right: 0.25em;color: #696969;}#sk-container-id-17 label.sk-toggleable__label-arrow:hover:before {color: black;}#sk-container-id-17 div.sk-estimator:hover label.sk-toggleable__label-arrow:before {color: black;}#sk-container-id-17 div.sk-toggleable__content {max-height: 0;max-width: 0;overflow: hidden;text-align: left;background-color: #f0f8ff;}#sk-container-id-17 div.sk-toggleable__content pre {margin: 0.2em;color: black;border-radius: 0.25em;background-color: #f0f8ff;}#sk-container-id-17 input.sk-toggleable__control:checked~div.sk-toggleable__content {max-height: 200px;max-width: 100%;overflow: auto;}#sk-container-id-17 input.sk-toggleable__control:checked~label.sk-toggleable__label-arrow:before {content: \"▾\";}#sk-container-id-17 div.sk-estimator input.sk-toggleable__control:checked~label.sk-toggleable__label {background-color: #d4ebff;}#sk-container-id-17 div.sk-label input.sk-toggleable__control:checked~label.sk-toggleable__label {background-color: #d4ebff;}#sk-container-id-17 input.sk-hidden--visually {border: 0;clip: rect(1px 1px 1px 1px);clip: rect(1px, 1px, 1px, 1px);height: 1px;margin: -1px;overflow: hidden;padding: 0;position: absolute;width: 1px;}#sk-container-id-17 div.sk-estimator {font-family: monospace;background-color: #f0f8ff;border: 1px dotted black;border-radius: 0.25em;box-sizing: border-box;margin-bottom: 0.5em;}#sk-container-id-17 div.sk-estimator:hover {background-color: #d4ebff;}#sk-container-id-17 div.sk-parallel-item::after {content: \"\";width: 100%;border-bottom: 1px solid gray;flex-grow: 1;}#sk-container-id-17 div.sk-label:hover label.sk-toggleable__label {background-color: #d4ebff;}#sk-container-id-17 div.sk-serial::before {content: \"\";position: absolute;border-left: 1px solid gray;box-sizing: border-box;top: 0;bottom: 0;left: 50%;z-index: 0;}#sk-container-id-17 div.sk-serial {display: flex;flex-direction: column;align-items: center;background-color: white;padding-right: 0.2em;padding-left: 0.2em;position: relative;}#sk-container-id-17 div.sk-item {position: relative;z-index: 1;}#sk-container-id-17 div.sk-parallel {display: flex;align-items: stretch;justify-content: center;background-color: white;position: relative;}#sk-container-id-17 div.sk-item::before, #sk-container-id-17 div.sk-parallel-item::before {content: \"\";position: absolute;border-left: 1px solid gray;box-sizing: border-box;top: 0;bottom: 0;left: 50%;z-index: -1;}#sk-container-id-17 div.sk-parallel-item {display: flex;flex-direction: column;z-index: 1;position: relative;background-color: white;}#sk-container-id-17 div.sk-parallel-item:first-child::after {align-self: flex-end;width: 50%;}#sk-container-id-17 div.sk-parallel-item:last-child::after {align-self: flex-start;width: 50%;}#sk-container-id-17 div.sk-parallel-item:only-child::after {width: 0;}#sk-container-id-17 div.sk-dashed-wrapped {border: 1px dashed gray;margin: 0 0.4em 0.5em 0.4em;box-sizing: border-box;padding-bottom: 0.4em;background-color: white;}#sk-container-id-17 div.sk-label label {font-family: monospace;font-weight: bold;display: inline-block;line-height: 1.2em;}#sk-container-id-17 div.sk-label-container {text-align: center;}#sk-container-id-17 div.sk-container {/* jupyter's `normalize.less` sets `[hidden] { display: none; }` but bootstrap.min.css set `[hidden] { display: none !important; }` so we also need the `!important` here to be able to override the default hidden behavior on the sphinx rendered scikit-learn.org. See: https://github.com/scikit-learn/scikit-learn/issues/21755 */display: inline-block !important;position: relative;}#sk-container-id-17 div.sk-text-repr-fallback {display: none;}</style><div id=\"sk-container-id-17\" class=\"sk-top-container\"><div class=\"sk-text-repr-fallback\"><pre>RandomForestClassifier()</pre><b>In a Jupyter environment, please rerun this cell to show the HTML representation or trust the notebook. <br />On GitHub, the HTML representation is unable to render, please try loading this page with nbviewer.org.</b></div><div class=\"sk-container\" hidden><div class=\"sk-item\"><div class=\"sk-estimator sk-toggleable\"><input class=\"sk-toggleable__control sk-hidden--visually\" id=\"sk-estimator-id-17\" type=\"checkbox\" checked><label for=\"sk-estimator-id-17\" class=\"sk-toggleable__label sk-toggleable__label-arrow\">RandomForestClassifier</label><div class=\"sk-toggleable__content\"><pre>RandomForestClassifier()</pre></div></div></div></div></div>"
            ],
            "text/plain": [
              "RandomForestClassifier()"
            ]
          },
          "execution_count": 178,
          "metadata": {},
          "output_type": "execute_result"
        }
      ],
      "source": [
        "model.fit(X_train,Y_train)"
      ]
    },
    {
      "cell_type": "code",
      "execution_count": 179,
      "metadata": {
        "colab": {},
        "colab_type": "code",
        "id": "omoEfk8OiLOl"
      },
      "outputs": [],
      "source": [
        "rfPCA_predictions = model.predict(X_test)"
      ]
    },
    {
      "cell_type": "code",
      "execution_count": 180,
      "metadata": {
        "colab": {},
        "colab_type": "code",
        "id": "dCfnFr_BiLOq",
        "outputId": "8047686b-843a-474b-e148-7d0ed314ef8c"
      },
      "outputs": [
        {
          "data": {
            "image/png": "[encoded data removed]",
            "text/plain": [
              "<Figure size 640x480 with 1 Axes>"
            ]
          },
          "metadata": {},
          "output_type": "display_data"
        }
      ],
      "source": [
        "colormapS = np.array(['Red', 'Blue', 'Green', 'Black', 'grey'])\n",
        "k = plt.scatter(pCTzae.G1 , pCTzae.G2, c = colormapS[rfPCA_predictions])\n",
        "plt.title('Y_test with PCA{grey=very low,black=low,green=medium,blue=high,red=very high}')\n",
        "plt.xlabel('x')\n",
        "plt.ylabel('y')\n",
        "plt.show()"
      ]
    },
    {
      "cell_type": "code",
      "execution_count": 181,
      "metadata": {
        "colab": {},
        "colab_type": "code",
        "id": "HrDzDHwLiLOs",
        "outputId": "b43e9f0f-b881-4363-ebfd-8b8396582840"
      },
      "outputs": [
        {
          "data": {
            "text/plain": [
              "0.9900990099009901"
            ]
          },
          "execution_count": 181,
          "metadata": {},
          "output_type": "execute_result"
        }
      ],
      "source": [
        "model.score(X_test,Y_test)"
      ]
    },
    {
      "cell_type": "code",
      "execution_count": 182,
      "metadata": {
        "colab": {},
        "colab_type": "code",
        "id": "LSFnJOIiiLOv",
        "outputId": "8a1a7ef8-ab08-463c-8178-7f0318e8355c",
        "scrolled": true
      },
      "outputs": [
        {
          "name": "stdout",
          "output_type": "stream",
          "text": [
            "Confusion Matrix - With PCA, Random Forest\n"
          ]
        },
        {
          "data": {
            "text/plain": [
              "array([[ 1,  0,  0,  0,  0],\n",
              "       [ 0, 25,  0,  0,  0],\n",
              "       [ 0,  0, 59,  0,  0],\n",
              "       [ 0,  0,  0, 10,  0],\n",
              "       [ 0,  0,  0,  1,  5]], dtype=int64)"
            ]
          },
          "execution_count": 182,
          "metadata": {},
          "output_type": "execute_result"
        }
      ],
      "source": [
        "from sklearn.metrics import confusion_matrix\n",
        "print(\"Confusion Matrix - With PCA, Random Forest\")\n",
        "confusion_matrix(Y_test, rfPCA_predictions)"
      ]
    },
    {
      "cell_type": "code",
      "execution_count": 183,
      "metadata": {
        "colab": {},
        "colab_type": "code",
        "id": "n-jIR-BsiLOy",
        "outputId": "bfe70eac-8f37-41ca-9366-83452e0087f9"
      },
      "outputs": [
        {
          "name": "stdout",
          "output_type": "stream",
          "text": [
            "              precision    recall  f1-score   support\n",
            "\n",
            "           0       1.00      1.00      1.00         1\n",
            "           1       1.00      1.00      1.00        25\n",
            "           2       1.00      1.00      1.00        59\n",
            "           3       0.91      1.00      0.95        10\n",
            "           4       1.00      0.83      0.91         6\n",
            "\n",
            "    accuracy                           0.99       101\n",
            "   macro avg       0.98      0.97      0.97       101\n",
            "weighted avg       0.99      0.99      0.99       101\n",
            "\n"
          ]
        }
      ],
      "source": [
        "print(classification_report(Y_test, rfPCA_predictions))"
      ]
    },
    {
      "cell_type": "code",
      "execution_count": 184,
      "metadata": {
        "colab": {},
        "colab_type": "code",
        "id": "f5p5WEVGiLO1",
        "outputId": "61731cd1-6886-4bbd-95e1-c7e69bcef554"
      },
      "outputs": [
        {
          "data": {
            "text/plain": [
              "0.9832020938199315"
            ]
          },
          "execution_count": 184,
          "metadata": {},
          "output_type": "execute_result"
        }
      ],
      "source": [
        "matthews_corrcoef(Y_test, rfPCA_predictions)  "
      ]
    },
    {
      "attachments": {},
      "cell_type": "markdown",
      "metadata": {
        "colab_type": "text",
        "id": "dEe6YtrviLO3"
      },
      "source": [
        "## Naive Bayes with PCA"
      ]
    },
    {
      "cell_type": "code",
      "execution_count": 185,
      "metadata": {
        "colab": {},
        "colab_type": "code",
        "id": "zvw0sYfHiLO4"
      },
      "outputs": [],
      "source": [
        "model2 = GaussianNB()"
      ]
    },
    {
      "cell_type": "code",
      "execution_count": 186,
      "metadata": {
        "colab": {},
        "colab_type": "code",
        "id": "juGIddn5iLO6",
        "outputId": "11146aee-1ca9-461a-9640-4f27cf95da3a"
      },
      "outputs": [
        {
          "data": {
            "text/html": [
              "<style>#sk-container-id-18 {color: black;background-color: white;}#sk-container-id-18 pre{padding: 0;}#sk-container-id-18 div.sk-toggleable {background-color: white;}#sk-container-id-18 label.sk-toggleable__label {cursor: pointer;display: block;width: 100%;margin-bottom: 0;padding: 0.3em;box-sizing: border-box;text-align: center;}#sk-container-id-18 label.sk-toggleable__label-arrow:before {content: \"▸\";float: left;margin-right: 0.25em;color: #696969;}#sk-container-id-18 label.sk-toggleable__label-arrow:hover:before {color: black;}#sk-container-id-18 div.sk-estimator:hover label.sk-toggleable__label-arrow:before {color: black;}#sk-container-id-18 div.sk-toggleable__content {max-height: 0;max-width: 0;overflow: hidden;text-align: left;background-color: #f0f8ff;}#sk-container-id-18 div.sk-toggleable__content pre {margin: 0.2em;color: black;border-radius: 0.25em;background-color: #f0f8ff;}#sk-container-id-18 input.sk-toggleable__control:checked~div.sk-toggleable__content {max-height: 200px;max-width: 100%;overflow: auto;}#sk-container-id-18 input.sk-toggleable__control:checked~label.sk-toggleable__label-arrow:before {content: \"▾\";}#sk-container-id-18 div.sk-estimator input.sk-toggleable__control:checked~label.sk-toggleable__label {background-color: #d4ebff;}#sk-container-id-18 div.sk-label input.sk-toggleable__control:checked~label.sk-toggleable__label {background-color: #d4ebff;}#sk-container-id-18 input.sk-hidden--visually {border: 0;clip: rect(1px 1px 1px 1px);clip: rect(1px, 1px, 1px, 1px);height: 1px;margin: -1px;overflow: hidden;padding: 0;position: absolute;width: 1px;}#sk-container-id-18 div.sk-estimator {font-family: monospace;background-color: #f0f8ff;border: 1px dotted black;border-radius: 0.25em;box-sizing: border-box;margin-bottom: 0.5em;}#sk-container-id-18 div.sk-estimator:hover {background-color: #d4ebff;}#sk-container-id-18 div.sk-parallel-item::after {content: \"\";width: 100%;border-bottom: 1px solid gray;flex-grow: 1;}#sk-container-id-18 div.sk-label:hover label.sk-toggleable__label {background-color: #d4ebff;}#sk-container-id-18 div.sk-serial::before {content: \"\";position: absolute;border-left: 1px solid gray;box-sizing: border-box;top: 0;bottom: 0;left: 50%;z-index: 0;}#sk-container-id-18 div.sk-serial {display: flex;flex-direction: column;align-items: center;background-color: white;padding-right: 0.2em;padding-left: 0.2em;position: relative;}#sk-container-id-18 div.sk-item {position: relative;z-index: 1;}#sk-container-id-18 div.sk-parallel {display: flex;align-items: stretch;justify-content: center;background-color: white;position: relative;}#sk-container-id-18 div.sk-item::before, #sk-container-id-18 div.sk-parallel-item::before {content: \"\";position: absolute;border-left: 1px solid gray;box-sizing: border-box;top: 0;bottom: 0;left: 50%;z-index: -1;}#sk-container-id-18 div.sk-parallel-item {display: flex;flex-direction: column;z-index: 1;position: relative;background-color: white;}#sk-container-id-18 div.sk-parallel-item:first-child::after {align-self: flex-end;width: 50%;}#sk-container-id-18 div.sk-parallel-item:last-child::after {align-self: flex-start;width: 50%;}#sk-container-id-18 div.sk-parallel-item:only-child::after {width: 0;}#sk-container-id-18 div.sk-dashed-wrapped {border: 1px dashed gray;margin: 0 0.4em 0.5em 0.4em;box-sizing: border-box;padding-bottom: 0.4em;background-color: white;}#sk-container-id-18 div.sk-label label {font-family: monospace;font-weight: bold;display: inline-block;line-height: 1.2em;}#sk-container-id-18 div.sk-label-container {text-align: center;}#sk-container-id-18 div.sk-container {/* jupyter's `normalize.less` sets `[hidden] { display: none; }` but bootstrap.min.css set `[hidden] { display: none !important; }` so we also need the `!important` here to be able to override the default hidden behavior on the sphinx rendered scikit-learn.org. See: https://github.com/scikit-learn/scikit-learn/issues/21755 */display: inline-block !important;position: relative;}#sk-container-id-18 div.sk-text-repr-fallback {display: none;}</style><div id=\"sk-container-id-18\" class=\"sk-top-container\"><div class=\"sk-text-repr-fallback\"><pre>GaussianNB()</pre><b>In a Jupyter environment, please rerun this cell to show the HTML representation or trust the notebook. <br />On GitHub, the HTML representation is unable to render, please try loading this page with nbviewer.org.</b></div><div class=\"sk-container\" hidden><div class=\"sk-item\"><div class=\"sk-estimator sk-toggleable\"><input class=\"sk-toggleable__control sk-hidden--visually\" id=\"sk-estimator-id-18\" type=\"checkbox\" checked><label for=\"sk-estimator-id-18\" class=\"sk-toggleable__label sk-toggleable__label-arrow\">GaussianNB</label><div class=\"sk-toggleable__content\"><pre>GaussianNB()</pre></div></div></div></div></div>"
            ],
            "text/plain": [
              "GaussianNB()"
            ]
          },
          "execution_count": 186,
          "metadata": {},
          "output_type": "execute_result"
        }
      ],
      "source": [
        "model2.fit(X_train,Y_train)"
      ]
    },
    {
      "cell_type": "code",
      "execution_count": 187,
      "metadata": {
        "colab": {},
        "colab_type": "code",
        "id": "M4IHqYhuiLO8"
      },
      "outputs": [],
      "source": [
        "nbPCA_predicted= model2.predict(X_test)"
      ]
    },
    {
      "cell_type": "code",
      "execution_count": 188,
      "metadata": {
        "colab": {},
        "colab_type": "code",
        "id": "boyokd0fiLO-",
        "outputId": "cb98d489-57c0-40cc-a4b3-b68a7f8f423c"
      },
      "outputs": [
        {
          "data": {
            "image/png": "[encoded data removed]",
            "text/plain": [
              "<Figure size 640x480 with 1 Axes>"
            ]
          },
          "metadata": {},
          "output_type": "display_data"
        }
      ],
      "source": [
        "colormapS = np.array(['Red', 'Blue', 'Green', 'Black', 'grey'])\n",
        "k = plt.scatter(pCTzae.G1 , pCTzae.G2, c = colormapS[nbPCA_predicted])\n",
        "plt.title('Y_test with PCA{grey=very low,black=low,green=medium,blue=high,red=very high}')\n",
        "plt.xlabel('x')\n",
        "plt.ylabel('y')\n",
        "plt.show()"
      ]
    },
    {
      "cell_type": "code",
      "execution_count": 189,
      "metadata": {
        "colab": {},
        "colab_type": "code",
        "id": "9QbDQWJ5iLPA",
        "outputId": "8ce5192b-7efe-4e77-bc9e-466b6e6a6f00"
      },
      "outputs": [
        {
          "data": {
            "text/plain": [
              "0.8811881188118812"
            ]
          },
          "execution_count": 189,
          "metadata": {},
          "output_type": "execute_result"
        }
      ],
      "source": [
        "model2.score(X_test,Y_test)"
      ]
    },
    {
      "cell_type": "code",
      "execution_count": 192,
      "metadata": {
        "colab": {},
        "colab_type": "code",
        "id": "Cqqqgh03iLPE",
        "outputId": "86a5eb43-8c05-48a0-cfdc-4d7940c292fc"
      },
      "outputs": [
        {
          "name": "stdout",
          "output_type": "stream",
          "text": [
            "Confusion Matrix - With PCA, Naive Bayes\n"
          ]
        },
        {
          "data": {
            "text/plain": [
              "array([[ 1,  0,  0,  0,  0],\n",
              "       [ 0, 24,  1,  0,  0],\n",
              "       [ 0,  7, 51,  1,  0],\n",
              "       [ 0,  0,  1,  7,  2],\n",
              "       [ 0,  0,  0,  0,  6]], dtype=int64)"
            ]
          },
          "execution_count": 192,
          "metadata": {},
          "output_type": "execute_result"
        }
      ],
      "source": [
        "from sklearn.metrics import confusion_matrix\n",
        "print(\"Confusion Matrix - With PCA, Naive Bayes\")\n",
        "confusion_matrix(Y_test, nbPCA_predicted)"
      ]
    },
    {
      "cell_type": "code",
      "execution_count": 193,
      "metadata": {
        "colab": {},
        "colab_type": "code",
        "id": "ixwVUbBhiLPH",
        "outputId": "fac60258-9a43-489d-ca98-7811af5eec9a"
      },
      "outputs": [
        {
          "name": "stdout",
          "output_type": "stream",
          "text": [
            "              precision    recall  f1-score   support\n",
            "\n",
            "           0       1.00      1.00      1.00         1\n",
            "           1       0.77      0.96      0.86        25\n",
            "           2       0.96      0.86      0.91        59\n",
            "           3       0.88      0.70      0.78        10\n",
            "           4       0.75      1.00      0.86         6\n",
            "\n",
            "    accuracy                           0.88       101\n",
            "   macro avg       0.87      0.90      0.88       101\n",
            "weighted avg       0.89      0.88      0.88       101\n",
            "\n"
          ]
        }
      ],
      "source": [
        "print(classification_report(Y_test, nbPCA_predicted))"
      ]
    },
    {
      "cell_type": "code",
      "execution_count": 194,
      "metadata": {
        "colab": {},
        "colab_type": "code",
        "id": "q-FRDmBmiLPK",
        "outputId": "f0928ec6-b5c2-4f44-fc09-96b3be19ff41"
      },
      "outputs": [
        {
          "data": {
            "text/plain": [
              "0.8091277080782436"
            ]
          },
          "execution_count": 194,
          "metadata": {},
          "output_type": "execute_result"
        }
      ],
      "source": [
        "matthews_corrcoef(Y_test, nbPCA_predicted)  "
      ]
    },
    {
      "attachments": {},
      "cell_type": "markdown",
      "metadata": {
        "colab_type": "text",
        "id": "sEzrojfpiLPM"
      },
      "source": [
        "# K-fold cross validation without PCA"
      ]
    },
    {
      "cell_type": "code",
      "execution_count": 195,
      "metadata": {
        "colab": {},
        "colab_type": "code",
        "id": "a336GzxQiLPM",
        "outputId": "714bce2b-a708-451c-9aaa-f9c2f20d8fd6"
      },
      "outputs": [
        {
          "name": "stderr",
          "output_type": "stream",
          "text": [
            "c:\\Users\\DELL\\AppData\\Local\\Programs\\Python\\Python311\\Lib\\site-packages\\sklearn\\model_selection\\_split.py:700: UserWarning: The least populated class in y has only 4 members, which is less than n_splits=5.\n",
            "  warnings.warn(\n",
            "c:\\Users\\DELL\\AppData\\Local\\Programs\\Python\\Python311\\Lib\\site-packages\\sklearn\\model_selection\\_split.py:700: UserWarning: The least populated class in y has only 4 members, which is less than n_splits=5.\n",
            "  warnings.warn(\n"
          ]
        },
        {
          "name": "stdout",
          "output_type": "stream",
          "text": [
            "[0.90322581 0.85245902 0.85245902 0.86885246 0.85245902]\n",
            "0.8658910629296667\n"
          ]
        }
      ],
      "source": [
        "print(cross_val_score(LogisticRegression(solver=\"lbfgs\", multi_class='auto'), df, y_pred,cv=5))\n",
        "print((cross_val_score(LogisticRegression(solver=\"lbfgs\", multi_class='auto'), df, y_pred,cv=5)).mean())"
      ]
    },
    {
      "cell_type": "code",
      "execution_count": 196,
      "metadata": {
        "colab": {},
        "colab_type": "code",
        "id": "Oyf9MPL_iLPO",
        "outputId": "60a72019-9fbc-4bc6-91a4-02f48052059a"
      },
      "outputs": [
        {
          "name": "stdout",
          "output_type": "stream",
          "text": [
            "[0.90322581 0.86885246 0.90163934 0.83606557 0.81967213]\n",
            "0.8658910629296667\n"
          ]
        },
        {
          "name": "stderr",
          "output_type": "stream",
          "text": [
            "c:\\Users\\DELL\\AppData\\Local\\Programs\\Python\\Python311\\Lib\\site-packages\\sklearn\\model_selection\\_split.py:700: UserWarning: The least populated class in y has only 4 members, which is less than n_splits=5.\n",
            "  warnings.warn(\n",
            "c:\\Users\\DELL\\AppData\\Local\\Programs\\Python\\Python311\\Lib\\site-packages\\sklearn\\model_selection\\_split.py:700: UserWarning: The least populated class in y has only 4 members, which is less than n_splits=5.\n",
            "  warnings.warn(\n"
          ]
        }
      ],
      "source": [
        "print(cross_val_score(svm.SVC(gamma='auto'), df, y_pred,cv=5))\n",
        "print((cross_val_score(svm.SVC(gamma='auto'), df, y_pred,cv=5)).mean())"
      ]
    },
    {
      "cell_type": "code",
      "execution_count": 197,
      "metadata": {
        "colab": {},
        "colab_type": "code",
        "id": "J-uN8RSxiLPW",
        "outputId": "538bc3ef-55cf-4905-b7bc-b8c16625e0e1"
      },
      "outputs": [
        {
          "name": "stderr",
          "output_type": "stream",
          "text": [
            "c:\\Users\\DELL\\AppData\\Local\\Programs\\Python\\Python311\\Lib\\site-packages\\sklearn\\model_selection\\_split.py:700: UserWarning: The least populated class in y has only 4 members, which is less than n_splits=5.\n",
            "  warnings.warn(\n"
          ]
        },
        {
          "name": "stdout",
          "output_type": "stream",
          "text": [
            "[0.88709677 0.78688525 0.85245902 0.73770492 0.7704918 ]\n"
          ]
        },
        {
          "name": "stderr",
          "output_type": "stream",
          "text": [
            "c:\\Users\\DELL\\AppData\\Local\\Programs\\Python\\Python311\\Lib\\site-packages\\sklearn\\model_selection\\_split.py:700: UserWarning: The least populated class in y has only 4 members, which is less than n_splits=5.\n",
            "  warnings.warn(\n"
          ]
        },
        {
          "name": "stdout",
          "output_type": "stream",
          "text": [
            "0.7972501322051824\n"
          ]
        }
      ],
      "source": [
        "print((cross_val_score(RandomForestClassifier(n_estimators=40),df, y_pred,cv=5)))\n",
        "print((cross_val_score(RandomForestClassifier(n_estimators=40),df, y_pred,cv=5)).mean())"
      ]
    },
    {
      "cell_type": "code",
      "execution_count": 198,
      "metadata": {
        "colab": {},
        "colab_type": "code",
        "id": "ppzpFB58iLPZ",
        "outputId": "e5d56c99-12a9-485f-cdb6-63c300df2a09"
      },
      "outputs": [
        {
          "name": "stdout",
          "output_type": "stream",
          "text": [
            "[0.85483871 0.80327869 0.95081967 0.80327869 0.75409836]\n",
            "0.833262823902697\n"
          ]
        },
        {
          "name": "stderr",
          "output_type": "stream",
          "text": [
            "c:\\Users\\DELL\\AppData\\Local\\Programs\\Python\\Python311\\Lib\\site-packages\\sklearn\\model_selection\\_split.py:700: UserWarning: The least populated class in y has only 4 members, which is less than n_splits=5.\n",
            "  warnings.warn(\n",
            "c:\\Users\\DELL\\AppData\\Local\\Programs\\Python\\Python311\\Lib\\site-packages\\sklearn\\model_selection\\_split.py:700: UserWarning: The least populated class in y has only 4 members, which is less than n_splits=5.\n",
            "  warnings.warn(\n"
          ]
        }
      ],
      "source": [
        "print(cross_val_score(GaussianNB(),df, y_pred,cv=5))\n",
        "print((cross_val_score(GaussianNB(),df, y_pred,cv=5)).mean())"
      ]
    },
    {
      "attachments": {},
      "cell_type": "markdown",
      "metadata": {
        "colab_type": "text",
        "id": "Uub0nY9eiLPd"
      },
      "source": [
        "# K-fold cross validation with PCA"
      ]
    },
    {
      "cell_type": "code",
      "execution_count": 199,
      "metadata": {
        "colab": {},
        "colab_type": "code",
        "id": "iu1mH1yyiLPd",
        "outputId": "09edb28f-c5c5-4dd0-b140-6e681b510bcc",
        "scrolled": true
      },
      "outputs": [
        {
          "name": "stderr",
          "output_type": "stream",
          "text": [
            "c:\\Users\\DELL\\AppData\\Local\\Programs\\Python\\Python311\\Lib\\site-packages\\sklearn\\model_selection\\_split.py:700: UserWarning: The least populated class in y has only 4 members, which is less than n_splits=5.\n",
            "  warnings.warn(\n"
          ]
        },
        {
          "name": "stdout",
          "output_type": "stream",
          "text": [
            "[0.93548387 0.98360656 0.98360656 0.86885246 0.86885246]\n"
          ]
        },
        {
          "name": "stderr",
          "output_type": "stream",
          "text": [
            "c:\\Users\\DELL\\AppData\\Local\\Programs\\Python\\Python311\\Lib\\site-packages\\sklearn\\model_selection\\_split.py:700: UserWarning: The least populated class in y has only 4 members, which is less than n_splits=5.\n",
            "  warnings.warn(\n"
          ]
        },
        {
          "name": "stdout",
          "output_type": "stream",
          "text": [
            "0.9280803807509252\n"
          ]
        }
      ],
      "source": [
        "print(cross_val_score(LogisticRegression(solver=\"lbfgs\", multi_class='auto'), pCza, y_pred,cv=5))\n",
        "print((cross_val_score(LogisticRegression(solver=\"lbfgs\", multi_class='auto'), pCza, y_pred,cv=5)).mean())"
      ]
    },
    {
      "cell_type": "code",
      "execution_count": 200,
      "metadata": {
        "colab": {},
        "colab_type": "code",
        "id": "E2tUMzzbiLPg",
        "outputId": "30b60d8d-c6e3-41d2-e76e-c5a0fa232d4b"
      },
      "outputs": [
        {
          "name": "stdout",
          "output_type": "stream",
          "text": [
            "[0.88709677 0.95081967 0.86885246 0.83606557 0.81967213]\n",
            "0.8725013220518243\n"
          ]
        },
        {
          "name": "stderr",
          "output_type": "stream",
          "text": [
            "c:\\Users\\DELL\\AppData\\Local\\Programs\\Python\\Python311\\Lib\\site-packages\\sklearn\\model_selection\\_split.py:700: UserWarning: The least populated class in y has only 4 members, which is less than n_splits=5.\n",
            "  warnings.warn(\n",
            "c:\\Users\\DELL\\AppData\\Local\\Programs\\Python\\Python311\\Lib\\site-packages\\sklearn\\model_selection\\_split.py:700: UserWarning: The least populated class in y has only 4 members, which is less than n_splits=5.\n",
            "  warnings.warn(\n"
          ]
        }
      ],
      "source": [
        "print(cross_val_score(svm.SVC(gamma='auto'), pCza, y_pred,cv=5))\n",
        "print((cross_val_score(svm.SVC(gamma='auto'), pCza, y_pred,cv=5)).mean())"
      ]
    },
    {
      "cell_type": "code",
      "execution_count": 201,
      "metadata": {
        "colab": {},
        "colab_type": "code",
        "id": "WEGb_-IsiLPi",
        "outputId": "e4869682-07bc-424c-8aac-143e61c6f496"
      },
      "outputs": [
        {
          "name": "stderr",
          "output_type": "stream",
          "text": [
            "c:\\Users\\DELL\\AppData\\Local\\Programs\\Python\\Python311\\Lib\\site-packages\\sklearn\\model_selection\\_split.py:700: UserWarning: The least populated class in y has only 4 members, which is less than n_splits=5.\n",
            "  warnings.warn(\n"
          ]
        },
        {
          "name": "stdout",
          "output_type": "stream",
          "text": [
            "[0.9516129  0.98360656 0.95081967 1.         0.98360656]\n",
            "0.9804865150713908\n"
          ]
        },
        {
          "name": "stderr",
          "output_type": "stream",
          "text": [
            "c:\\Users\\DELL\\AppData\\Local\\Programs\\Python\\Python311\\Lib\\site-packages\\sklearn\\model_selection\\_split.py:700: UserWarning: The least populated class in y has only 4 members, which is less than n_splits=5.\n",
            "  warnings.warn(\n"
          ]
        }
      ],
      "source": [
        "print((cross_val_score(RandomForestClassifier(n_estimators=15),pCza, y_pred,cv=5)))\n",
        "print((cross_val_score(RandomForestClassifier(n_estimators=15),pCza, y_pred,cv=5)).mean())"
      ]
    },
    {
      "cell_type": "code",
      "execution_count": 202,
      "metadata": {
        "colab": {},
        "colab_type": "code",
        "id": "88szfRJ0iLPk",
        "outputId": "40732ad3-fc19-4f56-aefd-09fb8d614b82",
        "scrolled": true
      },
      "outputs": [
        {
          "name": "stdout",
          "output_type": "stream",
          "text": [
            "[0.90322581 0.96721311 0.90163934 0.86885246 0.90163934]\n",
            "0.908514013749339\n"
          ]
        },
        {
          "name": "stderr",
          "output_type": "stream",
          "text": [
            "c:\\Users\\DELL\\AppData\\Local\\Programs\\Python\\Python311\\Lib\\site-packages\\sklearn\\model_selection\\_split.py:700: UserWarning: The least populated class in y has only 4 members, which is less than n_splits=5.\n",
            "  warnings.warn(\n",
            "c:\\Users\\DELL\\AppData\\Local\\Programs\\Python\\Python311\\Lib\\site-packages\\sklearn\\model_selection\\_split.py:700: UserWarning: The least populated class in y has only 4 members, which is less than n_splits=5.\n",
            "  warnings.warn(\n"
          ]
        }
      ],
      "source": [
        "print(cross_val_score(GaussianNB(),pCza, y_pred,cv=5))\n",
        "print((cross_val_score(GaussianNB(),pCza, y_pred,cv=5)).mean())"
      ]
    }
  ],
  "metadata": {
    "colab": {
      "name": "Stress_detection.ipynb",
      "provenance": []
    },
    "kernelspec": {
      "display_name": "Python 3",
      "language": "python",
      "name": "python3"
    },
    "language_info": {
      "codemirror_mode": {
        "name": "ipython",
        "version": 3
      },
      "file_extension": ".py",
      "mimetype": "text/x-python",
      "name": "python",
      "nbconvert_exporter": "python",
      "pygments_lexer": "ipython3",
      "version": "3.11.2"
    }
  },
  "nbformat": 4,
  "nbformat_minor": 0
}
